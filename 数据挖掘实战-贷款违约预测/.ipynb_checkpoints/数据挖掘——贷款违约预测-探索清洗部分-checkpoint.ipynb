{
 "cells": [
  {
   "cell_type": "code",
   "execution_count": null,
   "metadata": {},
   "outputs": [],
   "source": [
    "import pandas as pd\n",
    "import numpy as np\n",
    "import warnings\n",
    "import os\n",
    "warnings.filterwarnings('ignore')\n"
   ]
  },
  {
   "cell_type": "code",
   "execution_count": null,
   "metadata": {},
   "outputs": [],
   "source": [
    "import seaborn as sns\n",
    "import matplotlib.pyplot as plt\n",
    "\n",
    "# 声明使用 Seaborn 样式\n",
    "sns.set()\n",
    "# 有五种seaborn的绘图风格，它们分别是：darkgrid, whitegrid, dark, white, ticks。默认的主题是darkgrid。\n",
    "sns.set_style(\"whitegrid\")\n",
    "# 有四个预置的环境，按大小从小到大排列分别为：paper, notebook, talk, poster。其中，notebook是默认的。\n",
    "sns.set_context('talk')\n",
    "# 中文字体设置-黑体\n",
    "plt.rcParams['font.sans-serif'] = ['Microsoft YaHei']\n",
    "# 解决保存图像是负号'-'显示为方块的问题\n",
    "plt.rcParams['axes.unicode_minus'] = False"
   ]
  },
  {
   "cell_type": "code",
   "execution_count": null,
   "metadata": {},
   "outputs": [],
   "source": [
    "# 数据预处理，主要是针对缺失数据、类别数据的处理\n",
    "df_train = pd.read_csv(r'D:\\数据挖掘\\数据集\\贷款数据\\train.csv')\n",
    "df_testA = pd.read_csv(r'D:\\数据挖掘\\数据集\\贷款数据\\testA.csv')"
   ]
  },
  {
   "cell_type": "code",
   "execution_count": null,
   "metadata": {},
   "outputs": [],
   "source": [
    "print(df_train.shape)\n",
    "print(df_train.columns)"
   ]
  },
  {
   "cell_type": "markdown",
   "metadata": {},
   "source": [
    "## 查看数据分布"
   ]
  },
  {
   "cell_type": "code",
   "execution_count": null,
   "metadata": {},
   "outputs": [],
   "source": [
    "# 查看标签列分布\n",
    "df_train['isDefault'].value_counts()"
   ]
  },
  {
   "cell_type": "code",
   "execution_count": null,
   "metadata": {},
   "outputs": [],
   "source": [
    "# 查看总体情况\n",
    "df_train.info()"
   ]
  },
  {
   "cell_type": "code",
   "execution_count": null,
   "metadata": {},
   "outputs": [],
   "source": [
    "# 看唯一键是否有重复\n",
    "df_train.shape[0] == len(df_train['id'].drop_duplicates())"
   ]
  },
  {
   "cell_type": "code",
   "execution_count": null,
   "metadata": {},
   "outputs": [],
   "source": [
    "# 主要看缺失情况\n",
    "missing_info = pd.DataFrame(df_train.isnull().sum()/len(df_train['id'])).reset_index()\n",
    "missing_info = missing_info.rename(columns={'index':'col_name',0:'missing_pct'})\n",
    "missing_info = missing_info.sort_values(by='missing_pct',ascending=False).reset_index(drop=True)\n",
    "missing_info"
   ]
  },
  {
   "cell_type": "code",
   "execution_count": null,
   "metadata": {
    "scrolled": false
   },
   "outputs": [],
   "source": [
    "# 查看缺失严重，超过80%的指标\n",
    "threshold = 0.8\n",
    "missing_heavy_num = missing_info[missing_info['missing_pct']>=threshold].shape[0]\n",
    "print('缺失超过{}的特征有{}个'.format(threshold, missing_heavy_num))"
   ]
  },
  {
   "cell_type": "code",
   "execution_count": null,
   "metadata": {},
   "outputs": [],
   "source": [
    "# 找出有缺失的特征并可视化\n",
    "plt.figure(figsize=(20,10))\n",
    "missing_data = missing_info[missing_info['missing_pct']>0]\n",
    "sns.barplot(x='col_name',y='missing_pct',data=missing_data)\n",
    "plt.title('缺失特征比例情况')\n",
    "plt.xlabel('特征名')\n",
    "plt.ylabel('缺失比例')\n",
    "plt.show()"
   ]
  },
  {
   "cell_type": "code",
   "execution_count": null,
   "metadata": {},
   "outputs": [],
   "source": [
    "# 查看每个样本的缺失情况\n",
    "missing_series = df_train.isnull().sum(axis=1)\n",
    "list_missing_num  = sorted(list(missing_series.values))\n",
    "\n",
    "# 设置标题\n",
    "plt.figure(figsize=(23, 5))\n",
    "plt.title('缺失变量的分布图')\n",
    "plt.plot(range(df_train.shape[0]), list_missing_num)\n",
    "plt.xlabel('samples')\n",
    "plt.ylabel('缺失变量个数')\n",
    "plt.show()"
   ]
  },
  {
   "cell_type": "code",
   "execution_count": null,
   "metadata": {},
   "outputs": [],
   "source": [
    "# 区分数值类和类别类特征\n",
    "numerical_fea = list(df_train.select_dtypes(exclude='object').columns)\n",
    "category_fea = list(filter(lambda x:x not in numrical_fea,list(df_train.columns)))\n",
    "print(numrical_fea)\n",
    "print(category_fea)"
   ]
  },
  {
   "cell_type": "markdown",
   "metadata": {},
   "source": [
    "这样的划分方式会将部分类别型特征识别为数值特征，例如：类别特征是数值的那种。这里我们使用一种方法：再次检测数值型特征中不同值个数，如果小于10，进行二次处理（看作类别特征）\n",
    "\n",
    "建议采用如下划分方式："
   ]
  },
  {
   "cell_type": "code",
   "execution_count": null,
   "metadata": {},
   "outputs": [],
   "source": [
    "def dis_numerical_feature(data,numerical_fea):\n",
    "    numerical_fea_true = []\n",
    "    numerical_fea_fake = []\n",
    "    for fea in numerical_fea:\n",
    "        if data[fea].nunique() < 10:\n",
    "            numerical_fea_fake.append(fea)\n",
    "        else:\n",
    "            numerical_fea_true.append(fea)\n",
    "    return numerical_fea_true,numerical_fea_fake\n",
    "\n",
    "numerical_fea_true,numerical_fea_fake=dis_numerical_feature(df_train,numerical_fea)\n",
    "print(numerical_fea_true)\n",
    "print(numerical_fea_fake)"
   ]
  },
  {
   "cell_type": "code",
   "execution_count": null,
   "metadata": {},
   "outputs": [],
   "source": [
    "# 查看特征的具体分布，重点关注值分布差距过大的\n",
    "df_train['verificationStatus'].value_counts()"
   ]
  },
  {
   "cell_type": "code",
   "execution_count": null,
   "metadata": {},
   "outputs": [],
   "source": [
    "df_train['n11'].value_counts()"
   ]
  },
  {
   "cell_type": "markdown",
   "metadata": {},
   "source": [
    "分布相差悬殊，可以考虑分箱或者剔除该特征"
   ]
  },
  {
   "cell_type": "code",
   "execution_count": null,
   "metadata": {},
   "outputs": [],
   "source": [
    "df_train['policyCode'].value_counts()"
   ]
  },
  {
   "cell_type": "markdown",
   "metadata": {},
   "source": [
    "此类特征无用，全部是一个值，可以剔除"
   ]
  },
  {
   "cell_type": "code",
   "execution_count": null,
   "metadata": {},
   "outputs": [],
   "source": [
    "# 查看特征中特征的单方差（同值化）性质\n",
    "threshold_const = 0.95\n",
    "\n",
    "feature_list = list(df_train.columns)\n",
    "feature_list.remove('isDefault')\n",
    "# feature_list\n",
    "feature_dis = {}\n",
    "for fea in feature_list:\n",
    "    # value_counts 的最多的一个样本类别的样本数\n",
    "    max_samples_count = df_train[fea].value_counts().iloc[0]\n",
    "    # 总体非空样本数\n",
    "    sum_samples_count = df_train[df_train[fea].notnull()].shape[0]\n",
    "    \n",
    "    # 计算特征中类别最多的样本占比\n",
    "    fea_rate = max_samples_count/sum_samples_count\n",
    "    # 过滤同值化特征\n",
    "    if fea_rate >= threshold_const:\n",
    "        feature_dis[fea] = fea_rate\n",
    "\n",
    "feature_dis"
   ]
  },
  {
   "cell_type": "code",
   "execution_count": null,
   "metadata": {},
   "outputs": [],
   "source": [
    "# 小于500个类别的特征进行整体分布的探索\n",
    "fea_category = {}\n",
    "for fea in feature_list:\n",
    "    if df_train[fea].nunique() < 500:\n",
    "        fea_category[fea] = df_train[fea].nunique()\n",
    "fea_category= pd.DataFrame(list(fea_category.items()),columns=['feature','type_num'])\n",
    "fea_category = fea_category.sort_values(by='type_num')\n",
    "fea_category"
   ]
  },
  {
   "cell_type": "code",
   "execution_count": null,
   "metadata": {},
   "outputs": [],
   "source": [
    "# 查看分类特征和标签值的联合分布\n",
    "fea_list = list(fea_category[fea_category['type_num']<=14].feature)\n",
    "fig = plt.figure(figsize=(30,25))\n",
    "for fea in fea_list:\n",
    "    fig.add_subplot(4,3,fea_list.index(fea)+1)\n",
    "    sns.countplot(x=fea,data=df_train,hue='isDefault')\n"
   ]
  },
  {
   "cell_type": "markdown",
   "metadata": {},
   "source": [
    "看图总结如下：\n",
    "\n",
    "- term贷款期限为5的违约率高于为3的\n",
    "\n",
    "- homeOwnership、pubRecBankruptcies、purpose多数类别对应的记录占比较少，可以进行分箱合并\n",
    "\n",
    "- grade、verificationStatus、initialListStatus、employmentLength不同类别对应的违约率不同，可以进一步分析\n",
    "\n",
    "- applicationType同值化较严重，需要确认后可以删除\n",
    "\n",
    "- policyCode只有一个类别，可以直接删除"
   ]
  },
  {
   "cell_type": "markdown",
   "metadata": {},
   "source": [
    "针对n类别暂不做分析，另外还有如下特征需要继续探索\n",
    "\n",
    "- subGrade 类型数： 35\n",
    "\n",
    "- issueDate 类型数： 139\n",
    "\n",
    "- regionCode 类型数： 51\n",
    "\n",
    "- delinquency_2years 类型数： 30\n",
    "- ficoRangeLow 类型数： 39\n",
    "- ficoRangeHigh 类型数： 39\n",
    "- openAcc 类型数： 75\n",
    "- pubRec 类型数： 32\n",
    "- totalAcc 类型数： 134"
   ]
  },
  {
   "cell_type": "markdown",
   "metadata": {},
   "source": [
    "##  单特征探索"
   ]
  },
  {
   "cell_type": "code",
   "execution_count": null,
   "metadata": {},
   "outputs": [],
   "source": [
    "# regionCode\n",
    "\"\"\"计算每个地区的违约率情况\"\"\"\n",
    "df_bucket = df_train.groupby('regionCode')\n",
    "bad_trend = pd.DataFrame()\n",
    "\n",
    "bad_trend['total'] = df_bucket['isDefault'].count()\n",
    "bad_trend['bad'] = df_bucket['isDefault'].sum()\n",
    "bad_trend['bad_rate'] = round(bad_trend['bad']/bad_trend['total'], 4)*100\n",
    "bad_trend = bad_trend.reset_index()\n",
    "\n",
    "# 查看Top10的数据\n",
    "bad_trend.sort_values(by='bad_rate', ascending=False).iloc[:10]"
   ]
  },
  {
   "cell_type": "code",
   "execution_count": null,
   "metadata": {},
   "outputs": [],
   "source": [
    "fig = plt.figure(figsize=(20,10))\n",
    "fig.add_subplot(2,1,1)\n",
    "sns.countplot(x='regionCode',data=df_train, hue='isDefault')\n",
    "fig.add_subplot(2,1,2)\n",
    "sns.lineplot(x='regionCode',y='bad_rate',data=bad_trend)"
   ]
  },
  {
   "cell_type": "markdown",
   "metadata": {},
   "source": [
    "可以看到存在部分地区的违约率高于平均值，可以单独拿出Top地区做特征衍生"
   ]
  },
  {
   "cell_type": "code",
   "execution_count": null,
   "metadata": {},
   "outputs": [],
   "source": [
    "# subGrade\n",
    "\"\"\"计算subGrade的违约率情况\"\"\"\n",
    "df_bucket = df_train.groupby('subGrade')\n",
    "bad_trend = pd.DataFrame()\n",
    "\n",
    "bad_trend['total'] = df_bucket['isDefault'].count()\n",
    "bad_trend['bad'] = df_bucket['isDefault'].sum()\n",
    "bad_trend['bad_rate'] = round(bad_trend['bad']/bad_trend['total'], 4)*100\n",
    "bad_trend = bad_trend.reset_index()"
   ]
  },
  {
   "cell_type": "code",
   "execution_count": null,
   "metadata": {},
   "outputs": [],
   "source": [
    "fig = plt.figure(figsize=(20,10))\n",
    "fig.add_subplot(2,1,1)\n",
    "sns.countplot(x='subGrade',data=df_train.sort_values(by='subGrade'), hue='isDefault')\n",
    "fig.add_subplot(2,1,2)\n",
    "sns.lineplot(x='subGrade',y='bad_rate',data=bad_trend)"
   ]
  },
  {
   "cell_type": "markdown",
   "metadata": {},
   "source": [
    "这个指标本身和违约情况呈高度线性相关，考虑内生性"
   ]
  },
  {
   "cell_type": "code",
   "execution_count": null,
   "metadata": {},
   "outputs": [],
   "source": [
    "\"\"\"计算grade的违约率情况\"\"\"\n",
    "df_bucket = df_train.groupby('grade')\n",
    "bad_trend = pd.DataFrame()\n",
    "\n",
    "bad_trend['total'] = df_bucket['isDefault'].count()\n",
    "bad_trend['bad'] = df_bucket['isDefault'].sum()\n",
    "bad_trend['bad_rate'] = round(bad_trend['bad']/bad_trend['total'], 4)*100\n",
    "bad_trend = bad_trend.reset_index()"
   ]
  },
  {
   "cell_type": "code",
   "execution_count": null,
   "metadata": {},
   "outputs": [],
   "source": [
    "fig = plt.figure(figsize=(20,10))\n",
    "fig.add_subplot(2,1,1)\n",
    "sns.countplot(x='grade',data=df_train.sort_values(by='grade'), hue='isDefault')\n",
    "fig.add_subplot(2,1,2)\n",
    "sns.lineplot(x='grade',y='bad_rate',data=bad_trend)"
   ]
  },
  {
   "cell_type": "markdown",
   "metadata": {},
   "source": [
    "和subGrade类似"
   ]
  },
  {
   "cell_type": "code",
   "execution_count": null,
   "metadata": {},
   "outputs": [],
   "source": [
    "\"\"\"计算delinquency_2years的违约率情况\"\"\"\n",
    "df_bucket = df_train.groupby('delinquency_2years')\n",
    "bad_trend = pd.DataFrame()\n",
    "\n",
    "bad_trend['total'] = df_bucket['isDefault'].count()\n",
    "bad_trend['bad'] = df_bucket['isDefault'].sum()\n",
    "bad_trend['bad_rate'] = round(bad_trend['bad']/bad_trend['total'], 4)*100\n",
    "bad_trend = bad_trend.reset_index()"
   ]
  },
  {
   "cell_type": "code",
   "execution_count": null,
   "metadata": {},
   "outputs": [],
   "source": [
    "# 画图显示\n",
    "fig, ax = plt.subplots(2, 1, figsize=(25,15))\n",
    "plt.title('违约率的delinquency_2years趋势图')\n",
    "sns.countplot(x='delinquency_2years', hue='isDefault', data=df_train.sort_values(['delinquency_2years']), ax=ax[0])\n",
    "sns.pointplot(data=bad_trend.sort_values(by='bad_rate', ascending=False), x='delinquency_2years', y='bad_rate', ax=ax[1])\n",
    "\n",
    "plt.show()"
   ]
  },
  {
   "cell_type": "markdown",
   "metadata": {},
   "source": [
    "看图说话：\n",
    "\n",
    "存在部分类别对应的违约率为0，也存在部分类别对应的位于率为100%，一般可以考虑：为0的为一类，为100%的为一类，其余的为一类。\n",
    "\n",
    "但是如果你结合字段含义和对应类别的样本数量去看的话，delinquency_2years表示借款人过去2年信用档案中逾期30天以上的违约事件数，且 delinquency_2years为0、1、2的样本占比超过95%，其余样本根本不足以考虑，所以也就不存在0%和100%的情况。"
   ]
  },
  {
   "cell_type": "code",
   "execution_count": null,
   "metadata": {},
   "outputs": [],
   "source": [
    "\"\"\"计算ficoRangeLow的违约率情况\"\"\"\n",
    "df_bucket = df_train.groupby('ficoRangeLow')\n",
    "bad_trend = pd.DataFrame()\n",
    "\n",
    "bad_trend['total'] = df_bucket['isDefault'].count()\n",
    "bad_trend['bad'] = df_bucket['isDefault'].sum()\n",
    "bad_trend['bad_rate'] = round(bad_trend['bad']/bad_trend['total'], 4)*100\n",
    "bad_trend = bad_trend.reset_index()"
   ]
  },
  {
   "cell_type": "code",
   "execution_count": null,
   "metadata": {},
   "outputs": [],
   "source": [
    "fig = plt.figure(figsize=(20,10))\n",
    "fig.add_subplot(2,1,1)\n",
    "sns.countplot(x='ficoRangeLow',data=df_train, hue='isDefault') #.sort_values(by='grade')\n",
    "fig.add_subplot(2,1,2)\n",
    "sns.lineplot(x='ficoRangeLow',y='bad_rate',data=bad_trend)"
   ]
  },
  {
   "cell_type": "markdown",
   "metadata": {},
   "source": [
    "可以将违约率较高的Top类别进行分箱，或者进行独热编码处理"
   ]
  },
  {
   "cell_type": "code",
   "execution_count": null,
   "metadata": {},
   "outputs": [],
   "source": [
    "\"\"\"计算ficoRangeHigh的违约率情况\"\"\"\n",
    "df_bucket = df_train.groupby('ficoRangeHigh')\n",
    "bad_trend = pd.DataFrame()\n",
    "\n",
    "bad_trend['total'] = df_bucket['isDefault'].count()\n",
    "bad_trend['bad'] = df_bucket['isDefault'].sum()\n",
    "bad_trend['bad_rate'] = round(bad_trend['bad']/bad_trend['total'], 4)*100\n",
    "bad_trend = bad_trend.reset_index()"
   ]
  },
  {
   "cell_type": "code",
   "execution_count": null,
   "metadata": {},
   "outputs": [],
   "source": [
    "fig = plt.figure(figsize=(20,10))\n",
    "fig.add_subplot(2,1,1)\n",
    "sns.countplot(x='ficoRangeHigh',data=df_train, hue='isDefault') #.sort_values(by='grade')\n",
    "fig.add_subplot(2,1,2)\n",
    "sns.lineplot(x='ficoRangeHigh',y='bad_rate',data=bad_trend)"
   ]
  },
  {
   "cell_type": "code",
   "execution_count": null,
   "metadata": {},
   "outputs": [],
   "source": [
    "\"\"\"计算openAcc的违约率情况\"\"\"\n",
    "df_bucket = df_train.groupby('openAcc')\n",
    "bad_trend = pd.DataFrame()\n",
    "\n",
    "bad_trend['total'] = df_bucket['isDefault'].count()\n",
    "bad_trend['bad'] = df_bucket['isDefault'].sum()\n",
    "bad_trend['bad_rate'] = round(bad_trend['bad']/bad_trend['total'], 4)*100\n",
    "bad_trend = bad_trend.reset_index()\n",
    "# 画图\n",
    "fig = plt.figure(figsize=(20,10))\n",
    "fig.add_subplot(2,1,1)\n",
    "sns.countplot(x='openAcc',data=df_train, hue='isDefault') #.sort_values(by='grade')\n",
    "fig.add_subplot(2,1,2)\n",
    "sns.lineplot(x='openAcc',y='bad_rate',data=bad_trend)"
   ]
  },
  {
   "cell_type": "code",
   "execution_count": null,
   "metadata": {},
   "outputs": [],
   "source": [
    "\"\"\"计算totalAcc的违约率情况\"\"\"\n",
    "df_bucket = df_train.groupby('totalAcc')\n",
    "bad_trend = pd.DataFrame()\n",
    "\n",
    "bad_trend['total'] = df_bucket['isDefault'].count()\n",
    "bad_trend['bad'] = df_bucket['isDefault'].sum()\n",
    "bad_trend['bad_rate'] = round(bad_trend['bad']/bad_trend['total'], 4)*100\n",
    "bad_trend = bad_trend.reset_index()\n",
    "# 画图\n",
    "fig = plt.figure(figsize=(20,10))\n",
    "fig.add_subplot(2,1,1)\n",
    "sns.countplot(x='totalAcc',data=df_train, hue='isDefault') #.sort_values(by='grade')\n",
    "fig.add_subplot(2,1,2)\n",
    "sns.lineplot(x='totalAcc',y='bad_rate',data=bad_trend)"
   ]
  },
  {
   "cell_type": "code",
   "execution_count": null,
   "metadata": {},
   "outputs": [],
   "source": [
    "\"\"\"计算issueDate的违约率情况\"\"\"\n",
    "df_bucket = df_train.groupby('issueDate')\n",
    "bad_trend = pd.DataFrame()\n",
    "\n",
    "bad_trend['total'] = df_bucket['isDefault'].count()\n",
    "bad_trend['bad'] = df_bucket['isDefault'].sum()\n",
    "bad_trend['bad_rate'] = round(bad_trend['bad']/bad_trend['total'], 4)*100\n",
    "bad_trend = bad_trend.reset_index()\n",
    "# 画图\n",
    "fig = plt.figure(figsize=(20,10))\n",
    "fig.add_subplot(2,1,1)\n",
    "sns.countplot(x='issueDate',data=df_train, hue='isDefault') #.sort_values(by='grade')\n",
    "fig.add_subplot(2,1,2)\n",
    "sns.lineplot(x='issueDate',y='bad_rate',data=bad_trend)"
   ]
  },
  {
   "cell_type": "code",
   "execution_count": null,
   "metadata": {},
   "outputs": [],
   "source": [
    "\"\"\"计算interestRate的违约率情况\"\"\"\n",
    "df_bucket = df_train.groupby('interestRate')\n",
    "bad_trend = pd.DataFrame()\n",
    "\n",
    "bad_trend['total'] = df_bucket['isDefault'].count()\n",
    "bad_trend['bad'] = df_bucket['isDefault'].sum()\n",
    "bad_trend['bad_rate'] = round(bad_trend['bad']/bad_trend['total'], 4)*100\n",
    "bad_trend = bad_trend.reset_index()\n",
    "# 画图\n",
    "fig = plt.figure(figsize=(20,10))\n",
    "# fig.add_subplot(2,1,1)\n",
    "# sns.countplot(x='issueDate',data=df_train, hue='isDefault') #.sort_values(by='grade')\n",
    "# fig.add_subplot(2,1,2)\n",
    "sns.lineplot(x='interestRate',y='bad_rate',data=bad_trend)"
   ]
  },
  {
   "cell_type": "code",
   "execution_count": null,
   "metadata": {},
   "outputs": [],
   "source": [
    "\"\"\"对interestRate进行分箱操作\"\"\"\n",
    "df_train['interestRate_box'] = df_train['interestRate']\n",
    "df_train['interestRate_box'] = pd.cut(df_train['interestRate_box'], 10, labels=False)\n",
    "\n",
    "df_bucket = df_train.groupby('interestRate_box')\n",
    "bad_trend = pd.DataFrame()\n",
    "bad_trend['total'] = df_bucket['isDefault'].count()\n",
    "bad_trend['bad'] = df_bucket['isDefault'].sum()\n",
    "bad_trend['bad_rate'] = round(bad_trend['bad']/bad_trend['total'], 4)*100\n",
    "bad_trend = bad_trend.reset_index()\n",
    "\n",
    "# 画图\n",
    "fig = plt.figure(figsize=(20,10))\n",
    "fig.add_subplot(2,1,1)\n",
    "sns.countplot(x='interestRate_box',data=df_train, hue='isDefault') #.sort_values(by='grade')\n",
    "fig.add_subplot(2,1,2)\n",
    "sns.lineplot(x='interestRate_box',y='bad_rate',data=bad_trend)"
   ]
  },
  {
   "cell_type": "markdown",
   "metadata": {},
   "source": [
    "总结：\n",
    "\n",
    "subGrade、regionCode都存在个别类别的违约率高于均值；\n",
    "\n",
    "elinquency_2years、ficoRangeLow、ficoRangeHigh、openAcc、pubRec样本都是左偏分布，可以对右尾数据进行处理；\n",
    "\n",
    "贷款利率可以进行分箱处理"
   ]
  },
  {
   "cell_type": "code",
   "execution_count": null,
   "metadata": {},
   "outputs": [],
   "source": [
    "\"\"\"查看几个数值特征的偏度和峰度\"\"\"\n",
    "for col in numerical_fea:\n",
    "     print('{:15}'.format(col), 'Skewness: {:05.2f}'.format(df_train[col].skew()),\n",
    "           '   ' , 'Kurtosis: {:06.2f}'.format(df_train[col].kurt())\n",
    "          )\n",
    "\n",
    "f = pd.melt(df_train, value_vars=numerical_fea_true)\n",
    "g = sns.FacetGrid(f, col=\"variable\",  col_wrap=5, sharex=False, sharey=False)\n",
    "g = g.map(sns.distplot, \"value\")"
   ]
  },
  {
   "cell_type": "code",
   "execution_count": null,
   "metadata": {},
   "outputs": [],
   "source": [
    "\"\"\"类别特征的每个类别频数可视化(count_plot)\"\"\"\n",
    "def count_plot(x,  **kwargs):\n",
    "    sns.countplot(x=x)\n",
    "    x=plt.xticks(rotation=90)\n",
    "\n",
    "f = pd.melt(df_train,  value_vars=category_fea+numerical_fea_fake)\n",
    "g = sns.FacetGrid(f, col=\"variable\",  col_wrap=3, sharex=False, sharey=False, size=5)\n",
    "g = g.map(count_plot, \"value\")"
   ]
  },
  {
   "cell_type": "markdown",
   "metadata": {},
   "source": [
    "## 特征衍生\n",
    "### 单特征衍生"
   ]
  },
  {
   "cell_type": "code",
   "execution_count": null,
   "metadata": {},
   "outputs": [],
   "source": [
    "df_train_2 = df_train.copy()\n",
    "df_testA_2 = df_testA.copy()"
   ]
  },
  {
   "cell_type": "code",
   "execution_count": null,
   "metadata": {},
   "outputs": [],
   "source": [
    "\"\"\"放款时间特征下的相关尝试\"\"\"\n",
    "df_train_2['issueDate'] = pd.to_datetime(df_train_2['issueDate'])\n",
    "df_testA_2['issueDate'] = pd.to_datetime(df_testA_2['issueDate'])\n",
    "# 构造月份特征\n",
    "df_train_2['issueDate_month'] = df_train_2['issueDate'].dt.strftime('%Y-%m')\n",
    "df_testA_2['issueDate_month'] = df_testA_2['issueDate'].dt.strftime('%Y-%m')\n",
    "# 构造季度特征\n",
    "df_train_2['issueDate_quarter'] = df_train_2['issueDate'].dt.strftime('%Y') + '_' + df_train_2['issueDate'].dt.month.apply(lambda x: str(x%3+1))\n",
    "df_testA_2['issueDate_quarter'] = df_testA_2['issueDate'].dt.strftime('%Y') + '_' + df_testA_2['issueDate'].dt.month.apply(lambda x: str(x%3+1))\n",
    "\n",
    "# 构造节假日特征：1 工作日  0 节假日\n",
    "# from chinese_calendar import is_workday\n",
    "# df_train_2['issueDate_workday'] = df_train_2['issueDate'].apply(lambda x: 1 if is_workday(x) else 0)"
   ]
  },
  {
   "cell_type": "code",
   "execution_count": null,
   "metadata": {},
   "outputs": [],
   "source": [
    "fig = plt.figure(figsize=(30,25))\n",
    "fig.add_subplot(4,1,1)\n",
    "sns.countplot(x='issueDate_month',data=df_train_2.sort_values(by='issueDate_month'))\n",
    "fig.add_subplot(4,1,2)\n",
    "sns.countplot(x='issueDate_month',data=df_testA_2.sort_values(by='issueDate_month'))\n",
    "fig.add_subplot(4,1,3)\n",
    "sns.countplot(x='issueDate_quarter',data=df_train_2.sort_values(by='issueDate_quarter'))\n",
    "fig.add_subplot(4,1,4)\n",
    "sns.countplot(x='issueDate_quarter',data=df_testA_2.sort_values(by='issueDate_quarter'))"
   ]
  },
  {
   "cell_type": "code",
   "execution_count": null,
   "metadata": {},
   "outputs": [],
   "source": [
    "\"\"\"基于时间维度计算违约率情况\"\"\"\n",
    "df_bucket = df_train_2.groupby('issueDate_month')\n",
    "bad_trend = pd.DataFrame()\n",
    "\n",
    "bad_trend['total'] = df_bucket['isDefault'].count()\n",
    "bad_trend['bad'] = df_bucket['isDefault'].sum()\n",
    "bad_trend['bad_rate'] = round(bad_trend['bad']/bad_trend['total'], 4)*100\n",
    "bad_trend = bad_trend.reset_index()\n",
    "\n",
    "# 画图\n",
    "fig = plt.figure(figsize=(20,10))\n",
    "fig.add_subplot(2,1,1)\n",
    "sns.countplot(x='issueDate_month',data=df_train_2.sort_values(by='issueDate_month')) #.sort_values(by='grade')\n",
    "fig.add_subplot(2,1,2)\n",
    "sns.lineplot(x='issueDate_month',y='bad_rate',data=bad_trend)"
   ]
  },
  {
   "cell_type": "code",
   "execution_count": null,
   "metadata": {},
   "outputs": [],
   "source": [
    "\"\"\"基于时间维度计算违约率情况\"\"\"\n",
    "df_bucket = df_train_2.groupby('issueDate_quarter')\n",
    "bad_trend = pd.DataFrame()\n",
    "\n",
    "bad_trend['total'] = df_bucket['isDefault'].count()\n",
    "bad_trend['bad'] = df_bucket['isDefault'].sum()\n",
    "bad_trend['bad_rate'] = round(bad_trend['bad']/bad_trend['total'], 4)*100\n",
    "bad_trend = bad_trend.reset_index()\n",
    "\n",
    "# 画图\n",
    "fig = plt.figure(figsize=(20,10))\n",
    "fig.add_subplot(2,1,1)\n",
    "sns.countplot(x='issueDate_quarter',data=df_train_2.sort_values(by='issueDate_quarter')) #.sort_values(by='grade')\n",
    "fig.add_subplot(2,1,2)\n",
    "sns.lineplot(x='issueDate_quarter',y='bad_rate',data=bad_trend)"
   ]
  },
  {
   "cell_type": "markdown",
   "metadata": {},
   "source": [
    "### 特征组合衍生"
   ]
  },
  {
   "cell_type": "code",
   "execution_count": null,
   "metadata": {},
   "outputs": [],
   "source": [
    "# 业务统计指标\n",
    "for col in ['grade', 'subGrade','pubRec']:  #分类数据\n",
    "    temp_dict = df_train_2.groupby([col])['isDefault'].agg(['mean']).reset_index().rename(columns={'mean': col + '_target_mean'})\n",
    "    temp_dict.index = temp_dict[col].values\n",
    "    temp_dict = temp_dict[col + '_target_mean'].to_dict()\n",
    "\n",
    "    df_train_2[col + '_target_mean'] = df_train_2[col].map(temp_dict)\n",
    "\n",
    "df_train_2[['grade', 'grade_target_mean', 'subGrade_target_mean', 'pubRec_target_mean']]"
   ]
  },
  {
   "cell_type": "code",
   "execution_count": null,
   "metadata": {},
   "outputs": [],
   "source": [
    "# 离散特征组合\n",
    "df_train_2['ficoRangeLow_ficoRangeHigh'] = df_train_2['ficoRangeLow'].astype(str) + '_' + df_train_2['ficoRangeHigh'].astype(str)\n",
    "df_train_2[['ficoRangeLow', 'ficoRangeHigh', 'ficoRangeLow_ficoRangeHigh']]"
   ]
  }
 ],
 "metadata": {
  "kernelspec": {
   "display_name": "Python 3",
   "language": "python",
   "name": "python3"
  },
  "language_info": {
   "codemirror_mode": {
    "name": "ipython",
    "version": 3
   },
   "file_extension": ".py",
   "mimetype": "text/x-python",
   "name": "python",
   "nbconvert_exporter": "python",
   "pygments_lexer": "ipython3",
   "version": "3.8.5"
  },
  "toc": {
   "base_numbering": 1,
   "nav_menu": {},
   "number_sections": true,
   "sideBar": true,
   "skip_h1_title": false,
   "title_cell": "Table of Contents",
   "title_sidebar": "Contents",
   "toc_cell": false,
   "toc_position": {},
   "toc_section_display": true,
   "toc_window_display": false
  }
 },
 "nbformat": 4,
 "nbformat_minor": 4
}
