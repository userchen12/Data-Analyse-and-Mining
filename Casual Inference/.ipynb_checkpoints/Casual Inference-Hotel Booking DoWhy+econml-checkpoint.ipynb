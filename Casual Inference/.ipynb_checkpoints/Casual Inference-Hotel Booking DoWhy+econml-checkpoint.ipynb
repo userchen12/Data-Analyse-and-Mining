{
 "cells": [
  {
   "cell_type": "markdown",
   "id": "808dae2f-593b-4d82-8555-d30630c4b4be",
   "metadata": {},
   "source": [
    "背景\n",
    "研究问题是估计当消费者在预定酒店时，为其分配一间与之前预定过的房间不同的房间对消费者取消当前预定的影响。分析此类问题的金标准是「随机对照试验」（Randomized Controlled Trials），即每位消费者被随机分配到两类干预中的一类：为其分配与之前预定过的房间相同或不同的房间。"
   ]
  },
  {
   "cell_type": "code",
   "execution_count": 1,
   "id": "9ba4836e-625d-4ace-806a-d2b217f5343c",
   "metadata": {},
   "outputs": [
    {
     "data": {
      "text/plain": [
       "Index(['hotel', 'is_canceled', 'lead_time', 'arrival_date_year',\n",
       "       'arrival_date_month', 'arrival_date_week_number',\n",
       "       'arrival_date_day_of_month', 'stays_in_weekend_nights',\n",
       "       'stays_in_week_nights', 'adults', 'children', 'babies', 'meal',\n",
       "       'country', 'market_segment', 'distribution_channel',\n",
       "       'is_repeated_guest', 'previous_cancellations',\n",
       "       'previous_bookings_not_canceled', 'reserved_room_type',\n",
       "       'assigned_room_type', 'booking_changes', 'deposit_type', 'agent',\n",
       "       'company', 'days_in_waiting_list', 'customer_type', 'adr',\n",
       "       'required_car_parking_spaces', 'total_of_special_requests',\n",
       "       'reservation_status', 'reservation_status_date'],\n",
       "      dtype='object')"
      ]
     },
     "execution_count": 1,
     "metadata": {},
     "output_type": "execute_result"
    }
   ],
   "source": [
    "import dowhy\n",
    "import pandas as pd\n",
    "import numpy as np\n",
    "import matplotlib.pyplot as plt\n",
    "import logging\n",
    "logging.getLogger(\"dowhy\").setLevel(logging.INFO)\n",
    "\n",
    "dataset = pd.read_csv('../../数据集/因果识别数据集/hotel_bookings.csv')\n",
    "dataset.columns"
   ]
  },
  {
   "cell_type": "code",
   "execution_count": 2,
   "id": "3099397e-4922-41dc-9b51-3d3f635bd5a1",
   "metadata": {},
   "outputs": [
    {
     "data": {
      "text/plain": [
       "Index(['hotel', 'is_canceled', 'lead_time', 'arrival_date_year',\n",
       "       'arrival_date_month', 'arrival_date_week_number',\n",
       "       'arrival_date_day_of_month', 'meal', 'country', 'market_segment',\n",
       "       'distribution_channel', 'is_repeated_guest', 'previous_cancellations',\n",
       "       'previous_bookings_not_canceled', 'booking_changes', 'deposit_type',\n",
       "       'agent', 'company', 'days_in_waiting_list', 'customer_type', 'adr',\n",
       "       'required_car_parking_spaces', 'total_of_special_requests',\n",
       "       'reservation_status', 'reservation_status_date', 'total_stay', 'guests',\n",
       "       'different_room_assigned'],\n",
       "      dtype='object')"
      ]
     },
     "execution_count": 2,
     "metadata": {},
     "output_type": "execute_result"
    }
   ],
   "source": [
    "#preprocess the data\n",
    "# Total stay in nights\n",
    "dataset['total_stay'] = dataset['stays_in_week_nights']+dataset['stays_in_weekend_nights']\n",
    "# Total number of guests\n",
    "dataset['guests'] = dataset['adults']+dataset['children'] +dataset['babies']\n",
    "# Creating the different_room_assigned feature\n",
    "dataset['different_room_assigned']=0\n",
    "slice_indices =dataset['reserved_room_type']!=dataset['assigned_room_type']\n",
    "dataset.loc[slice_indices,'different_room_assigned']=1\n",
    "# Deleting older features\n",
    "dataset = dataset.drop(['stays_in_week_nights','stays_in_weekend_nights','adults','children','babies'\n",
    "                        ,'reserved_room_type','assigned_room_type'],axis=1)\n",
    "dataset.columns"
   ]
  },
  {
   "cell_type": "code",
   "execution_count": 3,
   "id": "acc84603-3887-4db4-a982-707dc9ee82e2",
   "metadata": {},
   "outputs": [
    {
     "data": {
      "text/plain": [
       "Index(['hotel', 'is_canceled', 'lead_time', 'arrival_date_month',\n",
       "       'arrival_date_week_number', 'meal', 'country', 'market_segment',\n",
       "       'is_repeated_guest', 'previous_cancellations',\n",
       "       'previous_bookings_not_canceled', 'booking_changes', 'deposit_type',\n",
       "       'days_in_waiting_list', 'customer_type', 'adr',\n",
       "       'required_car_parking_spaces', 'total_of_special_requests',\n",
       "       'total_stay', 'guests', 'different_room_assigned'],\n",
       "      dtype='object')"
      ]
     },
     "execution_count": 3,
     "metadata": {},
     "output_type": "execute_result"
    }
   ],
   "source": [
    "#drop parts of features\n",
    "dataset.isnull().sum() # Country,Agent,Company contain 488,16340,112593 missing entries\n",
    "dataset = dataset.drop(['agent','company'],axis=1)\n",
    "# Replacing missing countries with most freqently occuring countries\n",
    "dataset['country']= dataset['country'].fillna(dataset['country'].mode()[0])\n",
    "\n",
    "dataset = dataset.drop(['reservation_status','reservation_status_date','arrival_date_day_of_month'],axis=1)\n",
    "dataset = dataset.drop(['arrival_date_year'],axis=1)\n",
    "dataset = dataset.drop(['distribution_channel'], axis=1)\n",
    "\n",
    "# Replacing 1 by True and 0 by False for the experiment and outcome variables\n",
    "dataset['different_room_assigned']= dataset['different_room_assigned'].replace(1,True)\n",
    "dataset['different_room_assigned']= dataset['different_room_assigned'].replace(0,False)\n",
    "dataset['is_canceled']= dataset['is_canceled'].replace(1,True)\n",
    "dataset['is_canceled']= dataset['is_canceled'].replace(0,False)\n",
    "dataset.dropna(inplace=True) \n",
    "dataset.columns"
   ]
  },
  {
   "cell_type": "code",
   "execution_count": 4,
   "id": "f8462055-6a76-421e-bfb9-ff2c22cd18b8",
   "metadata": {},
   "outputs": [
    {
     "data": {
      "text/html": [
       "<div>\n",
       "<style scoped>\n",
       "    .dataframe tbody tr th:only-of-type {\n",
       "        vertical-align: middle;\n",
       "    }\n",
       "\n",
       "    .dataframe tbody tr th {\n",
       "        vertical-align: top;\n",
       "    }\n",
       "\n",
       "    .dataframe thead th {\n",
       "        text-align: right;\n",
       "    }\n",
       "</style>\n",
       "<table border=\"1\" class=\"dataframe\">\n",
       "  <thead>\n",
       "    <tr style=\"text-align: right;\">\n",
       "      <th></th>\n",
       "      <th></th>\n",
       "      <th>hotel</th>\n",
       "      <th>lead_time</th>\n",
       "      <th>arrival_date_month</th>\n",
       "      <th>arrival_date_week_number</th>\n",
       "      <th>meal</th>\n",
       "      <th>country</th>\n",
       "      <th>market_segment</th>\n",
       "      <th>is_repeated_guest</th>\n",
       "      <th>previous_cancellations</th>\n",
       "      <th>previous_bookings_not_canceled</th>\n",
       "      <th>booking_changes</th>\n",
       "      <th>days_in_waiting_list</th>\n",
       "      <th>customer_type</th>\n",
       "      <th>adr</th>\n",
       "      <th>required_car_parking_spaces</th>\n",
       "      <th>total_of_special_requests</th>\n",
       "      <th>total_stay</th>\n",
       "      <th>guests</th>\n",
       "      <th>different_room_assigned</th>\n",
       "    </tr>\n",
       "    <tr>\n",
       "      <th>deposit_type</th>\n",
       "      <th>is_canceled</th>\n",
       "      <th></th>\n",
       "      <th></th>\n",
       "      <th></th>\n",
       "      <th></th>\n",
       "      <th></th>\n",
       "      <th></th>\n",
       "      <th></th>\n",
       "      <th></th>\n",
       "      <th></th>\n",
       "      <th></th>\n",
       "      <th></th>\n",
       "      <th></th>\n",
       "      <th></th>\n",
       "      <th></th>\n",
       "      <th></th>\n",
       "      <th></th>\n",
       "      <th></th>\n",
       "      <th></th>\n",
       "      <th></th>\n",
       "    </tr>\n",
       "  </thead>\n",
       "  <tbody>\n",
       "    <tr>\n",
       "      <th rowspan=\"2\" valign=\"top\">No Deposit</th>\n",
       "      <th>False</th>\n",
       "      <td>74947</td>\n",
       "      <td>74947</td>\n",
       "      <td>74947</td>\n",
       "      <td>74947</td>\n",
       "      <td>74947</td>\n",
       "      <td>74947</td>\n",
       "      <td>74947</td>\n",
       "      <td>74947</td>\n",
       "      <td>74947</td>\n",
       "      <td>74947</td>\n",
       "      <td>74947</td>\n",
       "      <td>74947</td>\n",
       "      <td>74947</td>\n",
       "      <td>74947</td>\n",
       "      <td>74947</td>\n",
       "      <td>74947</td>\n",
       "      <td>74947</td>\n",
       "      <td>74947</td>\n",
       "      <td>74947</td>\n",
       "    </tr>\n",
       "    <tr>\n",
       "      <th>True</th>\n",
       "      <td>29690</td>\n",
       "      <td>29690</td>\n",
       "      <td>29690</td>\n",
       "      <td>29690</td>\n",
       "      <td>29690</td>\n",
       "      <td>29690</td>\n",
       "      <td>29690</td>\n",
       "      <td>29690</td>\n",
       "      <td>29690</td>\n",
       "      <td>29690</td>\n",
       "      <td>29690</td>\n",
       "      <td>29690</td>\n",
       "      <td>29690</td>\n",
       "      <td>29690</td>\n",
       "      <td>29690</td>\n",
       "      <td>29690</td>\n",
       "      <td>29690</td>\n",
       "      <td>29690</td>\n",
       "      <td>29690</td>\n",
       "    </tr>\n",
       "  </tbody>\n",
       "</table>\n",
       "</div>"
      ],
      "text/plain": [
       "                          hotel  lead_time  arrival_date_month  \\\n",
       "deposit_type is_canceled                                         \n",
       "No Deposit   False        74947      74947               74947   \n",
       "             True         29690      29690               29690   \n",
       "\n",
       "                          arrival_date_week_number   meal  country  \\\n",
       "deposit_type is_canceled                                             \n",
       "No Deposit   False                           74947  74947    74947   \n",
       "             True                            29690  29690    29690   \n",
       "\n",
       "                          market_segment  is_repeated_guest  \\\n",
       "deposit_type is_canceled                                      \n",
       "No Deposit   False                 74947              74947   \n",
       "             True                  29690              29690   \n",
       "\n",
       "                          previous_cancellations  \\\n",
       "deposit_type is_canceled                           \n",
       "No Deposit   False                         74947   \n",
       "             True                          29690   \n",
       "\n",
       "                          previous_bookings_not_canceled  booking_changes  \\\n",
       "deposit_type is_canceled                                                    \n",
       "No Deposit   False                                 74947            74947   \n",
       "             True                                  29690            29690   \n",
       "\n",
       "                          days_in_waiting_list  customer_type    adr  \\\n",
       "deposit_type is_canceled                                               \n",
       "No Deposit   False                       74947          74947  74947   \n",
       "             True                        29690          29690  29690   \n",
       "\n",
       "                          required_car_parking_spaces  \\\n",
       "deposit_type is_canceled                                \n",
       "No Deposit   False                              74947   \n",
       "             True                               29690   \n",
       "\n",
       "                          total_of_special_requests  total_stay  guests  \\\n",
       "deposit_type is_canceled                                                  \n",
       "No Deposit   False                            74947       74947   74947   \n",
       "             True                             29690       29690   29690   \n",
       "\n",
       "                          different_room_assigned  \n",
       "deposit_type is_canceled                           \n",
       "No Deposit   False                          74947  \n",
       "             True                           29690  "
      ]
     },
     "execution_count": 4,
     "metadata": {},
     "output_type": "execute_result"
    }
   ],
   "source": [
    "dataset = dataset[dataset.deposit_type==\"No Deposit\"]\n",
    "dataset.groupby(['deposit_type','is_canceled']).count()"
   ]
  },
  {
   "cell_type": "code",
   "execution_count": null,
   "id": "219c180f-96d9-4176-8bc1-9e014bd23f14",
   "metadata": {},
   "outputs": [],
   "source": [
    "#check if the target will diff when booking changes to make sure if it is a confounding variable\n",
    "counts_sum=0\n",
    "for i in range(1,10000):\n",
    "        counts_i = 0\n",
    "        rdf = dataset[dataset[\"booking_changes\"]==0].sample(1000)\n",
    "        counts_i = rdf[rdf[\"is_canceled\"]== rdf[\"different_room_assigned\"]].shape[0]\n",
    "        counts_sum+= counts_i\n",
    "print(counts_sum/10000)\n",
    "\n",
    "counts_sum=0\n",
    "for i in range(1,10000):\n",
    "        counts_i = 0\n",
    "        rdf = dataset[dataset[\"booking_changes\"]>0].sample(1000)\n",
    "        counts_i = rdf[rdf[\"is_canceled\"]== rdf[\"different_room_assigned\"]].shape[0]\n",
    "        counts_sum+= counts_i\n",
    "print(counts_sum/10000)"
   ]
  },
  {
   "cell_type": "code",
   "execution_count": 6,
   "id": "93616b59-d218-4ea3-b946-14e1e75a94de",
   "metadata": {},
   "outputs": [
    {
     "data": {
      "image/png": "[encoded data removed]",
      "text/latex": [
       "$\\displaystyle 76$"
      ],
      "text/plain": [
       "76"
      ]
     },
     "execution_count": 6,
     "metadata": {},
     "output_type": "execute_result"
    }
   ],
   "source": [
    "import gc\n",
    "gc.collect()"
   ]
  },
  {
   "cell_type": "markdown",
   "id": "75960a06-2b62-4afe-85e0-2c7ceb7815bc",
   "metadata": {},
   "source": [
    "以上结果说明的确有影响，但是不能明确是哪个因子发挥的作用，假设以下因素都会产生影响，可作为混淆因子\n",
    "market_segment 参数有两种取值：TA 指旅行者，TO 指旅游公司，该参数会影响 lead_time（即预约和到达之间的时间间隔）\n",
    "country 参数会决定一个人是否会提早预订（即影响 lead_time ）以及其喜爱的食物（即影响 meal ）\n",
    "lead_time 会影响预订的等待时间（ days_in_waiting_list ）\n",
    "预订的等待时间 days_in_waiting_list、总停留时间 total_stay 以及客人数量 guests 会影响预订是否被取消\n",
    "之前预订的取消情况 previous_bookings_not_canceled 会影响该顾客是否为 is_repeated_guest；这两个变量也会影响预订是否被取消\n",
    "booking_changes 会影响顾客是否被分配到不同的房间，也会影响预订取消情况\n",
    "除了 booking_changes 这一混杂因子外，一定还存在着其他混杂因子，同时影响干预和结果"
   ]
  },
  {
   "cell_type": "code",
   "execution_count": 5,
   "id": "a38df918-7c94-4d4b-a415-c968fe988d48",
   "metadata": {},
   "outputs": [],
   "source": [
    "#define the casual graph\n",
    "import pygraphviz\n",
    "causal_graph = \"\"\"digraph {\n",
    "different_room_assigned[label=\"Different Room Assigned\"];\n",
    "is_canceled[label=\"Booking Cancelled\"];\n",
    "booking_changes[label=\"Booking Changes\"];\n",
    "previous_bookings_not_canceled[label=\"Previous Booking Retentions\"];\n",
    "days_in_waiting_list[label=\"Days in Waitlist\"];\n",
    "lead_time[label=\"Lead Time\"];\n",
    "market_segment[label=\"Market Segment\"];\n",
    "country[label=\"Country\"];\n",
    "U[label=\"Unobserved Confounders\",observed=\"no\"];\n",
    "is_repeated_guest;\n",
    "total_stay;\n",
    "guests;\n",
    "meal;\n",
    "hotel;\n",
    "U->{different_room_assigned,required_car_parking_spaces,guests,total_stay,total_of_special_requests};\n",
    "market_segment -> lead_time;\n",
    "lead_time->is_canceled; country -> lead_time;\n",
    "different_room_assigned -> is_canceled;\n",
    "country->meal;\n",
    "lead_time -> days_in_waiting_list;\n",
    "days_in_waiting_list ->{is_canceled,different_room_assigned};\n",
    "previous_bookings_not_canceled -> is_canceled;\n",
    "previous_bookings_not_canceled -> is_repeated_guest;\n",
    "is_repeated_guest -> {different_room_assigned,is_canceled};\n",
    "total_stay -> is_canceled;\n",
    "guests -> is_canceled;\n",
    "booking_changes -> different_room_assigned; booking_changes -> is_canceled; \n",
    "hotel -> {different_room_assigned,is_canceled};\n",
    "required_car_parking_spaces -> is_canceled;\n",
    "total_of_special_requests -> {booking_changes,is_canceled};\n",
    "country->{hotel, required_car_parking_spaces,total_of_special_requests};\n",
    "market_segment->{hotel, required_car_parking_spaces,total_of_special_requests};\n",
    "}\"\"\""
   ]
  },
  {
   "cell_type": "code",
   "execution_count": 6,
   "id": "b060e4d1-972f-4230-9e2a-13ac132257ec",
   "metadata": {},
   "outputs": [
    {
     "name": "stderr",
     "output_type": "stream",
     "text": [
      "D:\\software\\anaconda\\lib\\site-packages\\dowhy\\causal_model.py:582: UserWarning: 1 variables are assumed unobserved because they are not in the dataset. Configure the logging level to `logging.WARNING` or higher for additional details.\n",
      "  warnings.warn(\n"
     ]
    },
    {
     "data": {
      "image/png": "[encoded data removed]",
      "text/plain": [
       "<IPython.core.display.Image object>"
      ]
     },
     "metadata": {},
     "output_type": "display_data"
    }
   ],
   "source": [
    "#and visliazate the graph\n",
    "model= dowhy.CausalModel(\n",
    "        data = dataset,\n",
    "        graph=causal_graph.replace(\"\\n\", \" \"),\n",
    "        treatment='different_room_assigned',\n",
    "        outcome='is_canceled')\n",
    "# model.view_model()\n",
    "from IPython.display import Image, display\n",
    "display(Image(filename=\"causal_model.png\"))"
   ]
  },
  {
   "cell_type": "code",
   "execution_count": 7,
   "id": "80e9c173-ab76-40f1-a4ce-3800d80d13ff",
   "metadata": {},
   "outputs": [
    {
     "name": "stdout",
     "output_type": "stream",
     "text": [
      "Estimand type: EstimandType.NONPARAMETRIC_ATE\n",
      "\n",
      "### Estimand : 1\n",
      "Estimand name: backdoor\n",
      "Estimand expression:\n",
      "            d                                                                 \n",
      "──────────────────────────(E[is_canceled|booking_changes,guests,is_repeated_gu\n",
      "d[different_room_assigned]                                                    \n",
      "\n",
      "                                                                              \n",
      "est,total_stay,required_car_parking_spaces,total_of_special_requests,days_in_w\n",
      "                                                                              \n",
      "\n",
      "                             \n",
      "aiting_list,lead_time,hotel])\n",
      "                             \n",
      "Estimand assumption 1, Unconfoundedness: If U→{different_room_assigned} and U→is_canceled then P(is_canceled|different_room_assigned,booking_changes,guests,is_repeated_guest,total_stay,required_car_parking_spaces,total_of_special_requests,days_in_waiting_list,lead_time,hotel,U) = P(is_canceled|different_room_assigned,booking_changes,guests,is_repeated_guest,total_stay,required_car_parking_spaces,total_of_special_requests,days_in_waiting_list,lead_time,hotel)\n",
      "\n",
      "### Estimand : 2\n",
      "Estimand name: iv\n",
      "No such variable(s) found!\n",
      "\n",
      "### Estimand : 3\n",
      "Estimand name: frontdoor\n",
      "No such variable(s) found!\n",
      "\n"
     ]
    }
   ],
   "source": [
    "#Identify the causal effect\n",
    "identified_estimand = model.identify_effect()\n",
    "print(identified_estimand)"
   ]
  },
  {
   "cell_type": "code",
   "execution_count": 24,
   "id": "69ff30e7-0543-4f59-a0c6-5035862f1650",
   "metadata": {
    "collapsed": true,
    "jupyter": {
     "outputs_hidden": true
    },
    "tags": []
   },
   "outputs": [
    {
     "name": "stderr",
     "output_type": "stream",
     "text": [
      "D:\\software\\anaconda\\lib\\site-packages\\sklearn\\linear_model\\_logistic.py:814: ConvergenceWarning: lbfgs failed to converge (status=1):\n",
      "STOP: TOTAL NO. of ITERATIONS REACHED LIMIT.\n",
      "\n",
      "Increase the number of iterations (max_iter) or scale the data as shown in:\n",
      "    https://scikit-learn.org/stable/modules/preprocessing.html\n",
      "Please also refer to the documentation for alternative solver options:\n",
      "    https://scikit-learn.org/stable/modules/linear_model.html#logistic-regression\n",
      "  n_iter_i = _check_optimize_result(\n",
      "D:\\software\\anaconda\\lib\\site-packages\\dowhy\\causal_estimators\\propensity_score_estimator.py:134: SettingWithCopyWarning: \n",
      "A value is trying to be set on a copy of a slice from a DataFrame.\n",
      "Try using .loc[row_indexer,col_indexer] = value instead\n",
      "\n",
      "See the caveats in the documentation: https://pandas.pydata.org/pandas-docs/stable/user_guide/indexing.html#returning-a-view-versus-a-copy\n",
      "  data[self.propensity_score_column] = self.propensity_score_model.predict_proba(\n",
      "D:\\software\\anaconda\\lib\\site-packages\\dowhy\\causal_estimators\\propensity_score_stratification_estimator.py:231: SettingWithCopyWarning: \n",
      "A value is trying to be set on a copy of a slice from a DataFrame.\n",
      "Try using .loc[row_indexer,col_indexer] = value instead\n",
      "\n",
      "See the caveats in the documentation: https://pandas.pydata.org/pandas-docs/stable/user_guide/indexing.html#returning-a-view-versus-a-copy\n",
      "  data[\"strata\"] = ((data[self.propensity_score_column].rank(ascending=True) / num_rows) * num_strata).round(0)\n",
      "D:\\software\\anaconda\\lib\\site-packages\\dowhy\\causal_estimators\\propensity_score_stratification_estimator.py:235: SettingWithCopyWarning: \n",
      "A value is trying to be set on a copy of a slice from a DataFrame.\n",
      "Try using .loc[row_indexer,col_indexer] = value instead\n",
      "\n",
      "See the caveats in the documentation: https://pandas.pydata.org/pandas-docs/stable/user_guide/indexing.html#returning-a-view-versus-a-copy\n",
      "  data[\"dbar\"] = 1 - data[self._target_estimand.treatment_variable[0]]  # 1-Treatment\n",
      "D:\\software\\anaconda\\lib\\site-packages\\dowhy\\causal_estimators\\propensity_score_stratification_estimator.py:236: SettingWithCopyWarning: \n",
      "A value is trying to be set on a copy of a slice from a DataFrame.\n",
      "Try using .loc[row_indexer,col_indexer] = value instead\n",
      "\n",
      "See the caveats in the documentation: https://pandas.pydata.org/pandas-docs/stable/user_guide/indexing.html#returning-a-view-versus-a-copy\n",
      "  data[\"d_y\"] = (\n",
      "D:\\software\\anaconda\\lib\\site-packages\\dowhy\\causal_estimators\\propensity_score_stratification_estimator.py:239: SettingWithCopyWarning: \n",
      "A value is trying to be set on a copy of a slice from a DataFrame.\n",
      "Try using .loc[row_indexer,col_indexer] = value instead\n",
      "\n",
      "See the caveats in the documentation: https://pandas.pydata.org/pandas-docs/stable/user_guide/indexing.html#returning-a-view-versus-a-copy\n",
      "  data[\"dbar_y\"] = data[\"dbar\"] * data[self._target_estimand.outcome_variable[0]]\n",
      "D:\\software\\anaconda\\lib\\site-packages\\dowhy\\causal_estimators\\propensity_score_stratification_estimator.py:231: SettingWithCopyWarning: \n",
      "A value is trying to be set on a copy of a slice from a DataFrame.\n",
      "Try using .loc[row_indexer,col_indexer] = value instead\n",
      "\n",
      "See the caveats in the documentation: https://pandas.pydata.org/pandas-docs/stable/user_guide/indexing.html#returning-a-view-versus-a-copy\n",
      "  data[\"strata\"] = ((data[self.propensity_score_column].rank(ascending=True) / num_rows) * num_strata).round(0)\n",
      "D:\\software\\anaconda\\lib\\site-packages\\dowhy\\causal_estimators\\propensity_score_stratification_estimator.py:235: SettingWithCopyWarning: \n",
      "A value is trying to be set on a copy of a slice from a DataFrame.\n",
      "Try using .loc[row_indexer,col_indexer] = value instead\n",
      "\n",
      "See the caveats in the documentation: https://pandas.pydata.org/pandas-docs/stable/user_guide/indexing.html#returning-a-view-versus-a-copy\n",
      "  data[\"dbar\"] = 1 - data[self._target_estimand.treatment_variable[0]]  # 1-Treatment\n",
      "D:\\software\\anaconda\\lib\\site-packages\\dowhy\\causal_estimators\\propensity_score_stratification_estimator.py:236: SettingWithCopyWarning: \n",
      "A value is trying to be set on a copy of a slice from a DataFrame.\n",
      "Try using .loc[row_indexer,col_indexer] = value instead\n",
      "\n",
      "See the caveats in the documentation: https://pandas.pydata.org/pandas-docs/stable/user_guide/indexing.html#returning-a-view-versus-a-copy\n",
      "  data[\"d_y\"] = (\n",
      "D:\\software\\anaconda\\lib\\site-packages\\dowhy\\causal_estimators\\propensity_score_stratification_estimator.py:239: SettingWithCopyWarning: \n",
      "A value is trying to be set on a copy of a slice from a DataFrame.\n",
      "Try using .loc[row_indexer,col_indexer] = value instead\n",
      "\n",
      "See the caveats in the documentation: https://pandas.pydata.org/pandas-docs/stable/user_guide/indexing.html#returning-a-view-versus-a-copy\n",
      "  data[\"dbar_y\"] = data[\"dbar\"] * data[self._target_estimand.outcome_variable[0]]\n",
      "D:\\software\\anaconda\\lib\\site-packages\\dowhy\\causal_estimators\\propensity_score_stratification_estimator.py:231: SettingWithCopyWarning: \n",
      "A value is trying to be set on a copy of a slice from a DataFrame.\n",
      "Try using .loc[row_indexer,col_indexer] = value instead\n",
      "\n",
      "See the caveats in the documentation: https://pandas.pydata.org/pandas-docs/stable/user_guide/indexing.html#returning-a-view-versus-a-copy\n",
      "  data[\"strata\"] = ((data[self.propensity_score_column].rank(ascending=True) / num_rows) * num_strata).round(0)\n",
      "D:\\software\\anaconda\\lib\\site-packages\\dowhy\\causal_estimators\\propensity_score_stratification_estimator.py:235: SettingWithCopyWarning: \n",
      "A value is trying to be set on a copy of a slice from a DataFrame.\n",
      "Try using .loc[row_indexer,col_indexer] = value instead\n",
      "\n",
      "See the caveats in the documentation: https://pandas.pydata.org/pandas-docs/stable/user_guide/indexing.html#returning-a-view-versus-a-copy\n",
      "  data[\"dbar\"] = 1 - data[self._target_estimand.treatment_variable[0]]  # 1-Treatment\n",
      "D:\\software\\anaconda\\lib\\site-packages\\dowhy\\causal_estimators\\propensity_score_stratification_estimator.py:236: SettingWithCopyWarning: \n",
      "A value is trying to be set on a copy of a slice from a DataFrame.\n",
      "Try using .loc[row_indexer,col_indexer] = value instead\n",
      "\n",
      "See the caveats in the documentation: https://pandas.pydata.org/pandas-docs/stable/user_guide/indexing.html#returning-a-view-versus-a-copy\n",
      "  data[\"d_y\"] = (\n",
      "D:\\software\\anaconda\\lib\\site-packages\\dowhy\\causal_estimators\\propensity_score_stratification_estimator.py:239: SettingWithCopyWarning: \n",
      "A value is trying to be set on a copy of a slice from a DataFrame.\n",
      "Try using .loc[row_indexer,col_indexer] = value instead\n",
      "\n",
      "See the caveats in the documentation: https://pandas.pydata.org/pandas-docs/stable/user_guide/indexing.html#returning-a-view-versus-a-copy\n",
      "  data[\"dbar_y\"] = data[\"dbar\"] * data[self._target_estimand.outcome_variable[0]]\n",
      "D:\\software\\anaconda\\lib\\site-packages\\dowhy\\causal_estimators\\propensity_score_stratification_estimator.py:231: SettingWithCopyWarning: \n",
      "A value is trying to be set on a copy of a slice from a DataFrame.\n",
      "Try using .loc[row_indexer,col_indexer] = value instead\n",
      "\n",
      "See the caveats in the documentation: https://pandas.pydata.org/pandas-docs/stable/user_guide/indexing.html#returning-a-view-versus-a-copy\n",
      "  data[\"strata\"] = ((data[self.propensity_score_column].rank(ascending=True) / num_rows) * num_strata).round(0)\n",
      "D:\\software\\anaconda\\lib\\site-packages\\dowhy\\causal_estimators\\propensity_score_stratification_estimator.py:235: SettingWithCopyWarning: \n",
      "A value is trying to be set on a copy of a slice from a DataFrame.\n",
      "Try using .loc[row_indexer,col_indexer] = value instead\n",
      "\n",
      "See the caveats in the documentation: https://pandas.pydata.org/pandas-docs/stable/user_guide/indexing.html#returning-a-view-versus-a-copy\n",
      "  data[\"dbar\"] = 1 - data[self._target_estimand.treatment_variable[0]]  # 1-Treatment\n",
      "D:\\software\\anaconda\\lib\\site-packages\\dowhy\\causal_estimators\\propensity_score_stratification_estimator.py:236: SettingWithCopyWarning: \n",
      "A value is trying to be set on a copy of a slice from a DataFrame.\n",
      "Try using .loc[row_indexer,col_indexer] = value instead\n",
      "\n",
      "See the caveats in the documentation: https://pandas.pydata.org/pandas-docs/stable/user_guide/indexing.html#returning-a-view-versus-a-copy\n",
      "  data[\"d_y\"] = (\n",
      "D:\\software\\anaconda\\lib\\site-packages\\dowhy\\causal_estimators\\propensity_score_stratification_estimator.py:239: SettingWithCopyWarning: \n",
      "A value is trying to be set on a copy of a slice from a DataFrame.\n",
      "Try using .loc[row_indexer,col_indexer] = value instead\n",
      "\n",
      "See the caveats in the documentation: https://pandas.pydata.org/pandas-docs/stable/user_guide/indexing.html#returning-a-view-versus-a-copy\n",
      "  data[\"dbar_y\"] = data[\"dbar\"] * data[self._target_estimand.outcome_variable[0]]\n"
     ]
    },
    {
     "name": "stdout",
     "output_type": "stream",
     "text": [
      "*** Causal Estimate ***\n",
      "\n",
      "## Identified estimand\n",
      "Estimand type: EstimandType.NONPARAMETRIC_ATE\n",
      "\n",
      "### Estimand : 1\n",
      "Estimand name: backdoor\n",
      "Estimand expression:\n",
      "            d                                                                 \n",
      "──────────────────────────(E[is_canceled|booking_changes,guests,lead_time,days\n",
      "d[different_room_assigned]                                                    \n",
      "\n",
      "                                                                              \n",
      "_in_waiting_list,hotel,total_of_special_requests,is_repeated_guest,total_stay,\n",
      "                                                                              \n",
      "\n",
      "                             \n",
      "required_car_parking_spaces])\n",
      "                             \n",
      "Estimand assumption 1, Unconfoundedness: If U→{different_room_assigned} and U→is_canceled then P(is_canceled|different_room_assigned,booking_changes,guests,lead_time,days_in_waiting_list,hotel,total_of_special_requests,is_repeated_guest,total_stay,required_car_parking_spaces,U) = P(is_canceled|different_room_assigned,booking_changes,guests,lead_time,days_in_waiting_list,hotel,total_of_special_requests,is_repeated_guest,total_stay,required_car_parking_spaces)\n",
      "\n",
      "## Realized estimand\n",
      "b: is_canceled~different_room_assigned+booking_changes+guests+lead_time+days_in_waiting_list+hotel+total_of_special_requests+is_repeated_guest+total_stay+required_car_parking_spaces\n",
      "Target units: ate\n",
      "\n",
      "## Estimate\n",
      "Mean value: -0.23174482218094164\n",
      "\n"
     ]
    }
   ],
   "source": [
    "# ATE = Average Treatment Effect\n",
    "# ATT = Average Treatment Effect on Treated (i.e. those who were assigned a different room)\n",
    "# ATC = Average Treatment Effect on Control (i.e. those who were not assigned a different room)\n",
    "estimate = model.estimate_effect(identified_estimand,\n",
    "                                 method_name=\"backdoor.propensity_score_stratification\",target_units=\"ate\")\n",
    "\n",
    "print(estimate)"
   ]
  },
  {
   "cell_type": "code",
   "execution_count": null,
   "id": "08cc1963-9c7f-418f-866f-507ec01ef94c",
   "metadata": {
    "tags": []
   },
   "outputs": [],
   "source": [
    "#robust check\n",
    "#Random Common Cause\n",
    "refute1_results=model.refute_estimate(identified_estimand, estimate,\n",
    "        method_name=\"random_common_cause\")\n",
    "print(refute1_results)"
   ]
  },
  {
   "cell_type": "code",
   "execution_count": null,
   "id": "6f26ca69-ae74-417f-9497-c6ae67b9dacf",
   "metadata": {},
   "outputs": [],
   "source": [
    "#Placebo Treatment Refuter\n",
    "refute2_results=model.refute_estimate(identified_estimand, estimate,\n",
    "        method_name=\"placebo_treatment_refuter\")\n",
    "print(refute2_results)"
   ]
  },
  {
   "cell_type": "code",
   "execution_count": null,
   "id": "71d87b40-5e7f-4327-a53f-6f7c1745ab90",
   "metadata": {},
   "outputs": [],
   "source": [
    "#Data Subset Refuter\n",
    "refute3_results=model.refute_estimate(identified_estimand, estimate,\n",
    "        method_name=\"data_subset_refuter\")\n",
    "print(refute3_results)"
   ]
  },
  {
   "cell_type": "markdown",
   "id": "000fea8b-4867-426a-9a8c-0c72bdf08f63",
   "metadata": {},
   "source": [
    "DoWhy可以做可视化、形式化和测试所做的假设，这样可以更好地理解分析结果并避免得出错误的结论。主要通过关注假设并尽可能引入对假设有效性的自动检查来实现。DoWhy的强大之处在于它提供了一个formal的因果框架来编码领域知识，并且它可以运行自动化检查任何估计器方法的因果估计的鲁棒性。\n",
    "\n",
    "此外，随着数据的维度变高，我们需要能够处理已知混淆的专门方法。EconML实现了许多最先进的因果估计方法。这个包有一个用于所有技术的通用API，每种技术都作为一系列机器学习任务来实现，允许使用任何现有的机器学习软件来解决这些子任务，从而允许您使用熟悉的ML模型，而不是学习新的工具箱。EconML的强大之处在于，你可以实现因果推理的最新技术，就像运行线性回归或随机林一样简单。\n",
    "\n",
    "DoWhy+EconML提供了一个最先进的端到端因果推理框架，包括最新的因果估计和自动鲁棒性评估，使回答假设问题变得更加容易。"
   ]
  },
  {
   "cell_type": "code",
   "execution_count": 8,
   "id": "383c2d9e-5ffd-4f84-81ef-8dae5a33ea53",
   "metadata": {},
   "outputs": [
    {
     "name": "stderr",
     "output_type": "stream",
     "text": [
      "A column-vector y was passed when a 1d array was expected. Please change the shape of y to (n_samples, ), for example using ravel().\n",
      "A column-vector y was passed when a 1d array was expected. Please change the shape of y to (n_samples, ), for example using ravel().\n"
     ]
    },
    {
     "name": "stdout",
     "output_type": "stream",
     "text": [
      "*** Causal Estimate ***\n",
      "\n",
      "## Identified estimand\n",
      "Estimand type: EstimandType.NONPARAMETRIC_ATE\n",
      "\n",
      "### Estimand : 1\n",
      "Estimand name: backdoor\n",
      "Estimand expression:\n",
      "            d                                                                 \n",
      "──────────────────────────(E[is_canceled|booking_changes,guests,is_repeated_gu\n",
      "d[different_room_assigned]                                                    \n",
      "\n",
      "                                                                              \n",
      "est,total_stay,required_car_parking_spaces,total_of_special_requests,days_in_w\n",
      "                                                                              \n",
      "\n",
      "                             \n",
      "aiting_list,lead_time,hotel])\n",
      "                             \n",
      "Estimand assumption 1, Unconfoundedness: If U→{different_room_assigned} and U→is_canceled then P(is_canceled|different_room_assigned,booking_changes,guests,is_repeated_guest,total_stay,required_car_parking_spaces,total_of_special_requests,days_in_waiting_list,lead_time,hotel,U) = P(is_canceled|different_room_assigned,booking_changes,guests,is_repeated_guest,total_stay,required_car_parking_spaces,total_of_special_requests,days_in_waiting_list,lead_time,hotel)\n",
      "\n",
      "## Realized estimand\n",
      "b: is_canceled~different_room_assigned+booking_changes+guests+is_repeated_guest+total_stay+required_car_parking_spaces+total_of_special_requests+days_in_waiting_list+lead_time+hotel | required_car_parking_spaces,guests,total_stay\n",
      "Target units: ate\n",
      "\n",
      "## Estimate\n",
      "Mean value: -0.22049098571327472\n",
      "Effect estimates: [[-0.18928756]\n",
      " [-0.18928756]\n",
      " [-0.11810466]\n",
      " ...\n",
      " [-0.28253184]\n",
      " [-0.28253184]\n",
      " [-0.29921188]]\n",
      "\n"
     ]
    }
   ],
   "source": [
    "import econml\n",
    "from sklearn.preprocessing import PolynomialFeatures\n",
    "from sklearn.linear_model import LassoCV\n",
    "from sklearn.ensemble import GradientBoostingRegressor\n",
    "\n",
    "dml_estimate = model.estimate_effect(identified_estimand, method_name=\"backdoor.econml.dml.DML\",\n",
    "                                     control_value = 0,\n",
    "                                     treatment_value = 1,\n",
    "                                 confidence_intervals=False,\n",
    "                                method_params={\"init_params\":{'model_y':GradientBoostingRegressor(),\n",
    "                                                              'model_t': GradientBoostingRegressor(),\n",
    "                                                              \"model_final\":LassoCV(fit_intercept=False),\n",
    "                                                              'featurizer':PolynomialFeatures(degree=2, include_bias=True)},\n",
    "                                               \"fit_params\":{}})\n",
    "print(dml_estimate)"
   ]
  },
  {
   "cell_type": "markdown",
   "id": "b5675ad9-1287-48df-91a2-b9a4753616d1",
   "metadata": {},
   "source": [
    "此外, dowhy+econml可以更好的观测关键调节变量的作用，从而分析影响的异质性，并提出具体的细分样本+干预方案：\n",
    "\n",
    "DoWhy 的作用：\n",
    "\n",
    "- 建立因果模型（LinearDML）(DML: LinearDL, CausalForestDML)\n",
    "- 识别影响效果（LinearDML.dowhy.fit(): Backdoor，Frontdoor，IV）\n",
    "- 检验因果假设 - 稳健性检验（添加随机共同原因变量、安慰剂检验、随机删除部分样本）\n",
    "\n",
    "EconML DML 估计器的作用：\n",
    "\n",
    "- 考虑干预的变动\n",
    "- 分析影响的异质性\n",
    "- EconML CATE SingleTreeCateInterpreter -- 展示各个 features 的作用大\n",
    "- EconML CATE SingleTreePolicyInterpreter -- 提出最优政策方案，即指出具体的细分样本+干预方案，以达到收益最大"
   ]
  },
  {
   "cell_type": "code",
   "execution_count": 12,
   "id": "94a7badb-fe97-4a0b-ab6d-03e2955fab19",
   "metadata": {},
   "outputs": [],
   "source": [
    "import warnings\n",
    "warnings.simplefilter('ignore')\n",
    "import os\n",
    "import urllib.request\n",
    "import numpy as np\n",
    "import pandas as pd\n",
    "from networkx.drawing.nx_pydot import to_pydot\n",
    "from IPython.display import Image, display\n",
    "\n",
    "## \n",
    "from sklearn.preprocessing import PolynomialFeatures\n",
    "from sklearn.ensemble import GradientBoostingRegressor\n",
    "\n",
    "## \n",
    "from econml.dml import LinearDML, CausalForestDML\n",
    "from econml.cate_interpreter import SingleTreeCateInterpreter, SingleTreePolicyInterpreter\n",
    "\n",
    "import matplotlib.pyplot as plt\n",
    "%matplotlib inline\n",
    "%config InlineBackend.figure_format = 'retina'"
   ]
  },
  {
   "cell_type": "code",
   "execution_count": 16,
   "id": "49e8606d-233f-4539-b6ae-7afb2f36e78e",
   "metadata": {},
   "outputs": [],
   "source": [
    "# so, we can assum the feature:is_repreated_guest is mediation parameter\n",
    "Y = dataset['is_canceled'].values\n",
    "T = dataset['different_room_assigned'].values\n",
    "X = dataset['is_repeated_guest'].values\n",
    "\n",
    "\n",
    "confounder_cols = ['hotel', 'lead_time', 'arrival_date_month',\n",
    "       'arrival_date_week_number', 'meal', 'country', 'market_segment',\n",
    "       'previous_cancellations',\n",
    "       'previous_bookings_not_canceled', 'booking_changes', 'deposit_type',\n",
    "       'days_in_waiting_list', 'customer_type', 'adr',\n",
    "       'required_car_parking_spaces', 'total_of_special_requests',\n",
    "       'total_stay', 'guests']\n",
    "W = dataset[confounder_cols].values"
   ]
  },
  {
   "cell_type": "code",
   "execution_count": null,
   "id": "9fdbebd9-cb52-4b95-8376-2b261c2f84fb",
   "metadata": {},
   "outputs": [],
   "source": [
    "## init EconML in Linear model\n",
    "est = LinearDML(model_y=GradientBoostingRegressor(), model_t=GradientBoostingRegressor(),\n",
    "              featurizer=PolynomialFeatures(degree=2, include_bias=False))\n",
    "\n",
    "## use DoWhy to estimate\n",
    "est_dw = est.dowhy.fit(Y, T, X=X, W=W, outcome_names=['is_canceled'], treatment_names=['different_room_assigned'], feature_names=['is_repeated_guest'],\n",
    "               confounder_names=confounder_cols, inference=\"statsmodels\")\n",
    "\n",
    "## draw graph\n",
    "try:\n",
    "    # Try pretty printing the graph. Requires pydot and pygraphviz\n",
    "    display(\n",
    "        Image(to_pydot(est_dw._graph._graph).create_png())\n",
    "    )\n",
    "except:\n",
    "    # Fall back on default graph view\n",
    "    est_dw.view_model() "
   ]
  },
  {
   "cell_type": "code",
   "execution_count": null,
   "id": "2c8d1149-b214-46a1-945c-fc3dcbcdd57c",
   "metadata": {},
   "outputs": [],
   "source": [
    "## output\n",
    "identified_estimand = est_dw.identified_estimand_\n",
    "print(identified_estimand)"
   ]
  },
  {
   "cell_type": "code",
   "execution_count": null,
   "id": "106f9f06-201a-49f9-a984-ad8ef2aa7027",
   "metadata": {},
   "outputs": [],
   "source": [
    "#get test data\n",
    "sub_data = dataset.sample(n=10000, random_state=1)\n",
    "X_test = sub_data['is_repeated_guest']\n",
    "\n",
    "# Get treatment effect and its confidence interval\n",
    "te_pred = est_dw.effect(X_test).flatten()\n",
    "te_pred_interval = est_dw.effect_interval(X_test)"
   ]
  },
  {
   "cell_type": "code",
   "execution_count": null,
   "id": "154b9f51-6a11-4ce0-9cd1-7d591d315b55",
   "metadata": {},
   "outputs": [],
   "source": [
    "# Compare the estimate and the truth\n",
    "truth_te_estimate = subdata['is_canceled']\n",
    "plt.figure(figsize=(10, 6))\n",
    "\n",
    "plt.plot(X_test.flatten(), te_pred, label=\"Prediction Value\")\n",
    "plt.plot(X_test.flatten(), truth_te_estimate, \"--\", label=\"True Value\")\n",
    "plt.fill_between(\n",
    "    X_test.flatten(),\n",
    "    te_pred_interval[0].flatten(),\n",
    "    te_pred_interval[1].flatten(),\n",
    "    alpha=0.2,\n",
    "    label=\"95% Confidence Interval\",\n",
    ")\n",
    "plt.fill_between(\n",
    "    X_test.flatten(),\n",
    "    truth_te_lower,\n",
    "    truth_te_upper,\n",
    "    alpha=0.2,\n",
    "    label=\"True Value Range\",\n",
    ")\n",
    "plt.xlabel(\"is_repeated_guest\")\n",
    "plt.ylabel(\"is_cancelled\")\n",
    "plt.title(\"is_cancelled vs is_repeated_guest\")\n",
    "plt.legend(loc=\"lower right\")"
   ]
  },
  {
   "cell_type": "code",
   "execution_count": null,
   "id": "9f2a9b54-1c95-413c-a0d8-9f15d5df351b",
   "metadata": {},
   "outputs": [],
   "source": [
    "## init EconML in CausalForest model\n",
    "est = CausalForestDML(model_y=GradientBoostingRegressor(), model_t=GradientBoostingRegressor(),\n",
    "              featurizer=PolynomialFeatures(degree=2, include_bias=False))\n",
    "\n",
    "## use DoWhy to estimate\n",
    "est_dw = est.dowhy.fit(Y, T, X=X, W=W, outcome_names=['is_canceled'], treatment_names=['different_room_assigned'], feature_names=['is_repeated_guest'],\n",
    "               confounder_names=confounder_cols, inference=\"statsmodels\")\n",
    "\n",
    "\n",
    "## 计算干预效应及其置信区间\n",
    "te_pred = est_nonparam_dw.effect(X_test).flatten()\n",
    "te_pred_interval = est_nonparam_dw.effect_interval(X_test)\n",
    "\n",
    "## 比较非参估计的结果和真实结果\n",
    "plt.figure(figsize=(16, 10))\n",
    "plt.plot(X_test.flatten(), te_pred, label=\"Prediction Value\")\n",
    "plt.plot(X_test.flatten(), truth_te_estimate, \"--\", label=\"True Value\")\n",
    "plt.fill_between(\n",
    "    X_test.flatten(),\n",
    "    te_pred_interval[0].flatten(),\n",
    "    te_pred_interval[1].flatten(),\n",
    "    alpha=0.2,\n",
    "    label=\"95% Confidence Interval\",\n",
    ")\n",
    "plt.fill_between(\n",
    "    X_test.flatten(),\n",
    "    truth_te_lower,\n",
    "    truth_te_upper,\n",
    "    alpha=0.2,\n",
    "    label=\"True Value Range\",\n",
    ")\n",
    "plt.xlabel(\"is_repeated_guest\")\n",
    "plt.ylabel(\"is_cancelled\")\n",
    "plt.title(\"is_cancelled vs is_repeated_guest\")\n",
    "plt.legend(loc=\"lower right\")"
   ]
  },
  {
   "cell_type": "code",
   "execution_count": null,
   "id": "2c8d1824-c511-4461-a103-bfa92582bc15",
   "metadata": {},
   "outputs": [],
   "source": [
    "#Robust check\n",
    "res_random = est_nonparam_dw.refute_estimate(method_name=\"random_common_cause\")\n",
    "print(res_random)"
   ]
  },
  {
   "cell_type": "code",
   "execution_count": null,
   "id": "7028e4a5-d62b-4214-8e56-d9dd424d06e9",
   "metadata": {},
   "outputs": [],
   "source": [
    "res_unobserved = est_nonparam_dw.refute_estimate(\n",
    "    method_name=\"add_unobserved_common_cause\",\n",
    "    confounders_effect_on_treatment=\"linear\",\n",
    "    confounders_effect_on_outcome=\"linear\",\n",
    "    effect_strength_on_treatment=0.1,\n",
    "    effect_strength_on_outcome=0.1,\n",
    ")\n",
    "print(res_unobserved)"
   ]
  },
  {
   "cell_type": "code",
   "execution_count": null,
   "id": "367addc0-166a-43e8-bf79-bde16f801fdd",
   "metadata": {},
   "outputs": [],
   "source": [
    "res_placebo = est_nonparam_dw.refute_estimate(\n",
    "    method_name=\"placebo_treatment_refuter\", placebo_type=\"permute\", \n",
    "    num_simulations=3\n",
    ")\n",
    "print(res_placebo)"
   ]
  },
  {
   "cell_type": "code",
   "execution_count": null,
   "id": "22d1c862-5710-40ef-9eca-55ef5623a5a8",
   "metadata": {},
   "outputs": [],
   "source": [
    "res_subset = est_nonparam_dw.refute_estimate(\n",
    "    method_name=\"data_subset_refuter\", subset_fraction=0.8, \n",
    "    num_simulations=3)\n",
    "print(res_subset)"
   ]
  },
  {
   "cell_type": "code",
   "execution_count": null,
   "id": "c81570fe-0752-4844-a16b-d04efe947740",
   "metadata": {},
   "outputs": [],
   "source": [
    "# Understand Treatment Effects with EconML\n",
    "intrp = SingleTreeCateInterpreter(include_model_uncertainty=True, max_depth=2, min_samples_leaf=10)\n",
    "intrp.interpret(est_nonparam_dw, X_test)\n",
    "plt.figure(figsize=(25, 5))\n",
    "intrp.plot(feature_names=[\"is_repeated_guest\"], fontsize=12)"
   ]
  },
  {
   "cell_type": "code",
   "execution_count": null,
   "id": "5d471863-1229-46f5-9ab7-2f2c89dfdae3",
   "metadata": {},
   "outputs": [],
   "source": [
    "# Make Policy Decision with EconML\n",
    "intrp = SingleTreePolicyInterpreter(risk_level=0.05, max_depth=2, min_samples_leaf=1, min_impurity_decrease=0.001)\n",
    "intrp.interpret(est_nonparam_dw, X_test, sample_treatment_costs=-1)\n",
    "plt.figure(figsize=(25, 5))\n",
    "intrp.plot(feature_names=[\"is_repeated_guest\"], treatment_names=[\"Repeated\", \"No-Repeated\"], fontsize=12)"
   ]
  }
 ],
 "metadata": {
  "kernelspec": {
   "display_name": "Python 3 (ipykernel)",
   "language": "python",
   "name": "python3"
  },
  "language_info": {
   "codemirror_mode": {
    "name": "ipython",
    "version": 3
   },
   "file_extension": ".py",
   "mimetype": "text/x-python",
   "name": "python",
   "nbconvert_exporter": "python",
   "pygments_lexer": "ipython3",
   "version": "3.9.13"
  }
 },
 "nbformat": 4,
 "nbformat_minor": 5
}
