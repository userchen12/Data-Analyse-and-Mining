{
 "cells": [
  {
   "cell_type": "code",
   "execution_count": 1,
   "id": "8ec36623-b033-4d8e-967e-096c66ee32fa",
   "metadata": {},
   "outputs": [],
   "source": [
    "# load packages\n",
    "import numpy as np\n",
    "import pandas as pd\n",
    "import matplotlib.pyplot as plt\n",
    "import seaborn as sns\n",
    "import math"
   ]
  },
  {
   "cell_type": "code",
   "execution_count": 2,
   "id": "2936d3fb-633a-4c60-a525-0fb8b664e4f8",
   "metadata": {},
   "outputs": [
    {
     "name": "stdout",
     "output_type": "stream",
     "text": [
      "<class 'pandas.core.frame.DataFrame'>\n",
      "RangeIndex: 710 entries, 0 to 709\n",
      "Data columns (total 13 columns):\n",
      " #   Column           Non-Null Count  Dtype \n",
      "---  ------           --------------  ----- \n",
      " 0   deal_id          710 non-null    object\n",
      " 1   start_date       710 non-null    object\n",
      " 2   min_req          710 non-null    int64 \n",
      " 3   treatment        710 non-null    int64 \n",
      " 4   prom_length      710 non-null    int64 \n",
      " 5   price            710 non-null    int64 \n",
      " 6   discount_pct     710 non-null    int64 \n",
      " 7   coupon_duration  710 non-null    int64 \n",
      " 8   featured         710 non-null    int64 \n",
      " 9   limited_supply   710 non-null    int64 \n",
      " 10  fb_likes         710 non-null    int64 \n",
      " 11  quantity_sold    710 non-null    int64 \n",
      " 12  revenue          710 non-null    int64 \n",
      "dtypes: int64(11), object(2)\n",
      "memory usage: 72.2+ KB\n"
     ]
    }
   ],
   "source": [
    "# read data\n",
    "df = pd.read_csv('..\\..\\..\\数据集\\因果识别数据集\\groupon.csv')\n",
    "df.info()"
   ]
  },
  {
   "cell_type": "code",
   "execution_count": null,
   "id": "fc314544-4adc-4125-92c5-53f568d7a444",
   "metadata": {},
   "outputs": [],
   "source": []
  }
 ],
 "metadata": {
  "kernelspec": {
   "display_name": "Python 3 (ipykernel)",
   "language": "python",
   "name": "python3"
  },
  "language_info": {
   "codemirror_mode": {
    "name": "ipython",
    "version": 3
   },
   "file_extension": ".py",
   "mimetype": "text/x-python",
   "name": "python",
   "nbconvert_exporter": "python",
   "pygments_lexer": "ipython3",
   "version": "3.9.13"
  }
 },
 "nbformat": 4,
 "nbformat_minor": 5
}
