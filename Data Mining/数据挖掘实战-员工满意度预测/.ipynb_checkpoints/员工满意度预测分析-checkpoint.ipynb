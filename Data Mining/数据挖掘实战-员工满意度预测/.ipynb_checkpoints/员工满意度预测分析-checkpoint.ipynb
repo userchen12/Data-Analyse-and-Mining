{
 "cells": [
  {
   "cell_type": "code",
   "execution_count": 1,
   "metadata": {},
   "outputs": [],
   "source": [
    "import pandas as pd \n",
    "import numpy as np\n",
    "from sklearn.metrics import mean_squared_error\n",
    "import lightgbm as lgb\n",
    "from sklearn.model_selection import KFold\n",
    "from sklearn.model_selection import RandomizedSearchCV"
   ]
  },
  {
   "cell_type": "code",
   "execution_count": 142,
   "metadata": {},
   "outputs": [],
   "source": [
    "data = pd.read_csv('训练集.csv')"
   ]
  },
  {
   "cell_type": "code",
   "execution_count": 143,
   "metadata": {},
   "outputs": [
    {
     "name": "stdout",
     "output_type": "stream",
     "text": [
      "<class 'pandas.core.frame.DataFrame'>\n",
      "RangeIndex: 11999 entries, 0 to 11998\n",
      "Data columns (total 11 columns):\n",
      " #   Column                 Non-Null Count  Dtype  \n",
      "---  ------                 --------------  -----  \n",
      " 0   id                     11999 non-null  int64  \n",
      " 1   last_evaluation        11999 non-null  float64\n",
      " 2   number_project         11999 non-null  int64  \n",
      " 3   average_monthly_hours  11999 non-null  float64\n",
      " 4   time_spend_company     11999 non-null  int64  \n",
      " 5   Work_accident          11999 non-null  int64  \n",
      " 6   package                11999 non-null  object \n",
      " 7   promotion_last_5years  11999 non-null  int64  \n",
      " 8   division               11999 non-null  object \n",
      " 9   salary                 11999 non-null  object \n",
      " 10  satisfaction_level     11999 non-null  float64\n",
      "dtypes: float64(3), int64(5), object(3)\n",
      "memory usage: 1.0+ MB\n"
     ]
    }
   ],
   "source": [
    "data.info()"
   ]
  },
  {
   "cell_type": "code",
   "execution_count": 5,
   "metadata": {},
   "outputs": [
    {
     "data": {
      "text/html": [
       "<div>\n",
       "<style scoped>\n",
       "    .dataframe tbody tr th:only-of-type {\n",
       "        vertical-align: middle;\n",
       "    }\n",
       "\n",
       "    .dataframe tbody tr th {\n",
       "        vertical-align: top;\n",
       "    }\n",
       "\n",
       "    .dataframe thead th {\n",
       "        text-align: right;\n",
       "    }\n",
       "</style>\n",
       "<table border=\"1\" class=\"dataframe\">\n",
       "  <thead>\n",
       "    <tr style=\"text-align: right;\">\n",
       "      <th></th>\n",
       "      <th>id</th>\n",
       "      <th>last_evaluation</th>\n",
       "      <th>number_project</th>\n",
       "      <th>average_monthly_hours</th>\n",
       "      <th>time_spend_company</th>\n",
       "      <th>Work_accident</th>\n",
       "      <th>package</th>\n",
       "      <th>promotion_last_5years</th>\n",
       "      <th>division</th>\n",
       "      <th>salary</th>\n",
       "      <th>satisfaction_level</th>\n",
       "    </tr>\n",
       "  </thead>\n",
       "  <tbody>\n",
       "    <tr>\n",
       "      <th>0</th>\n",
       "      <td>13697</td>\n",
       "      <td>0.99</td>\n",
       "      <td>3</td>\n",
       "      <td>161.39</td>\n",
       "      <td>2</td>\n",
       "      <td>0</td>\n",
       "      <td>a</td>\n",
       "      <td>0</td>\n",
       "      <td>accounting</td>\n",
       "      <td>medium</td>\n",
       "      <td>0.681</td>\n",
       "    </tr>\n",
       "    <tr>\n",
       "      <th>1</th>\n",
       "      <td>1142</td>\n",
       "      <td>1.00</td>\n",
       "      <td>5</td>\n",
       "      <td>226.22</td>\n",
       "      <td>6</td>\n",
       "      <td>0</td>\n",
       "      <td>b</td>\n",
       "      <td>0</td>\n",
       "      <td>marketing</td>\n",
       "      <td>low</td>\n",
       "      <td>0.876</td>\n",
       "    </tr>\n",
       "    <tr>\n",
       "      <th>2</th>\n",
       "      <td>7954</td>\n",
       "      <td>0.91</td>\n",
       "      <td>5</td>\n",
       "      <td>199.45</td>\n",
       "      <td>2</td>\n",
       "      <td>0</td>\n",
       "      <td>e</td>\n",
       "      <td>0</td>\n",
       "      <td>sales</td>\n",
       "      <td>medium</td>\n",
       "      <td>0.955</td>\n",
       "    </tr>\n",
       "    <tr>\n",
       "      <th>3</th>\n",
       "      <td>2225</td>\n",
       "      <td>0.51</td>\n",
       "      <td>3</td>\n",
       "      <td>235.14</td>\n",
       "      <td>3</td>\n",
       "      <td>0</td>\n",
       "      <td>c</td>\n",
       "      <td>0</td>\n",
       "      <td>sales</td>\n",
       "      <td>low</td>\n",
       "      <td>0.817</td>\n",
       "    </tr>\n",
       "    <tr>\n",
       "      <th>4</th>\n",
       "      <td>9753</td>\n",
       "      <td>0.89</td>\n",
       "      <td>3</td>\n",
       "      <td>219.91</td>\n",
       "      <td>2</td>\n",
       "      <td>0</td>\n",
       "      <td>a</td>\n",
       "      <td>0</td>\n",
       "      <td>technical</td>\n",
       "      <td>low</td>\n",
       "      <td>0.920</td>\n",
       "    </tr>\n",
       "  </tbody>\n",
       "</table>\n",
       "</div>"
      ],
      "text/plain": [
       "      id  last_evaluation  number_project  average_monthly_hours  \\\n",
       "0  13697             0.99               3                 161.39   \n",
       "1   1142             1.00               5                 226.22   \n",
       "2   7954             0.91               5                 199.45   \n",
       "3   2225             0.51               3                 235.14   \n",
       "4   9753             0.89               3                 219.91   \n",
       "\n",
       "   time_spend_company  Work_accident package  promotion_last_5years  \\\n",
       "0                   2              0       a                      0   \n",
       "1                   6              0       b                      0   \n",
       "2                   2              0       e                      0   \n",
       "3                   3              0       c                      0   \n",
       "4                   2              0       a                      0   \n",
       "\n",
       "     division  salary  satisfaction_level  \n",
       "0  accounting  medium               0.681  \n",
       "1   marketing     low               0.876  \n",
       "2       sales  medium               0.955  \n",
       "3       sales     low               0.817  \n",
       "4   technical     low               0.920  "
      ]
     },
     "execution_count": 5,
     "metadata": {},
     "output_type": "execute_result"
    }
   ],
   "source": [
    "data.head()"
   ]
  },
  {
   "cell_type": "code",
   "execution_count": 10,
   "metadata": {},
   "outputs": [
    {
     "data": {
      "text/plain": [
       "True"
      ]
     },
     "execution_count": 10,
     "metadata": {},
     "output_type": "execute_result"
    }
   ],
   "source": [
    "# 数据质量检验,Id是否唯一\n",
    "pd.Series(data['id']).nunique()  == len(data['id'])"
   ]
  },
  {
   "cell_type": "code",
   "execution_count": 12,
   "metadata": {},
   "outputs": [
    {
     "data": {
      "text/plain": [
       "<AxesSubplot:>"
      ]
     },
     "execution_count": 12,
     "metadata": {},
     "output_type": "execute_result"
    },
    {
     "data": {
      "image/png": "[encoded data removed]",
      "text/plain": [
       "<Figure size 432x288 with 1 Axes>"
      ]
     },
     "metadata": {
      "needs_background": "light"
     },
     "output_type": "display_data"
    }
   ],
   "source": [
    "#异常值分析\n",
    "from matplotlib import pyplot as plt\n",
    "import seaborn as sns"
   ]
  },
  {
   "cell_type": "code",
   "execution_count": 15,
   "metadata": {},
   "outputs": [
    {
     "data": {
      "text/plain": [
       "<AxesSubplot:>"
      ]
     },
     "execution_count": 15,
     "metadata": {},
     "output_type": "execute_result"
    },
    {
     "data": {
      "image/png": "[encoded data removed]",
      "text/plain": [
       "<Figure size 432x288 with 1 Axes>"
      ]
     },
     "metadata": {
      "needs_background": "light"
     },
     "output_type": "display_data"
    }
   ],
   "source": [
    "data['last_evaluation'].hist()"
   ]
  },
  {
   "cell_type": "code",
   "execution_count": 16,
   "metadata": {},
   "outputs": [
    {
     "data": {
      "text/plain": [
       "<AxesSubplot:>"
      ]
     },
     "execution_count": 16,
     "metadata": {},
     "output_type": "execute_result"
    },
    {
     "data": {
      "image/png": "[encoded data removed]",
      "text/plain": [
       "<Figure size 432x288 with 1 Axes>"
      ]
     },
     "metadata": {
      "needs_background": "light"
     },
     "output_type": "display_data"
    }
   ],
   "source": [
    "data['average_monthly_hours'].hist()"
   ]
  },
  {
   "cell_type": "code",
   "execution_count": 18,
   "metadata": {},
   "outputs": [
    {
     "name": "stdout",
     "output_type": "stream",
     "text": [
      "313.11\n",
      "95.1\n"
     ]
    }
   ],
   "source": [
    "print(data['average_monthly_hours'].max())\n",
    "print(data['average_monthly_hours'].min())"
   ]
  },
  {
   "cell_type": "code",
   "execution_count": 20,
   "metadata": {},
   "outputs": [
    {
     "data": {
      "text/plain": [
       "<AxesSubplot:>"
      ]
     },
     "execution_count": 20,
     "metadata": {},
     "output_type": "execute_result"
    },
    {
     "data": {
      "image/png": "[encoded data removed]",
      "text/plain": [
       "<Figure size 432x288 with 1 Axes>"
      ]
     },
     "metadata": {
      "needs_background": "light"
     },
     "output_type": "display_data"
    }
   ],
   "source": [
    "data['time_spend_company'].hist()"
   ]
  },
  {
   "cell_type": "code",
   "execution_count": 21,
   "metadata": {
    "scrolled": false
   },
   "outputs": [
    {
     "data": {
      "text/plain": [
       "<AxesSubplot:>"
      ]
     },
     "execution_count": 21,
     "metadata": {},
     "output_type": "execute_result"
    },
    {
     "data": {
      "image/png": "[encoded data removed]",
      "text/plain": [
       "<Figure size 432x288 with 1 Axes>"
      ]
     },
     "metadata": {
      "needs_background": "light"
     },
     "output_type": "display_data"
    }
   ],
   "source": [
    "data['number_project'].hist()"
   ]
  },
  {
   "cell_type": "code",
   "execution_count": 144,
   "metadata": {},
   "outputs": [
    {
     "data": {
      "text/plain": [
       "<AxesSubplot:xlabel='package', ylabel='Count'>"
      ]
     },
     "execution_count": 144,
     "metadata": {},
     "output_type": "execute_result"
    },
    {
     "data": {
      "image/png": "[encoded data removed]",
      "text/plain": [
       "<Figure size 432x288 with 1 Axes>"
      ]
     },
     "metadata": {},
     "output_type": "display_data"
    }
   ],
   "source": [
    "df = data.copy()\n",
    "sns.set()\n",
    "sns.histplot(data['package'])"
   ]
  },
  {
   "cell_type": "code",
   "execution_count": 145,
   "metadata": {},
   "outputs": [],
   "source": [
    "def text_decode(data):\n",
    "    type_list = data.unique().tolist()\n",
    "    type_list.sort()\n",
    "    return data.map(pd.Series(range(len(type_list)),index=type_list)).values\n",
    "\n",
    "# 将福利待遇和工资相对等级数值化\n",
    "df['salary'] = df['salary'].map(pd.Series({'low':1,'medium':2,'high':3}))\n",
    "df['package'] = text_decode(df['package'])"
   ]
  },
  {
   "cell_type": "code",
   "execution_count": 146,
   "metadata": {},
   "outputs": [],
   "source": [
    "# 独热编码division\n",
    "df_dummies = df['division']\n",
    "df_dummies = pd.get_dummies(df_dummies)\n",
    "df = df.drop('division',axis=1)\n",
    "df = pd.concat([df,df_dummies],axis=1)"
   ]
  },
  {
   "cell_type": "code",
   "execution_count": 147,
   "metadata": {},
   "outputs": [],
   "source": [
    "# 将数值类型的数据标准化\n",
    "from sklearn.preprocessing import StandardScaler,normalize\n",
    "std = StandardScaler()\n",
    "for col in list(['last_evaluation','average_monthly_hours','time_spend_company','number_project']):\n",
    "    # reshape(-1,1)是将行数据转化为列数据\n",
    "    df[col] = std.fit_transform(df[col].values.reshape(-1,1))"
   ]
  },
  {
   "cell_type": "code",
   "execution_count": 148,
   "metadata": {
    "scrolled": true
   },
   "outputs": [
    {
     "data": {
      "text/html": [
       "<div>\n",
       "<style scoped>\n",
       "    .dataframe tbody tr th:only-of-type {\n",
       "        vertical-align: middle;\n",
       "    }\n",
       "\n",
       "    .dataframe tbody tr th {\n",
       "        vertical-align: top;\n",
       "    }\n",
       "\n",
       "    .dataframe thead th {\n",
       "        text-align: right;\n",
       "    }\n",
       "</style>\n",
       "<table border=\"1\" class=\"dataframe\">\n",
       "  <thead>\n",
       "    <tr style=\"text-align: right;\">\n",
       "      <th></th>\n",
       "      <th>id</th>\n",
       "      <th>last_evaluation</th>\n",
       "      <th>number_project</th>\n",
       "      <th>average_monthly_hours</th>\n",
       "      <th>time_spend_company</th>\n",
       "      <th>Work_accident</th>\n",
       "      <th>package</th>\n",
       "      <th>promotion_last_5years</th>\n",
       "      <th>salary</th>\n",
       "      <th>satisfaction_level</th>\n",
       "      <th>IT</th>\n",
       "      <th>RandD</th>\n",
       "      <th>accounting</th>\n",
       "      <th>hr</th>\n",
       "      <th>management</th>\n",
       "      <th>marketing</th>\n",
       "      <th>product_mng</th>\n",
       "      <th>sales</th>\n",
       "      <th>support</th>\n",
       "      <th>technical</th>\n",
       "    </tr>\n",
       "  </thead>\n",
       "  <tbody>\n",
       "    <tr>\n",
       "      <th>0</th>\n",
       "      <td>13697</td>\n",
       "      <td>1.606376</td>\n",
       "      <td>-0.647068</td>\n",
       "      <td>-0.818098</td>\n",
       "      <td>-1.025141</td>\n",
       "      <td>0</td>\n",
       "      <td>0</td>\n",
       "      <td>0</td>\n",
       "      <td>2</td>\n",
       "      <td>0.681</td>\n",
       "      <td>0</td>\n",
       "      <td>0</td>\n",
       "      <td>1</td>\n",
       "      <td>0</td>\n",
       "      <td>0</td>\n",
       "      <td>0</td>\n",
       "      <td>0</td>\n",
       "      <td>0</td>\n",
       "      <td>0</td>\n",
       "      <td>0</td>\n",
       "    </tr>\n",
       "    <tr>\n",
       "      <th>1</th>\n",
       "      <td>1142</td>\n",
       "      <td>1.664950</td>\n",
       "      <td>0.979107</td>\n",
       "      <td>0.481469</td>\n",
       "      <td>1.706975</td>\n",
       "      <td>0</td>\n",
       "      <td>1</td>\n",
       "      <td>0</td>\n",
       "      <td>1</td>\n",
       "      <td>0.876</td>\n",
       "      <td>0</td>\n",
       "      <td>0</td>\n",
       "      <td>0</td>\n",
       "      <td>0</td>\n",
       "      <td>0</td>\n",
       "      <td>1</td>\n",
       "      <td>0</td>\n",
       "      <td>0</td>\n",
       "      <td>0</td>\n",
       "      <td>0</td>\n",
       "    </tr>\n",
       "    <tr>\n",
       "      <th>2</th>\n",
       "      <td>7954</td>\n",
       "      <td>1.137790</td>\n",
       "      <td>0.979107</td>\n",
       "      <td>-0.055156</td>\n",
       "      <td>-1.025141</td>\n",
       "      <td>0</td>\n",
       "      <td>4</td>\n",
       "      <td>0</td>\n",
       "      <td>2</td>\n",
       "      <td>0.955</td>\n",
       "      <td>0</td>\n",
       "      <td>0</td>\n",
       "      <td>0</td>\n",
       "      <td>0</td>\n",
       "      <td>0</td>\n",
       "      <td>0</td>\n",
       "      <td>0</td>\n",
       "      <td>1</td>\n",
       "      <td>0</td>\n",
       "      <td>0</td>\n",
       "    </tr>\n",
       "    <tr>\n",
       "      <th>3</th>\n",
       "      <td>2225</td>\n",
       "      <td>-1.205145</td>\n",
       "      <td>-0.647068</td>\n",
       "      <td>0.660278</td>\n",
       "      <td>-0.342112</td>\n",
       "      <td>0</td>\n",
       "      <td>2</td>\n",
       "      <td>0</td>\n",
       "      <td>1</td>\n",
       "      <td>0.817</td>\n",
       "      <td>0</td>\n",
       "      <td>0</td>\n",
       "      <td>0</td>\n",
       "      <td>0</td>\n",
       "      <td>0</td>\n",
       "      <td>0</td>\n",
       "      <td>0</td>\n",
       "      <td>1</td>\n",
       "      <td>0</td>\n",
       "      <td>0</td>\n",
       "    </tr>\n",
       "    <tr>\n",
       "      <th>4</th>\n",
       "      <td>9753</td>\n",
       "      <td>1.020643</td>\n",
       "      <td>-0.647068</td>\n",
       "      <td>0.354980</td>\n",
       "      <td>-1.025141</td>\n",
       "      <td>0</td>\n",
       "      <td>0</td>\n",
       "      <td>0</td>\n",
       "      <td>1</td>\n",
       "      <td>0.920</td>\n",
       "      <td>0</td>\n",
       "      <td>0</td>\n",
       "      <td>0</td>\n",
       "      <td>0</td>\n",
       "      <td>0</td>\n",
       "      <td>0</td>\n",
       "      <td>0</td>\n",
       "      <td>0</td>\n",
       "      <td>0</td>\n",
       "      <td>1</td>\n",
       "    </tr>\n",
       "  </tbody>\n",
       "</table>\n",
       "</div>"
      ],
      "text/plain": [
       "      id  last_evaluation  number_project  average_monthly_hours  \\\n",
       "0  13697         1.606376       -0.647068              -0.818098   \n",
       "1   1142         1.664950        0.979107               0.481469   \n",
       "2   7954         1.137790        0.979107              -0.055156   \n",
       "3   2225        -1.205145       -0.647068               0.660278   \n",
       "4   9753         1.020643       -0.647068               0.354980   \n",
       "\n",
       "   time_spend_company  Work_accident  package  promotion_last_5years  salary  \\\n",
       "0           -1.025141              0        0                      0       2   \n",
       "1            1.706975              0        1                      0       1   \n",
       "2           -1.025141              0        4                      0       2   \n",
       "3           -0.342112              0        2                      0       1   \n",
       "4           -1.025141              0        0                      0       1   \n",
       "\n",
       "   satisfaction_level  IT  RandD  accounting  hr  management  marketing  \\\n",
       "0               0.681   0      0           1   0           0          0   \n",
       "1               0.876   0      0           0   0           0          1   \n",
       "2               0.955   0      0           0   0           0          0   \n",
       "3               0.817   0      0           0   0           0          0   \n",
       "4               0.920   0      0           0   0           0          0   \n",
       "\n",
       "   product_mng  sales  support  technical  \n",
       "0            0      0        0          0  \n",
       "1            0      0        0          0  \n",
       "2            0      1        0          0  \n",
       "3            0      1        0          0  \n",
       "4            0      0        0          1  "
      ]
     },
     "execution_count": 148,
     "metadata": {},
     "output_type": "execute_result"
    }
   ],
   "source": [
    "df.head()"
   ]
  },
  {
   "cell_type": "code",
   "execution_count": 1,
   "metadata": {},
   "outputs": [
    {
     "ename": "NameError",
     "evalue": "name 'df' is not defined",
     "output_type": "error",
     "traceback": [
      "\u001b[1;31m---------------------------------------------------------------------------\u001b[0m",
      "\u001b[1;31mNameError\u001b[0m                                 Traceback (most recent call last)",
      "\u001b[1;32m<ipython-input-1-6b9075d6223c>\u001b[0m in \u001b[0;36m<module>\u001b[1;34m\u001b[0m\n\u001b[0;32m      1\u001b[0m \u001b[1;31m# 开始模型训练：lightgbm+网格寻优,lightgbm的预测值不能为float\u001b[0m\u001b[1;33m\u001b[0m\u001b[1;33m\u001b[0m\u001b[1;33m\u001b[0m\u001b[0m\n\u001b[0;32m      2\u001b[0m \u001b[0mtarget\u001b[0m \u001b[1;33m=\u001b[0m \u001b[1;33m[\u001b[0m\u001b[1;34m'satisfaction_level'\u001b[0m\u001b[1;33m]\u001b[0m\u001b[1;33m\u001b[0m\u001b[1;33m\u001b[0m\u001b[0m\n\u001b[1;32m----> 3\u001b[1;33m \u001b[0mfeatures\u001b[0m \u001b[1;33m=\u001b[0m \u001b[0mdf\u001b[0m\u001b[1;33m.\u001b[0m\u001b[0mdrop\u001b[0m\u001b[1;33m(\u001b[0m\u001b[1;33m[\u001b[0m\u001b[1;34m'satisfaction_level'\u001b[0m\u001b[1;33m,\u001b[0m\u001b[1;34m'id'\u001b[0m\u001b[1;33m]\u001b[0m\u001b[1;33m,\u001b[0m\u001b[0maxis\u001b[0m\u001b[1;33m=\u001b[0m\u001b[1;36m1\u001b[0m\u001b[1;33m)\u001b[0m\u001b[1;33m.\u001b[0m\u001b[0mcolumns\u001b[0m\u001b[1;33m\u001b[0m\u001b[1;33m\u001b[0m\u001b[0m\n\u001b[0m",
      "\u001b[1;31mNameError\u001b[0m: name 'df' is not defined"
     ]
    }
   ],
   "source": [
    "# 开始模型训练：lightgbm+网格寻优,lightgbm的预测值不能为float\n",
    "target = ['satisfaction_level']\n",
    "features = df.drop(['satisfaction_level','id'],axis=1).columns"
   ]
  },
  {
   "cell_type": "code",
   "execution_count": 173,
   "metadata": {},
   "outputs": [
    {
     "data": {
      "text/plain": [
       "Index(['last_evaluation', 'number_project', 'average_monthly_hours',\n",
       "       'time_spend_company', 'Work_accident', 'package',\n",
       "       'promotion_last_5years', 'salary', 'IT', 'RandD', 'accounting', 'hr',\n",
       "       'management', 'marketing', 'product_mng', 'sales', 'support',\n",
       "       'technical'],\n",
       "      dtype='object')"
      ]
     },
     "execution_count": 173,
     "metadata": {},
     "output_type": "execute_result"
    }
   ],
   "source": [
    "features"
   ]
  },
  {
   "cell_type": "code",
   "execution_count": 2,
   "metadata": {},
   "outputs": [
    {
     "data": {
      "application/javascript": [
       "\n",
       "        if (window._pyforest_update_imports_cell) { window._pyforest_update_imports_cell('import pandas as pd'); }\n",
       "    "
      ],
      "text/plain": [
       "<IPython.core.display.Javascript object>"
      ]
     },
     "metadata": {},
     "output_type": "display_data"
    },
    {
     "data": {
      "application/javascript": [
       "\n",
       "        if (window._pyforest_update_imports_cell) { window._pyforest_update_imports_cell('import pandas as pd'); }\n",
       "    "
      ],
      "text/plain": [
       "<IPython.core.display.Javascript object>"
      ]
     },
     "metadata": {},
     "output_type": "display_data"
    },
    {
     "data": {
      "application/javascript": [
       "\n",
       "        if (window._pyforest_update_imports_cell) { window._pyforest_update_imports_cell('import pandas as pd'); }\n",
       "    "
      ],
      "text/plain": [
       "<IPython.core.display.Javascript object>"
      ]
     },
     "metadata": {},
     "output_type": "display_data"
    },
    {
     "data": {
      "application/javascript": [
       "\n",
       "        if (window._pyforest_update_imports_cell) { window._pyforest_update_imports_cell('import pandas as pd'); }\n",
       "    "
      ],
      "text/plain": [
       "<IPython.core.display.Javascript object>"
      ]
     },
     "metadata": {},
     "output_type": "display_data"
    },
    {
     "data": {
      "application/javascript": [
       "\n",
       "        if (window._pyforest_update_imports_cell) { window._pyforest_update_imports_cell('import pandas as pd'); }\n",
       "    "
      ],
      "text/plain": [
       "<IPython.core.display.Javascript object>"
      ]
     },
     "metadata": {},
     "output_type": "display_data"
    }
   ],
   "source": [
    "# 汇总上述处理过程\n",
    "train = pd.read_csv('训练集.csv')\n",
    "def text_decode(data):\n",
    "    type_list = data.unique().tolist()\n",
    "    type_list.sort()\n",
    "    return data.map(pd.Series(range(len(type_list)),index=type_list)).values\n",
    "\n",
    "# 将福利待遇和工资相对等级数值化\n",
    "train['salary'] = train['salary'].map(pd.Series({'low':1,'medium':2,'high':3}))\n",
    "train['package'] = text_decode(train['package'])\n",
    "\n",
    "# 独热编码division\n",
    "train_dummies = train['division']\n",
    "train_dummies = pd.get_dummies(train_dummies)\n",
    "train = train.drop('division',axis=1)\n",
    "train = pd.concat([train,train_dummies],axis=1)\n",
    "\n",
    "# 将数值类型的数据标准化\n",
    "from sklearn.preprocessing import StandardScaler,normalize\n",
    "std = StandardScaler()\n",
    "for col in list(['last_evaluation','average_monthly_hours','time_spend_company','number_project']):\n",
    "    # reshape(-1,1)是将行数据转化为列数据\n",
    "    train[col] = std.fit_transform(train[col].values.reshape(-1,1))"
   ]
  },
  {
   "cell_type": "code",
   "execution_count": 5,
   "metadata": {},
   "outputs": [
    {
     "ename": "ModuleNotFoundError",
     "evalue": "No module named 'gplearn'",
     "output_type": "error",
     "traceback": [
      "\u001b[1;31m---------------------------------------------------------------------------\u001b[0m",
      "\u001b[1;31mModuleNotFoundError\u001b[0m                       Traceback (most recent call last)",
      "\u001b[1;32m<ipython-input-5-32c78720d942>\u001b[0m in \u001b[0;36m<module>\u001b[1;34m\u001b[0m\n\u001b[0;32m      1\u001b[0m \u001b[1;31m# 使用遗传编码进行特征构造\u001b[0m\u001b[1;33m\u001b[0m\u001b[1;33m\u001b[0m\u001b[1;33m\u001b[0m\u001b[0m\n\u001b[1;32m----> 2\u001b[1;33m \u001b[1;32mfrom\u001b[0m \u001b[0mgplearn\u001b[0m \u001b[1;32mimport\u001b[0m \u001b[0mSymbolicTransformer\u001b[0m\u001b[1;33m\u001b[0m\u001b[1;33m\u001b[0m\u001b[0m\n\u001b[0m\u001b[0;32m      3\u001b[0m \u001b[1;33m\u001b[0m\u001b[0m\n\u001b[0;32m      4\u001b[0m \u001b[0mtarget\u001b[0m \u001b[1;33m=\u001b[0m \u001b[1;33m[\u001b[0m\u001b[1;34m'satisfaction_level'\u001b[0m\u001b[1;33m]\u001b[0m\u001b[1;33m\u001b[0m\u001b[1;33m\u001b[0m\u001b[0m\n\u001b[0;32m      5\u001b[0m \u001b[0mfeatures\u001b[0m \u001b[1;33m=\u001b[0m \u001b[0mtrain\u001b[0m\u001b[1;33m.\u001b[0m\u001b[0mdrop\u001b[0m\u001b[1;33m(\u001b[0m\u001b[1;33m[\u001b[0m\u001b[1;34m'satisfaction_level'\u001b[0m\u001b[1;33m,\u001b[0m\u001b[1;34m'id'\u001b[0m\u001b[1;33m]\u001b[0m\u001b[1;33m,\u001b[0m\u001b[0maxis\u001b[0m\u001b[1;33m=\u001b[0m\u001b[1;36m1\u001b[0m\u001b[1;33m)\u001b[0m\u001b[1;33m.\u001b[0m\u001b[0mcolumns\u001b[0m\u001b[1;33m\u001b[0m\u001b[1;33m\u001b[0m\u001b[0m\n",
      "\u001b[1;31mModuleNotFoundError\u001b[0m: No module named 'gplearn'"
     ]
    }
   ],
   "source": [
    "# 使用遗传编码进行特征构造\n",
    "from gplearn import SymbolicTransformer\n",
    "\n",
    "target = ['satisfaction_level']\n",
    "features = train.drop(['satisfaction_level','id'],axis=1).columns\n",
    "# 使用超过20代的2000人。选择最好的100个hall_of_fame，然后使用最不相关的10作为我们的新功能。因为我们使用线性模型作为估算器，所以这里使用默认值metric='pearson'。\n",
    "function_set = ['add', 'sub', 'mul', 'div',\n",
    "                'sqrt', 'log', 'abs', 'neg', 'inv',\n",
    "                'max', 'min']\n",
    "gp = SymbolicTransformer(generations=20, population_size=2000,\n",
    "                         hall_of_fame=100, n_components=10,\n",
    "                         function_set=function_set,\n",
    "                         parsimony_coefficient=0.0005,\n",
    "                         max_samples=0.9, verbose=1,\n",
    "                         random_state=0, n_jobs=3)\n",
    "gp.fit(train[features],train[target])\n",
    "# 将构造的特征拼接到原始数据上\n",
    "gp_features = gp.transform(train[features])\n",
    "new_train = np.hstack(train[features],gp_features)"
   ]
  },
  {
   "cell_type": "code",
   "execution_count": 175,
   "metadata": {},
   "outputs": [],
   "source": [
    "# 对测试集数据进行相同的处理\n",
    "test = pd.read_csv('测试集.csv')\n",
    "def text_decode(data):\n",
    "    type_list = data.unique().tolist()\n",
    "    type_list.sort()\n",
    "    return data.map(pd.Series(range(len(type_list)),index=type_list)).values\n",
    "\n",
    "# 将福利待遇和工资相对等级数值化\n",
    "test['salary'] = test['salary'].map(pd.Series({'low':1,'medium':2,'high':3}))\n",
    "test['package'] = text_decode(test['package'])\n",
    "\n",
    "# 独热编码division\n",
    "test_dummies = test['division']\n",
    "test_dummies = pd.get_dummies(test_dummies)\n",
    "test = test.drop('division',axis=1)\n",
    "test = pd.concat([test,test_dummies],axis=1)\n",
    "\n",
    "# 将数值类型的数据标准化\n",
    "from sklearn.preprocessing import StandardScaler,normalize\n",
    "std = StandardScaler()\n",
    "for col in list(['last_evaluation','average_monthly_hours','time_spend_company','number_project']):\n",
    "    # reshape(-1,1)是将行数据转化为列数据\n",
    "    test[col] = std.fit_transform(test[col].values.reshape(-1,1))"
   ]
  },
  {
   "cell_type": "code",
   "execution_count": 172,
   "metadata": {},
   "outputs": [],
   "source": [
    "# 开始模型训练：lightgbm+网格寻优,lightgbm的预测值不能为float\n",
    "target = ['satisfaction_level']\n",
    "features = df.drop(['satisfaction_level','id'],axis=1).columns"
   ]
  },
  {
   "cell_type": "code",
   "execution_count": 205,
   "metadata": {
    "scrolled": true
   },
   "outputs": [],
   "source": [
    "# 交叉验证\n",
    "def inter_valid(train,test,model):\n",
    "    \n",
    "    target = ['satisfaction_level']\n",
    "    features = train.drop(['satisfaction_level','id'],axis=1).columns\n",
    "    \n",
    "    scores = []\n",
    "    predictions_test = 0\n",
    "    predictions_eval = pd.Series()\n",
    "    kf = KFold(n_splits=5,random_state=22,shuffle=True)\n",
    "    for train_idx, eval_idx in kf.split(train[features],train[target]):\n",
    "        model.fit(train[features].loc[train_idx].values,train[target].loc[train_idx].values)\n",
    "        # 先生成测试集的预测结果\n",
    "        prediction_test = model.predict(test[features].values)\n",
    "        # pd.Series()化后按列累加\n",
    "#         print(pd.Series(prediction_test))\n",
    "        predictions_test += pd.Series(prediction_test)\n",
    "        # 生成验证集的结果\n",
    "        prediction_eval = model.predict(train[features].loc[eval_idx])\n",
    "        # 存储验证集的结果\n",
    "        predictions_eval = predictions_eval.append(pd.Series(prediction_eval,index = eval_idx))\n",
    "        # 储存评分\n",
    "        score = np.sqrt(mean_squared_error(prediction_eval,train[target].loc[eval_idx].values))\n",
    "        scores.append(score)\n",
    "    return scores,predictions_test"
   ]
  },
  {
   "cell_type": "code",
   "execution_count": 252,
   "metadata": {
    "scrolled": true
   },
   "outputs": [
    {
     "name": "stderr",
     "output_type": "stream",
     "text": [
      "<ipython-input-205-311b331a81b0>:9: DeprecationWarning: The default dtype for empty Series will be 'object' instead of 'float64' in a future version. Specify a dtype explicitly to silence this warning.\n",
      "  predictions_eval = pd.Series()\n",
      "<ipython-input-205-311b331a81b0>:12: DataConversionWarning: A column-vector y was passed when a 1d array was expected. Please change the shape of y to (n_samples,), for example using ravel().\n",
      "  model.fit(train[features].loc[train_idx].values,train[target].loc[train_idx].values)\n",
      "<ipython-input-205-311b331a81b0>:12: DataConversionWarning: A column-vector y was passed when a 1d array was expected. Please change the shape of y to (n_samples,), for example using ravel().\n",
      "  model.fit(train[features].loc[train_idx].values,train[target].loc[train_idx].values)\n",
      "<ipython-input-205-311b331a81b0>:12: DataConversionWarning: A column-vector y was passed when a 1d array was expected. Please change the shape of y to (n_samples,), for example using ravel().\n",
      "  model.fit(train[features].loc[train_idx].values,train[target].loc[train_idx].values)\n",
      "<ipython-input-205-311b331a81b0>:12: DataConversionWarning: A column-vector y was passed when a 1d array was expected. Please change the shape of y to (n_samples,), for example using ravel().\n",
      "  model.fit(train[features].loc[train_idx].values,train[target].loc[train_idx].values)\n",
      "<ipython-input-205-311b331a81b0>:12: DataConversionWarning: A column-vector y was passed when a 1d array was expected. Please change the shape of y to (n_samples,), for example using ravel().\n",
      "  model.fit(train[features].loc[train_idx].values,train[target].loc[train_idx].values)\n"
     ]
    },
    {
     "data": {
      "text/plain": [
       "0.17924147672804822"
      ]
     },
     "execution_count": 252,
     "metadata": {},
     "output_type": "execute_result"
    }
   ],
   "source": [
    "# 随机森林模型\n",
    "from sklearn.ensemble import RandomForestRegressor\n",
    "model = RandomForestRegressor(\n",
    "            bootstrap = True,\n",
    "            oob_score = True,\n",
    ")\n",
    "scores,predictions = inter_valid(train,test,model)\n",
    "sum(scores)/5"
   ]
  },
  {
   "cell_type": "code",
   "execution_count": 253,
   "metadata": {},
   "outputs": [
    {
     "name": "stderr",
     "output_type": "stream",
     "text": [
      "<ipython-input-205-311b331a81b0>:9: DeprecationWarning: The default dtype for empty Series will be 'object' instead of 'float64' in a future version. Specify a dtype explicitly to silence this warning.\n",
      "  predictions_eval = pd.Series()\n",
      "E:\\anaconda\\lib\\site-packages\\sklearn\\utils\\validation.py:63: DataConversionWarning: A column-vector y was passed when a 1d array was expected. Please change the shape of y to (n_samples, ), for example using ravel().\n",
      "  return f(*args, **kwargs)\n",
      "E:\\anaconda\\lib\\site-packages\\sklearn\\utils\\validation.py:63: DataConversionWarning: A column-vector y was passed when a 1d array was expected. Please change the shape of y to (n_samples, ), for example using ravel().\n",
      "  return f(*args, **kwargs)\n",
      "E:\\anaconda\\lib\\site-packages\\sklearn\\utils\\validation.py:63: DataConversionWarning: A column-vector y was passed when a 1d array was expected. Please change the shape of y to (n_samples, ), for example using ravel().\n",
      "  return f(*args, **kwargs)\n",
      "E:\\anaconda\\lib\\site-packages\\sklearn\\utils\\validation.py:63: DataConversionWarning: A column-vector y was passed when a 1d array was expected. Please change the shape of y to (n_samples, ), for example using ravel().\n",
      "  return f(*args, **kwargs)\n",
      "E:\\anaconda\\lib\\site-packages\\sklearn\\utils\\validation.py:63: DataConversionWarning: A column-vector y was passed when a 1d array was expected. Please change the shape of y to (n_samples, ), for example using ravel().\n",
      "  return f(*args, **kwargs)\n"
     ]
    },
    {
     "data": {
      "text/plain": [
       "0.19723224803461958"
      ]
     },
     "execution_count": 253,
     "metadata": {},
     "output_type": "execute_result"
    }
   ],
   "source": [
    "# 简易lightgbm模型\n",
    "model = lgb.LGBMRegressor(\n",
    "    learning_rate=0.5,\n",
    "    reg_alpha=0,\n",
    "    reg_lambda=1,\n",
    "    n_estimators=200,\n",
    "    random_state=22,\n",
    ")\n",
    "scores,predictions = inter_valid(train,test,model)\n",
    "sum(scores)/5"
   ]
  },
  {
   "cell_type": "code",
   "execution_count": 247,
   "metadata": {},
   "outputs": [],
   "source": [
    "commit_data = pd.concat([pd.DataFrame(test['id']),pd.DataFrame(predictions/5)],axis = 1,ignore_index=True)\n",
    "commit_data.columns=['id','satisfaction_level']\n",
    "commit_data.set_index('id',inplace=True)\n",
    "commit_data.to_csv('result-randomforest.csv')\n",
    "\n",
    "# commit_data = pd.DataFrame(commit_data).columns=['id']\n",
    "\n",
    "# commit_data.shape"
   ]
  },
  {
   "cell_type": "code",
   "execution_count": 207,
   "metadata": {},
   "outputs": [
    {
     "data": {
      "text/plain": [
       "0.17924016890164282"
      ]
     },
     "execution_count": 207,
     "metadata": {},
     "output_type": "execute_result"
    }
   ],
   "source": []
  }
 ],
 "metadata": {
  "kernelspec": {
   "display_name": "Python 3",
   "language": "python",
   "name": "python3"
  },
  "language_info": {
   "codemirror_mode": {
    "name": "ipython",
    "version": 3
   },
   "file_extension": ".py",
   "mimetype": "text/x-python",
   "name": "python",
   "nbconvert_exporter": "python",
   "pygments_lexer": "ipython3",
   "version": "3.8.5"
  },
  "toc": {
   "base_numbering": 1,
   "nav_menu": {},
   "number_sections": true,
   "sideBar": true,
   "skip_h1_title": false,
   "title_cell": "Table of Contents",
   "title_sidebar": "Contents",
   "toc_cell": false,
   "toc_position": {},
   "toc_section_display": true,
   "toc_window_display": false
  }
 },
 "nbformat": 4,
 "nbformat_minor": 4
}
