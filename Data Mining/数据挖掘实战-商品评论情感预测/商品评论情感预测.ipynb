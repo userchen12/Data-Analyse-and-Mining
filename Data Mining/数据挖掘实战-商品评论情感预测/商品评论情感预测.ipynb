{
 "cells": [
  {
   "cell_type": "markdown",
   "metadata": {},
   "source": [
    "- 1.商品信息部分\n",
    "\n",
    "字段处理：\n",
    "\n",
    "商品名称：分词统计，jieba\n",
    "\n",
    "所属类别：拆分后与商品类别列表关联，onehot编码"
   ]
  },
  {
   "cell_type": "code",
   "execution_count": 3,
   "metadata": {},
   "outputs": [],
   "source": [
    "# 分词统计:\n",
    "import jieba\n",
    "from jieba import analyse\n",
    "def analyse_text(text):\n",
    "    analyse.set_stopwords('') #此处加载停用词表\n",
    "    split_words = analyse.extract_tags(text)\n",
    "    return split_words\n",
    "\n",
    "# 独热编码\n",
    "def onehot_code(word_list):\n",
    "    return ','.join(word_list).str.get_dummies(sep=',')\n",
    "    "
   ]
  },
  {
   "cell_type": "markdown",
   "metadata": {},
   "source": [
    "- 2.商品类别列表\n",
    "\n",
    "与商品信息列表进行关联\n",
    "\n",
    "- 3.训练集\n",
    "\n",
    "数据id：检查唯一性\n",
    "\n",
    "用户id：聚合键，一些统计指标\n",
    "\n",
    "商品id：关联键，上述2个文件处理完之后关联到文件中\n",
    "\n",
    "评论时间戳： 按照时间戳对评论进行排序和赋权\n",
    "\n",
    "评论标题： 分词进行情感分析\n",
    "\n",
    "评论内容：nlp进行情感分析，词频统计\n",
    "\n",
    "完成之后进行交叉验证"
   ]
  },
  {
   "cell_type": "code",
   "execution_count": 5,
   "metadata": {
    "scrolled": true
   },
   "outputs": [
    {
     "ename": "SyntaxError",
     "evalue": "invalid syntax (<ipython-input-5-7650bfbee4bd>, line 9)",
     "output_type": "error",
     "traceback": [
      "\u001b[1;36m  File \u001b[1;32m\"<ipython-input-5-7650bfbee4bd>\"\u001b[1;36m, line \u001b[1;32m9\u001b[0m\n\u001b[1;33m    stopwords =\u001b[0m\n\u001b[1;37m                ^\u001b[0m\n\u001b[1;31mSyntaxError\u001b[0m\u001b[1;31m:\u001b[0m invalid syntax\n"
     ]
    }
   ],
   "source": [
    "# 唯一性检查\n",
    "train['数据ID'].unique() == len(train['数据ID'])\n",
    "\n",
    "#评论时间戳:\n",
    "\n",
    "\n",
    "# 评论内容：\n",
    "# 评论长度\n",
    "stopwords = \n",
    "def words_count(text):\n",
    "    sub_replace = re.compile('[^0-9a-z\\s]')\n",
    "    text = sub_replace.sub('',text.lower())\n",
    "    text = ' 'join(word for word in text if word not in stopwords)\n",
    "    return len(text)\n",
    "\n",
    "\n",
    "# 数据清洗，出去无用字符，此处需检查\n",
    "def standardize_text(df, text_field):\n",
    "    df[text_field] = df[text_field].str.replace(r\"http\\S+\", \"\")\n",
    "    df[text_field] = df[text_field].str.replace(r\"http\", \"\")\n",
    "    df[text_field] = df[text_field].str.replace(r\"@\\S+\", \"\")\n",
    "    df[text_field] = df[text_field].str.replace(r\"[^A-Za-z0-9(),!?@\\'\\`\\\"\\_\\n]\", \" \")\n",
    "    df[text_field] = df[text_field].str.replace(r\"@\", \"at\")\n",
    "    df[text_field] = df[text_field].str.lower()\n",
    "    return df\n",
    "\n",
    "# 简单的文本情感分析\n",
    "from sklearn.model_selection import KFold\n",
    "kf = KFold(n_splits=5, random_state=22, shuffle=True)\n",
    "def text_emotion_analyse(data,text):\n",
    "    vectorizer = CountVectorizer()\n",
    "    words_features = vectorizer.fit_transform(data[text]).toarray\n",
    "    return words_features\n",
    "       "
   ]
  },
  {
   "cell_type": "code",
   "execution_count": null,
   "metadata": {},
   "outputs": [],
   "source": [
    "# 参数寻优：RandomGridSearchCV+lightgbm\n",
    "from sklearn.model_selection import RandomizedSearchCV\n",
    "# from sklearn.model_selection import LGBMClassifier\n",
    "import lightgbm as lgb\n",
    "parameters = {\n",
    "    'max_depth': [4,6,8],\n",
    "    'num_leaves': [20,30,40],\n",
    "}\n",
    "\n",
    "gbm = lgb.LGBMClassifier(objective = 'binary',\n",
    "                         is_unbalance = True,\n",
    "                         metric = 'binary_logloss,auc',\n",
    "                         max_depth = 6,\n",
    "                         num_leaves = 40,\n",
    "                         learning_rate = 0.1,\n",
    "                         feature_fraction = 0.7,\n",
    "                         min_child_samples=21,\n",
    "                         min_child_weight=0.001,\n",
    "                         bagging_fraction = 1,\n",
    "                         bagging_freq = 2,\n",
    "                         reg_alpha = 0.001,\n",
    "                         reg_lambda = 8,\n",
    "                         cat_smooth = 0,\n",
    "                         num_iterations = 200,   \n",
    "                        )\n",
    "gsearch = RandomizedSearchCV(gbm, param_grid=parameters, scoring='roc_auc', cv=3)\n",
    "gsearch.fit(train_features, train_y)\n",
    "print('参数的最佳取值:{0}'.format(gsearch.best_params_))\n",
    "print('最佳模型得分:{0}'.format(gsearch.best_score_))\n",
    "print(gsearch.cv_results_['mean_test_score'])\n",
    "print(gsearch.cv_results_['params'])"
   ]
  },
  {
   "cell_type": "code",
   "execution_count": null,
   "metadata": {},
   "outputs": [],
   "source": [
    "# 交叉验证\n",
    "from sklearn.model_selection import KFold\n",
    "from sklearn.metrics import \n",
    "kf = KFold(n_splits=5, random_state=22, shuffle=True)\n",
    "def data_split_vaild():\n",
    "    scores = []\n",
    "    for train_idx, eval_idx in kf.split(features,target):\n",
    "        clf.fit(features[train_idx],target[train_idx].values)\n",
    "        predictions = clf.predict(features[eval_idx])\n",
    "        "
   ]
  }
 ],
 "metadata": {
  "kernelspec": {
   "display_name": "Python 3",
   "language": "python",
   "name": "python3"
  },
  "language_info": {
   "codemirror_mode": {
    "name": "ipython",
    "version": 3
   },
   "file_extension": ".py",
   "mimetype": "text/x-python",
   "name": "python",
   "nbconvert_exporter": "python",
   "pygments_lexer": "ipython3",
   "version": "3.8.5"
  },
  "toc": {
   "base_numbering": 1,
   "nav_menu": {},
   "number_sections": true,
   "sideBar": true,
   "skip_h1_title": false,
   "title_cell": "Table of Contents",
   "title_sidebar": "Contents",
   "toc_cell": false,
   "toc_position": {},
   "toc_section_display": true,
   "toc_window_display": false
  }
 },
 "nbformat": 4,
 "nbformat_minor": 4
}
