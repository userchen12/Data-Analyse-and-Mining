{
 "cells": [
  {
   "cell_type": "code",
   "execution_count": null,
   "metadata": {},
   "outputs": [],
   "source": [
    "import numpy as np\n",
    "import pandas as pd\n",
    "import datetime\n",
    "import matplotlib\n",
    "import matplotlib.pyplot as plt\n",
    "from matplotlib import colors\n",
    "import seaborn as sns\n",
    "from sklearn.preprocessing import LabelEncoder\n",
    "from sklearn.preprocessing import StandardScaler\n",
    "from sklearn.preprocessing import MinMaxScaler,OneHotEncoder \n",
    "from sklearn.decomposition import PCA\n",
    "from sklearn import preprocessing \n",
    "from yellowbrick.cluster import KElbowVisualizer\n",
    "from sklearn.cluster import KMeans\n",
    "import matplotlib.pyplot as plt, numpy as np\n",
    "from mpl_toolkits.mplot3d import Axes3D\n",
    "from sklearn.cluster import AgglomerativeClustering\n",
    "from matplotlib.colors import ListedColormap\n",
    "from sklearn import metrics\n",
    "from sklearn import cluster\n",
    "pd.set_option('display.max_rows', None) # 省略画图中的明细过程\n",
    "plt.rcParams['font.sans-serif'] = ['Sim Hei']#中文编码"
   ]
  },
  {
   "cell_type": "markdown",
   "metadata": {},
   "source": [
    "## K—means聚类渠道广告效果分析\n",
    "\n",
    "### 一、数据探索\n",
    "\n",
    "本项目，通过各类广告渠道90天内额日均UV，平均注册率、平均搜索率、访问深度、平均停留时长、订单转化率、投放时间、素材类型、广告类型、合作方式、广告尺寸和广告卖点等特征，将渠道分类，找出每类渠道的重点特征，为业务讨论和数据分析提供支持。\n",
    "数据13个维度介绍\n",
    "\n",
    "渠道代号：渠道唯一标识\n",
    "\n",
    "日均UV：每天的独立访问量\n",
    "\n",
    "平均注册率=日均注册用户数/平均每日访问量\n",
    "\n",
    "平均搜索量：每个访问的搜索量\n",
    "\n",
    "访问深度：总页面浏览量/平均每天的访问量\n",
    "\n",
    "平均停留时长=总停留时长/平均每天的访问量\n",
    "\n",
    "订单转化率=总订单数量/平均每天的访客量\n",
    "\n",
    "投放时间：每个广告在外投放的天数\n",
    "\n",
    "素材类型：‘jpg’ ‘swf’ ‘gif’ ‘sp’\n",
    "\n",
    "广告类型：banner. tips. 不确定. 横幅. 暂停\n",
    "\n",
    "合作方式：‘roi’ ‘cpc’ ‘cpm’ ‘cpd’\n",
    "\n",
    "广告尺寸：‘14040’ ‘308388’ ‘450300’ ‘60090’ ‘480360’ ‘960126’ ‘900120’\n",
    "‘390270’\n",
    "\n",
    "广告卖点：打折. 满减. 满赠. 秒杀. 直降. 满返"
   ]
  },
  {
   "cell_type": "code",
   "execution_count": null,
   "metadata": {},
   "outputs": [],
   "source": [
    "raw_data = pd.read_csv('ad_performance.csv')\n",
    "raw_data.head()"
   ]
  },
  {
   "cell_type": "code",
   "execution_count": null,
   "metadata": {
    "scrolled": true
   },
   "outputs": [],
   "source": [
    "raw_data.info()"
   ]
  },
  {
   "cell_type": "code",
   "execution_count": null,
   "metadata": {
    "scrolled": true
   },
   "outputs": [],
   "source": [
    "# 可以用pandas_profiling,更全面\n",
    "from pandas_profiling import ProfileReport\n",
    "ProfileReport(raw_data)"
   ]
  },
  {
   "cell_type": "markdown",
   "metadata": {},
   "source": [
    "## 数据清洗"
   ]
  },
  {
   "cell_type": "code",
   "execution_count": null,
   "metadata": {},
   "outputs": [],
   "source": [
    "# 观察Unnamed列\n",
    "len(raw_data['Unnamed: 0'].unique()) == len(raw_data['Unnamed: 0'])\n",
    "# drop掉'Unnamed: 0'\n",
    "raw_data = raw_data.drop(['Unnamed: 0'],axis=1)\n",
    "raw_data"
   ]
  },
  {
   "cell_type": "code",
   "execution_count": null,
   "metadata": {},
   "outputs": [],
   "source": [
    "# 查看缺失情况\n",
    "raw_data.isnull().sum()/len(raw_data['平均停留时间'])\n",
    "# 查看具体缺失行\n",
    "raw_data[raw_data['平均停留时间'].isnull()]\n",
    "# 处理缺失值\n",
    "raw_data = raw_data.dropna()"
   ]
  },
  {
   "cell_type": "code",
   "execution_count": null,
   "metadata": {
    "scrolled": true
   },
   "outputs": [],
   "source": [
    "# 比率指标容易产生辛普森悖论，还原\n",
    "raw_data['总UV']=raw_data['日均UV']*raw_data['投放总时间']\n",
    "raw_data['注册总量']=raw_data['日均UV']*raw_data['平均注册率']*raw_data['投放总时间']\n",
    "raw_data['总搜索量']=raw_data['平均搜索量']*raw_data['总UV']\n",
    "raw_data['总页面浏览量']=raw_data['总UV']*raw_data['访问深度']\n",
    "raw_data['总停留时间']=raw_data['总UV']*raw_data['平均停留时间']\n",
    "raw_data['总订单数量']=raw_data['总UV']*raw_data['订单转化率']\n",
    "raw_data['投放天数']=raw_data['投放总时间']\n",
    "raw_data.head()"
   ]
  },
  {
   "cell_type": "code",
   "execution_count": null,
   "metadata": {},
   "outputs": [],
   "source": [
    "# drop掉原来的列\n",
    "drop_list = ['日均UV','平均注册率','平均搜索量','访问深度','平均停留时间','订单转化率','投放总时间']\n",
    "df = raw_data.drop(drop_list,axis=1)\n",
    "df"
   ]
  },
  {
   "cell_type": "code",
   "execution_count": null,
   "metadata": {},
   "outputs": [],
   "source": [
    "# 观察指标间的关系，其实在ProfileReport里有展示，但热力图更直观\n",
    "import seaborn as sns\n",
    "# pd.set_option('display.max_rows', None) # 省略画图中的明细过程\n",
    "fig, ax = plt.subplots(figsize=(10,10),dpi=100)\n",
    "plt.rcParams['font.sans-serif'] = ['Sim Hei']#中文编码\n",
    "corr = df.corr().round(2)\n",
    "sns.set_style(\"darkgrid\",{\"font.sans-serif\":['KaiTi', 'Arial']})\n",
    "sns.heatmap(corr,cmap='Blues',annot=True)"
   ]
  },
  {
   "cell_type": "code",
   "execution_count": null,
   "metadata": {},
   "outputs": [],
   "source": [
    "# 可以看到数值变量之间相关性较强，可能产生较强的共线性，应用PCA降维\n",
    "#分别处理label类和value类\n",
    "label_list = ['素材类型','广告类型','合作方式','广告尺寸','广告卖点'] \n",
    "label_dummies = pd.get_dummies(df[label_list])"
   ]
  },
  {
   "cell_type": "code",
   "execution_count": null,
   "metadata": {},
   "outputs": [],
   "source": [
    "label_model = OneHotEncoder(sparse=False)\n",
    "label_matrix = label_model.fit_transform(df[label_list])\n",
    "label_matrix"
   ]
  },
  {
   "cell_type": "code",
   "execution_count": null,
   "metadata": {},
   "outputs": [],
   "source": [
    "value_list = df.drop(label_list,axis = 1)\n",
    "value_list = value_list.drop('渠道代号',axis=1)\n",
    "value_list = value_list.columns"
   ]
  },
  {
   "cell_type": "code",
   "execution_count": null,
   "metadata": {},
   "outputs": [],
   "source": [
    "value_list"
   ]
  },
  {
   "cell_type": "code",
   "execution_count": null,
   "metadata": {},
   "outputs": [],
   "source": [
    "# 标准化\n",
    "from sklearn.preprocessing import Normalizer\n",
    "model = Normalizer()\n",
    "value_scaled = model.fit_transform(df[value_list])\n",
    "value_scaled"
   ]
  },
  {
   "cell_type": "code",
   "execution_count": null,
   "metadata": {},
   "outputs": [],
   "source": [
    "# PCA降维\n",
    "X_matrix = np.hstack((value_scaled,label_matrix))\n",
    "pca_model = PCA(n_components=0.80) #要求降维后的数据保留90%的信息\n",
    "after_pca = pd.DataFrame(pca_model.fit_transform(X_matrix))\n",
    "after_pca"
   ]
  },
  {
   "cell_type": "code",
   "execution_count": null,
   "metadata": {},
   "outputs": [],
   "source": [
    "col_list = ['col'+str(i) for i in range(1,len(after_pca.columns)+1)]\n",
    "after_pca.columns = col_list\n",
    "after_pca"
   ]
  },
  {
   "cell_type": "markdown",
   "metadata": {},
   "source": [
    "## K-maens聚类"
   ]
  },
  {
   "cell_type": "code",
   "execution_count": null,
   "metadata": {},
   "outputs": [],
   "source": [
    "# 手肘法确定K值\n",
    "Elbow = KElbowVisualizer(KMeans(),k=(4,12))\n",
    "Elbow.fit(after_pca)\n",
    "Elbow.show()"
   ]
  },
  {
   "cell_type": "code",
   "execution_count": null,
   "metadata": {},
   "outputs": [],
   "source": [
    "# 聚类，k=6\n",
    "k_means_result = KMeans(7).fit_predict(after_pca)\n",
    "k_re = pd.DataFrame(k_means_result,columns=['clusters'])\n",
    "new_df = pd.concat((df,k_re),axis=1)\n",
    "new_df"
   ]
  },
  {
   "cell_type": "markdown",
   "metadata": {},
   "source": [
    "## 分析结果"
   ]
  },
  {
   "cell_type": "code",
   "execution_count": null,
   "metadata": {
    "scrolled": true
   },
   "outputs": [],
   "source": [
    "sns.countplot(new_df['clusters']).set_title(\"Distribution Of The Clusters\")"
   ]
  },
  {
   "cell_type": "markdown",
   "metadata": {},
   "source": [
    "### 成本分析"
   ]
  },
  {
   "cell_type": "code",
   "execution_count": null,
   "metadata": {},
   "outputs": [],
   "source": [
    "df_cost = new_df.groupby(['clusters'],as_index=False)['投放天数'].sum()\n",
    "sns.barplot(x='clusters',y='投放天数',data=df_cost)\n",
    "for x,y in zip(df_cost['clusters'],df_cost['投放天数']):\n",
    "    plt.text(x=x,y=y,s='{:.0f}'.format(y),ha='center')"
   ]
  },
  {
   "cell_type": "markdown",
   "metadata": {},
   "source": [
    "可以看到，投放天数主要集中于1，2，3渠道"
   ]
  },
  {
   "cell_type": "code",
   "execution_count": null,
   "metadata": {},
   "outputs": [],
   "source": [
    "# 交叉合作方式\n",
    "# plt.rcParams['font.sans-serif'] = ['Arial Unicode MS']#中文编码\n",
    "sns.boxplot(x='clusters',y='投放天数',hue='合作方式',data=new_df)"
   ]
  },
  {
   "cell_type": "markdown",
   "metadata": {},
   "source": [
    "### 效果分析"
   ]
  },
  {
   "cell_type": "code",
   "execution_count": null,
   "metadata": {},
   "outputs": [],
   "source": [
    "df_register = new_df.groupby(['clusters'],as_index=False)['注册总量'].sum()\n",
    "sns.barplot(x='clusters',y='注册总量',data=df_register)\n",
    "# # 增加数值标签\n",
    "for x,y in zip(df_register['clusters'],df_register['注册总量']):\n",
    "    plt.text(x=x,y=y,s='{:.0f}'.format(y),ha='center')"
   ]
  },
  {
   "cell_type": "code",
   "execution_count": null,
   "metadata": {},
   "outputs": [],
   "source": [
    "# 订单数,转化率\n",
    "df_order = new_df.groupby(['clusters'],as_index=False)['总订单数量'].sum()\n",
    "sns.barplot(x='clusters',y='总订单数量',data=df_order)\n",
    "# # 增加数值标签\n",
    "for x,y in zip(df_order['clusters'],df_order['总订单数量']):\n",
    "    plt.text(x=x,y=y,s='{:.0f}'.format(y),ha='center')"
   ]
  },
  {
   "cell_type": "code",
   "execution_count": null,
   "metadata": {},
   "outputs": [],
   "source": [
    "# 综合上述指标\n",
    "df_all = pd.concat([df_cost.set_index('clusters'),df_register.set_index('clusters'),df_order.set_index('clusters')],axis=1)\n",
    "df_all['单位投放注册率'] = df_all['注册总量']/df_all['投放天数']\n",
    "df_all['单位投放订单数'] = df_all['总订单数量']/df_all['投放天数']\n",
    "df_all['转化率'] = df_all['总订单数量']/df_all['注册总量']\n",
    "df_all"
   ]
  },
  {
   "cell_type": "code",
   "execution_count": null,
   "metadata": {},
   "outputs": [],
   "source": [
    "sns.barplot(x=df_all.index,y=df_all['单位投放注册率'])\n",
    "for x,y in zip(df_all.index,df_all['单位投放注册率']):\n",
    "    plt.text(x=x,y=y,s='{:.4f}'.format(y),ha='center')"
   ]
  },
  {
   "cell_type": "code",
   "execution_count": null,
   "metadata": {},
   "outputs": [],
   "source": [
    "sns.barplot(x=df_all.index,y=df_all['单位投放订单数'])\n",
    "for x,y in zip(df_all.index,df_all['单位投放订单数']):\n",
    "    plt.text(x=x,y=y,s='{:.4f}'.format(y),ha='center')"
   ]
  },
  {
   "cell_type": "code",
   "execution_count": null,
   "metadata": {},
   "outputs": [],
   "source": [
    "sns.barplot(x=df_all.index,y=df_all['转化率'])\n",
    "for x,y in zip(df_all.index,df_all['转化率']):\n",
    "    plt.text(x=x,y=y,s='{:.4f}'.format(y),ha='center')"
   ]
  },
  {
   "cell_type": "code",
   "execution_count": null,
   "metadata": {},
   "outputs": [],
   "source": [
    "## 通过箱线图看看离群点\n",
    "f = plt.figure(figsize=(16,5))\n",
    "f.add_subplot(1,2,1)\n",
    "sns.boxplot(x='clusters',y='注册总量',data=new_df).set_title('分渠道注册量')\n",
    "f.add_subplot(1,2,2)\n",
    "sns.boxplot(x='clusters',y='总订单数量',data=new_df).set_title('分渠道订单量')\n",
    "plt.show()"
   ]
  },
  {
   "cell_type": "code",
   "execution_count": null,
   "metadata": {},
   "outputs": [],
   "source": [
    "#剩余指标\n",
    "f = plt.figure(figsize=(16,5))\n",
    "f.add_subplot(1,3,1)\n",
    "sns.boxplot(x='clusters',y='总搜索量',data=new_df).set_title('分渠道搜索量')\n",
    "f.add_subplot(1,3,2)\n",
    "sns.boxplot(x='clusters',y='总页面浏览量',data=new_df).set_title('分渠道页面浏览量')\n",
    "f.add_subplot(1,3,3)\n",
    "sns.boxplot(x='clusters',y='总停留时间',data=new_df).set_title('分渠道停留时间')\n",
    "plt.show()"
   ]
  },
  {
   "cell_type": "code",
   "execution_count": null,
   "metadata": {},
   "outputs": [],
   "source": [
    "sns.catplot(x=\"广告类型\", col=\"clusters\", col_wrap=4,data=new_df,kind=\"count\", height=5, aspect=.8)\n",
    "sns.catplot(x=\"广告卖点\", col=\"clusters\", col_wrap=4,data=new_df,kind=\"count\", height=5, aspect=.8)\n",
    "plt.show()"
   ]
  },
  {
   "cell_type": "code",
   "execution_count": null,
   "metadata": {},
   "outputs": [],
   "source": [
    "结论：\n",
    "聚类1（标签0）：欠佳\n",
    "投入低，产出低\n",
    "建议：降低投放比例\n",
    "\n",
    "聚类2（标签1）：欠佳\n",
    "投入高，属于主体渠道，但产出低\n",
    "建议：低性价比，降低投放比例\n",
    "\n",
    "聚类3（标签2）：优质渠道\n",
    "引流注册效果好，转化效果好，存在搜索离群值，该类别中存在及其优质个体\n",
    "建议：增加投放比例，可考虑作为主要投放渠道\n",
    "\n",
    "聚类4（标签3）：欠佳\n",
    "投入高，引流效果和转化效果都不太行\n",
    "建议：性价比低，降低投放比例\n",
    "\n",
    "聚类5（标签3）：引流好\n",
    "搜索量，浏览时间，停留时间整体最佳，有较好的注册率与转化率，渠道网络\n",
    "建议：增加投放比例，进一步挖掘价值\n",
    "\n",
    "聚类6（标签3）：优质渠道\n",
    "投入不高，引流注册最高，转化效果最高，搜索量，浏览时间，停留时间处于平均水平，存在搜索离群值，该类别中存在及其优质个体，渠道网络\n",
    "建议：增加投放比例，进一步挖掘价值\n",
    "\n",
    "聚类7（标签3）：欠佳\n",
    "投入低，产出最低\n",
    "建议：降低投放比例"
   ]
  }
 ],
 "metadata": {
  "kernelspec": {
   "display_name": "Python 3",
   "language": "python",
   "name": "python3"
  },
  "language_info": {
   "codemirror_mode": {
    "name": "ipython",
    "version": 3
   },
   "file_extension": ".py",
   "mimetype": "text/x-python",
   "name": "python",
   "nbconvert_exporter": "python",
   "pygments_lexer": "ipython3",
   "version": "3.8.5"
  },
  "toc": {
   "base_numbering": 1,
   "nav_menu": {},
   "number_sections": true,
   "sideBar": true,
   "skip_h1_title": false,
   "title_cell": "Table of Contents",
   "title_sidebar": "Contents",
   "toc_cell": false,
   "toc_position": {},
   "toc_section_display": true,
   "toc_window_display": false
  }
 },
 "nbformat": 4,
 "nbformat_minor": 4
}
