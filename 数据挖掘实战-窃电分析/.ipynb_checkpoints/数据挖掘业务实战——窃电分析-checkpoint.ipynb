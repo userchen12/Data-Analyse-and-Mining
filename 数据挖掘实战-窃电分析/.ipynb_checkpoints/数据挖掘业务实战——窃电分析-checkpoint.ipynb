{
 "cells": [
  {
   "cell_type": "code",
   "execution_count": 1,
   "metadata": {},
   "outputs": [],
   "source": [
    "import pandas as pd "
   ]
  },
  {
   "cell_type": "code",
   "execution_count": 10,
   "metadata": {},
   "outputs": [],
   "source": [
    "from scipy.interpolate import lagrange\n",
    "data = pd.read_excel(r'G:/数据分析/python数据分析与挖掘/Python数据分析与挖掘实战/chapter6/test/data/missing_data.xls',header=None)"
   ]
  },
  {
   "cell_type": "code",
   "execution_count": 24,
   "metadata": {},
   "outputs": [],
   "source": [
    "\n",
    "\n",
    "#定义插值函数,取值时数据范围不能超过data的边界\n",
    "def insert_value(s, n, k=5):\n",
    "    if n >= 5 and n+k+1 < len(s):\n",
    "        y = s[list(range(n-k,n))+list(range(n+1,n+k+1))]\n",
    "        y = y[y.notnull()]\n",
    "        return lagrange(y.index, list(y))(n)\n",
    "    elif n < 5:\n",
    "        y = s[list(range(0,n))+list(range(n+1,n+k+1))]\n",
    "        y = y[y.notnull()]\n",
    "        return lagrange(y.index, list(y))(n)\n",
    "    elif n+k+1 >= len(s):\n",
    "        y = s[list(range(n-k,n))+list(range(n+1,len(s)))]\n",
    "        y = y[y.notnull()]\n",
    "        return lagrange(y.index, list(y))(n)\n",
    "    \n",
    "    \n",
    "for i in data.columns:\n",
    "    for j in range(len(data)):\n",
    "        if data[i].isnull()[j]:\n",
    "            data[i][j] = insert_value(data[i],j)\n",
    "\n",
    "data.to_excel(r'G:/数据分析/python数据分析与挖掘/Python数据分析与挖掘实战/chapter6/test/data/lagrange_result.xlsx',header=None,index=False)    "
   ]
  },
  {
   "cell_type": "code",
   "execution_count": 16,
   "metadata": {},
   "outputs": [
    {
     "data": {
      "text/plain": [
       "324.0343"
      ]
     },
     "execution_count": 16,
     "metadata": {},
     "output_type": "execute_result"
    }
   ],
   "source": [
    "data[1][0]"
   ]
  },
  {
   "cell_type": "code",
   "execution_count": 17,
   "metadata": {},
   "outputs": [
    {
     "data": {
      "text/html": [
       "<div>\n",
       "<style scoped>\n",
       "    .dataframe tbody tr th:only-of-type {\n",
       "        vertical-align: middle;\n",
       "    }\n",
       "\n",
       "    .dataframe tbody tr th {\n",
       "        vertical-align: top;\n",
       "    }\n",
       "\n",
       "    .dataframe thead th {\n",
       "        text-align: right;\n",
       "    }\n",
       "</style>\n",
       "<table border=\"1\" class=\"dataframe\">\n",
       "  <thead>\n",
       "    <tr style=\"text-align: right;\">\n",
       "      <th></th>\n",
       "      <th>0</th>\n",
       "      <th>1</th>\n",
       "      <th>2</th>\n",
       "    </tr>\n",
       "  </thead>\n",
       "  <tbody>\n",
       "    <tr>\n",
       "      <th>0</th>\n",
       "      <td>235.833300</td>\n",
       "      <td>324.0343</td>\n",
       "      <td>478.3231</td>\n",
       "    </tr>\n",
       "    <tr>\n",
       "      <th>1</th>\n",
       "      <td>236.270800</td>\n",
       "      <td>325.6379</td>\n",
       "      <td>515.4564</td>\n",
       "    </tr>\n",
       "    <tr>\n",
       "      <th>2</th>\n",
       "      <td>238.052100</td>\n",
       "      <td>328.0897</td>\n",
       "      <td>517.0909</td>\n",
       "    </tr>\n",
       "    <tr>\n",
       "      <th>3</th>\n",
       "      <td>235.906300</td>\n",
       "      <td>NaN</td>\n",
       "      <td>514.8900</td>\n",
       "    </tr>\n",
       "    <tr>\n",
       "      <th>4</th>\n",
       "      <td>236.760400</td>\n",
       "      <td>268.8324</td>\n",
       "      <td>NaN</td>\n",
       "    </tr>\n",
       "    <tr>\n",
       "      <th>5</th>\n",
       "      <td>234.544572</td>\n",
       "      <td>404.0480</td>\n",
       "      <td>486.0912</td>\n",
       "    </tr>\n",
       "    <tr>\n",
       "      <th>6</th>\n",
       "      <td>237.416700</td>\n",
       "      <td>391.2652</td>\n",
       "      <td>516.2330</td>\n",
       "    </tr>\n",
       "    <tr>\n",
       "      <th>7</th>\n",
       "      <td>238.656300</td>\n",
       "      <td>380.8241</td>\n",
       "      <td>NaN</td>\n",
       "    </tr>\n",
       "    <tr>\n",
       "      <th>8</th>\n",
       "      <td>237.604200</td>\n",
       "      <td>388.0230</td>\n",
       "      <td>435.3508</td>\n",
       "    </tr>\n",
       "    <tr>\n",
       "      <th>9</th>\n",
       "      <td>238.031300</td>\n",
       "      <td>206.4349</td>\n",
       "      <td>487.6750</td>\n",
       "    </tr>\n",
       "    <tr>\n",
       "      <th>10</th>\n",
       "      <td>235.072900</td>\n",
       "      <td>NaN</td>\n",
       "      <td>NaN</td>\n",
       "    </tr>\n",
       "    <tr>\n",
       "      <th>11</th>\n",
       "      <td>235.531300</td>\n",
       "      <td>400.0787</td>\n",
       "      <td>660.2347</td>\n",
       "    </tr>\n",
       "    <tr>\n",
       "      <th>12</th>\n",
       "      <td>233.171011</td>\n",
       "      <td>411.2069</td>\n",
       "      <td>621.2346</td>\n",
       "    </tr>\n",
       "    <tr>\n",
       "      <th>13</th>\n",
       "      <td>234.468800</td>\n",
       "      <td>395.2343</td>\n",
       "      <td>611.3408</td>\n",
       "    </tr>\n",
       "    <tr>\n",
       "      <th>14</th>\n",
       "      <td>235.500000</td>\n",
       "      <td>344.8221</td>\n",
       "      <td>643.0863</td>\n",
       "    </tr>\n",
       "    <tr>\n",
       "      <th>15</th>\n",
       "      <td>235.635400</td>\n",
       "      <td>385.6432</td>\n",
       "      <td>642.3482</td>\n",
       "    </tr>\n",
       "    <tr>\n",
       "      <th>16</th>\n",
       "      <td>234.552100</td>\n",
       "      <td>401.6234</td>\n",
       "      <td>NaN</td>\n",
       "    </tr>\n",
       "    <tr>\n",
       "      <th>17</th>\n",
       "      <td>236.000000</td>\n",
       "      <td>409.6489</td>\n",
       "      <td>602.9347</td>\n",
       "    </tr>\n",
       "    <tr>\n",
       "      <th>18</th>\n",
       "      <td>235.239600</td>\n",
       "      <td>416.8795</td>\n",
       "      <td>589.3457</td>\n",
       "    </tr>\n",
       "    <tr>\n",
       "      <th>19</th>\n",
       "      <td>235.489600</td>\n",
       "      <td>NaN</td>\n",
       "      <td>556.3452</td>\n",
       "    </tr>\n",
       "    <tr>\n",
       "      <th>20</th>\n",
       "      <td>236.968800</td>\n",
       "      <td>NaN</td>\n",
       "      <td>538.3470</td>\n",
       "    </tr>\n",
       "  </tbody>\n",
       "</table>\n",
       "</div>"
      ],
      "text/plain": [
       "             0         1         2\n",
       "0   235.833300  324.0343  478.3231\n",
       "1   236.270800  325.6379  515.4564\n",
       "2   238.052100  328.0897  517.0909\n",
       "3   235.906300       NaN  514.8900\n",
       "4   236.760400  268.8324       NaN\n",
       "5   234.544572  404.0480  486.0912\n",
       "6   237.416700  391.2652  516.2330\n",
       "7   238.656300  380.8241       NaN\n",
       "8   237.604200  388.0230  435.3508\n",
       "9   238.031300  206.4349  487.6750\n",
       "10  235.072900       NaN       NaN\n",
       "11  235.531300  400.0787  660.2347\n",
       "12  233.171011  411.2069  621.2346\n",
       "13  234.468800  395.2343  611.3408\n",
       "14  235.500000  344.8221  643.0863\n",
       "15  235.635400  385.6432  642.3482\n",
       "16  234.552100  401.6234       NaN\n",
       "17  236.000000  409.6489  602.9347\n",
       "18  235.239600  416.8795  589.3457\n",
       "19  235.489600       NaN  556.3452\n",
       "20  236.968800       NaN  538.3470"
      ]
     },
     "execution_count": 17,
     "metadata": {},
     "output_type": "execute_result"
    }
   ],
   "source": []
  },
  {
   "cell_type": "code",
   "execution_count": 22,
   "metadata": {},
   "outputs": [
    {
     "name": "stdout",
     "output_type": "stream",
     "text": [
      "1 3\n",
      "1 10\n",
      "1 19\n",
      "1 20\n",
      "2 4\n",
      "2 7\n",
      "2 10\n",
      "2 16\n"
     ]
    }
   ],
   "source": [
    "for i in data.columns:\n",
    "    for j in range(len(data)):\n",
    "        if data[i].isnull()[j]:\n",
    "            print(i,j)"
   ]
  },
  {
   "cell_type": "code",
   "execution_count": 28,
   "metadata": {},
   "outputs": [],
   "source": [
    "from random import shuffle\n",
    "\n",
    "filepath = r'G:/数据分析/python数据分析与挖掘/Python数据分析与挖掘实战/chapter6/test/data/model.xls'\n",
    "data = pd.read_excel(filepath)\n",
    "data = data.values\n",
    "shuffle(data)\n",
    "\n",
    "p = 0.8\n",
    "train_data = data[:int(len(data)*p),:]\n",
    "test_data = data[int(len(data)*p):,:]"
   ]
  },
  {
   "cell_type": "code",
   "execution_count": 30,
   "metadata": {},
   "outputs": [
    {
     "data": {
      "text/plain": [
       "array([[4, 1, 1, 1],\n",
       "       [4, 0, 4, 1],\n",
       "       [2, 1, 1, 1],\n",
       "       ...,\n",
       "       [5, 1, 2, 1],\n",
       "       [2, 1, 0, 0],\n",
       "       [4, 1, 0, 0]], dtype=int64)"
      ]
     },
     "execution_count": 30,
     "metadata": {},
     "output_type": "execute_result"
    }
   ],
   "source": [
    "#构建LM神经网络模型\n",
    "\n",
    "from keras.models import Sequential\n",
    "from keras.layers.core import Dense, Activation\n",
    "\n",
    "netfile = "
   ]
  },
  {
   "cell_type": "code",
   "execution_count": null,
   "metadata": {},
   "outputs": [],
   "source": []
  }
 ],
 "metadata": {
  "kernelspec": {
   "display_name": "Python 3",
   "language": "python",
   "name": "python3"
  },
  "language_info": {
   "codemirror_mode": {
    "name": "ipython",
    "version": 3
   },
   "file_extension": ".py",
   "mimetype": "text/x-python",
   "name": "python",
   "nbconvert_exporter": "python",
   "pygments_lexer": "ipython3",
   "version": "3.8.5"
  }
 },
 "nbformat": 4,
 "nbformat_minor": 4
}
