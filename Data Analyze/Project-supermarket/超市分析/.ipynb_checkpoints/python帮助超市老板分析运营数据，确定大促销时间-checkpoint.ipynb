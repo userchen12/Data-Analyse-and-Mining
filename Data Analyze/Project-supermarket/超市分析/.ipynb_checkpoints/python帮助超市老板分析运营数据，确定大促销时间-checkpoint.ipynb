{
 "cells": [
  {
   "cell_type": "markdown",
   "metadata": {},
   "source": [
    "前几天，一位开连锁超市的老板请我帮忙，让我分析一下超市近期的运营数据，通过分析，对超市近期的运行状况有了直观的了解，现在我把这个实例分享给大家"
   ]
  },
  {
   "cell_type": "markdown",
   "metadata": {},
   "source": [
    "## 1.读取数据"
   ]
  },
  {
   "cell_type": "markdown",
   "metadata": {},
   "source": [
    "数据存放在表格中，我们用pandas将其读出来"
   ]
  },
  {
   "cell_type": "code",
   "execution_count": 24,
   "metadata": {},
   "outputs": [
    {
     "data": {
      "text/html": [
       "<div>\n",
       "<style scoped>\n",
       "    .dataframe tbody tr th:only-of-type {\n",
       "        vertical-align: middle;\n",
       "    }\n",
       "\n",
       "    .dataframe tbody tr th {\n",
       "        vertical-align: top;\n",
       "    }\n",
       "\n",
       "    .dataframe thead th {\n",
       "        text-align: right;\n",
       "    }\n",
       "</style>\n",
       "<table border=\"1\" class=\"dataframe\">\n",
       "  <thead>\n",
       "    <tr style=\"text-align: right;\">\n",
       "      <th></th>\n",
       "      <th>商品ID</th>\n",
       "      <th>类别ID</th>\n",
       "      <th>门店编号</th>\n",
       "      <th>单价</th>\n",
       "      <th>销量</th>\n",
       "      <th>成交时间</th>\n",
       "      <th>订单ID</th>\n",
       "    </tr>\n",
       "  </thead>\n",
       "  <tbody>\n",
       "    <tr>\n",
       "      <th>0</th>\n",
       "      <td>30006206</td>\n",
       "      <td>915000003</td>\n",
       "      <td>CDNL</td>\n",
       "      <td>25.23</td>\n",
       "      <td>0.328</td>\n",
       "      <td>2020-10-03 09:56:00</td>\n",
       "      <td>20201003CDLG000210052759</td>\n",
       "    </tr>\n",
       "    <tr>\n",
       "      <th>1</th>\n",
       "      <td>30163281</td>\n",
       "      <td>914010000</td>\n",
       "      <td>CDNL</td>\n",
       "      <td>2.00</td>\n",
       "      <td>2.000</td>\n",
       "      <td>2020-10-03 09:56:00</td>\n",
       "      <td>20201003CDLG000210052759</td>\n",
       "    </tr>\n",
       "    <tr>\n",
       "      <th>2</th>\n",
       "      <td>30200518</td>\n",
       "      <td>922000000</td>\n",
       "      <td>CDNL</td>\n",
       "      <td>19.62</td>\n",
       "      <td>0.230</td>\n",
       "      <td>2020-10-03 09:56:00</td>\n",
       "      <td>20201003CDLG000210052759</td>\n",
       "    </tr>\n",
       "    <tr>\n",
       "      <th>3</th>\n",
       "      <td>29989105</td>\n",
       "      <td>922000000</td>\n",
       "      <td>CDNL</td>\n",
       "      <td>2.80</td>\n",
       "      <td>2.044</td>\n",
       "      <td>2020-10-03 09:56:00</td>\n",
       "      <td>20201003CDLG000210052759</td>\n",
       "    </tr>\n",
       "    <tr>\n",
       "      <th>4</th>\n",
       "      <td>30179558</td>\n",
       "      <td>915000100</td>\n",
       "      <td>CDNL</td>\n",
       "      <td>47.41</td>\n",
       "      <td>0.226</td>\n",
       "      <td>2020-10-03 09:56:00</td>\n",
       "      <td>20201003CDLG000210052759</td>\n",
       "    </tr>\n",
       "    <tr>\n",
       "      <th>...</th>\n",
       "      <td>...</td>\n",
       "      <td>...</td>\n",
       "      <td>...</td>\n",
       "      <td>...</td>\n",
       "      <td>...</td>\n",
       "      <td>...</td>\n",
       "      <td>...</td>\n",
       "    </tr>\n",
       "    <tr>\n",
       "      <th>3473</th>\n",
       "      <td>30031870</td>\n",
       "      <td>915030401</td>\n",
       "      <td>CDXL</td>\n",
       "      <td>6.58</td>\n",
       "      <td>0.862</td>\n",
       "      <td>2020-10-03 10:59:00</td>\n",
       "      <td>20201003CDLG000510025147</td>\n",
       "    </tr>\n",
       "    <tr>\n",
       "      <th>3474</th>\n",
       "      <td>30008276</td>\n",
       "      <td>911010501</td>\n",
       "      <td>CDXL</td>\n",
       "      <td>15.42</td>\n",
       "      <td>0.481</td>\n",
       "      <td>2020-10-03 11:00:00</td>\n",
       "      <td>20201003CDLG000510025148</td>\n",
       "    </tr>\n",
       "    <tr>\n",
       "      <th>3475</th>\n",
       "      <td>30033854</td>\n",
       "      <td>910000000</td>\n",
       "      <td>CDXL</td>\n",
       "      <td>9.62</td>\n",
       "      <td>1.000</td>\n",
       "      <td>2020-10-03 11:17:00</td>\n",
       "      <td>20201003CDLG000510025149</td>\n",
       "    </tr>\n",
       "    <tr>\n",
       "      <th>3476</th>\n",
       "      <td>30206214</td>\n",
       "      <td>910000000</td>\n",
       "      <td>CDXL</td>\n",
       "      <td>15.62</td>\n",
       "      <td>1.000</td>\n",
       "      <td>2020-10-03 11:40:00</td>\n",
       "      <td>20201003CDLG000510025150</td>\n",
       "    </tr>\n",
       "    <tr>\n",
       "      <th>3477</th>\n",
       "      <td>30129510</td>\n",
       "      <td>925090000</td>\n",
       "      <td>CDXL</td>\n",
       "      <td>23.21</td>\n",
       "      <td>0.312</td>\n",
       "      <td>2020-10-03 11:50:00</td>\n",
       "      <td>20201003CDLG000510025151</td>\n",
       "    </tr>\n",
       "  </tbody>\n",
       "</table>\n",
       "<p>3478 rows × 7 columns</p>\n",
       "</div>"
      ],
      "text/plain": [
       "          商品ID       类别ID  门店编号     单价     销量                成交时间  \\\n",
       "0     30006206  915000003  CDNL  25.23  0.328 2020-10-03 09:56:00   \n",
       "1     30163281  914010000  CDNL   2.00  2.000 2020-10-03 09:56:00   \n",
       "2     30200518  922000000  CDNL  19.62  0.230 2020-10-03 09:56:00   \n",
       "3     29989105  922000000  CDNL   2.80  2.044 2020-10-03 09:56:00   \n",
       "4     30179558  915000100  CDNL  47.41  0.226 2020-10-03 09:56:00   \n",
       "...        ...        ...   ...    ...    ...                 ...   \n",
       "3473  30031870  915030401  CDXL   6.58  0.862 2020-10-03 10:59:00   \n",
       "3474  30008276  911010501  CDXL  15.42  0.481 2020-10-03 11:00:00   \n",
       "3475  30033854  910000000  CDXL   9.62  1.000 2020-10-03 11:17:00   \n",
       "3476  30206214  910000000  CDXL  15.62  1.000 2020-10-03 11:40:00   \n",
       "3477  30129510  925090000  CDXL  23.21  0.312 2020-10-03 11:50:00   \n",
       "\n",
       "                          订单ID  \n",
       "0     20201003CDLG000210052759  \n",
       "1     20201003CDLG000210052759  \n",
       "2     20201003CDLG000210052759  \n",
       "3     20201003CDLG000210052759  \n",
       "4     20201003CDLG000210052759  \n",
       "...                        ...  \n",
       "3473  20201003CDLG000510025147  \n",
       "3474  20201003CDLG000510025148  \n",
       "3475  20201003CDLG000510025149  \n",
       "3476  20201003CDLG000510025150  \n",
       "3477  20201003CDLG000510025151  \n",
       "\n",
       "[3478 rows x 7 columns]"
      ]
     },
     "execution_count": 24,
     "metadata": {},
     "output_type": "execute_result"
    }
   ],
   "source": [
    "import pandas as pd\n",
    "data=pd.read_csv('超市运营数据.csv',encoding='gbk',parse_dates=[\"成交时间\"])\n",
    "data"
   ]
  },
  {
   "cell_type": "markdown",
   "metadata": {},
   "source": [
    "## 2.分析哪些类别的商品比较畅销"
   ]
  },
  {
   "cell_type": "markdown",
   "metadata": {},
   "source": [
    "首先将数据按照类别ID进行分组，然后对分组后的销量进行求和，最后用reset_index重置索引"
   ]
  },
  {
   "cell_type": "code",
   "execution_count": null,
   "metadata": {},
   "outputs": [],
   "source": [
    "data_group=data.groupby(\"类别ID\")[\"销量\"].sum().reset_index()\n",
    "data_group"
   ]
  },
  {
   "cell_type": "markdown",
   "metadata": {},
   "source": [
    "为了取出销量最好的10类商品类别，我们可以对data_group按照“销量”进行排序，取出前10个"
   ]
  },
  {
   "cell_type": "code",
   "execution_count": 20,
   "metadata": {},
   "outputs": [
    {
     "data": {
      "text/html": [
       "<div>\n",
       "<style scoped>\n",
       "    .dataframe tbody tr th:only-of-type {\n",
       "        vertical-align: middle;\n",
       "    }\n",
       "\n",
       "    .dataframe tbody tr th {\n",
       "        vertical-align: top;\n",
       "    }\n",
       "\n",
       "    .dataframe thead th {\n",
       "        text-align: right;\n",
       "    }\n",
       "</style>\n",
       "<table border=\"1\" class=\"dataframe\">\n",
       "  <thead>\n",
       "    <tr style=\"text-align: right;\">\n",
       "      <th></th>\n",
       "      <th>类别ID</th>\n",
       "      <th>销量</th>\n",
       "    </tr>\n",
       "  </thead>\n",
       "  <tbody>\n",
       "    <tr>\n",
       "      <th>240</th>\n",
       "      <td>922000003</td>\n",
       "      <td>425.328</td>\n",
       "    </tr>\n",
       "    <tr>\n",
       "      <th>239</th>\n",
       "      <td>922000002</td>\n",
       "      <td>206.424</td>\n",
       "    </tr>\n",
       "    <tr>\n",
       "      <th>251</th>\n",
       "      <td>923000006</td>\n",
       "      <td>190.294</td>\n",
       "    </tr>\n",
       "    <tr>\n",
       "      <th>216</th>\n",
       "      <td>915030104</td>\n",
       "      <td>175.059</td>\n",
       "    </tr>\n",
       "    <tr>\n",
       "      <th>238</th>\n",
       "      <td>922000001</td>\n",
       "      <td>121.355</td>\n",
       "    </tr>\n",
       "    <tr>\n",
       "      <th>367</th>\n",
       "      <td>960000000</td>\n",
       "      <td>121.000</td>\n",
       "    </tr>\n",
       "    <tr>\n",
       "      <th>234</th>\n",
       "      <td>920090000</td>\n",
       "      <td>111.565</td>\n",
       "    </tr>\n",
       "    <tr>\n",
       "      <th>249</th>\n",
       "      <td>923000002</td>\n",
       "      <td>91.847</td>\n",
       "    </tr>\n",
       "    <tr>\n",
       "      <th>237</th>\n",
       "      <td>922000000</td>\n",
       "      <td>86.395</td>\n",
       "    </tr>\n",
       "    <tr>\n",
       "      <th>247</th>\n",
       "      <td>923000000</td>\n",
       "      <td>85.845</td>\n",
       "    </tr>\n",
       "  </tbody>\n",
       "</table>\n",
       "</div>"
      ],
      "text/plain": [
       "          类别ID       销量\n",
       "240  922000003  425.328\n",
       "239  922000002  206.424\n",
       "251  923000006  190.294\n",
       "216  915030104  175.059\n",
       "238  922000001  121.355\n",
       "367  960000000  121.000\n",
       "234  920090000  111.565\n",
       "249  923000002   91.847\n",
       "237  922000000   86.395\n",
       "247  923000000   85.845"
      ]
     },
     "execution_count": 20,
     "metadata": {},
     "output_type": "execute_result"
    }
   ],
   "source": [
    "data_group=data_group.sort_values(by=\"销量\",ascending=False).head(10)\n",
    "data_group"
   ]
  },
  {
   "cell_type": "markdown",
   "metadata": {},
   "source": [
    "## 3.分析哪些商品比较畅销"
   ]
  },
  {
   "cell_type": "markdown",
   "metadata": {},
   "source": [
    "分析逻辑与哪些类别的分析一致，代码如下："
   ]
  },
  {
   "cell_type": "code",
   "execution_count": 21,
   "metadata": {},
   "outputs": [
    {
     "data": {
      "text/html": [
       "<div>\n",
       "<style scoped>\n",
       "    .dataframe tbody tr th:only-of-type {\n",
       "        vertical-align: middle;\n",
       "    }\n",
       "\n",
       "    .dataframe tbody tr th {\n",
       "        vertical-align: top;\n",
       "    }\n",
       "\n",
       "    .dataframe thead th {\n",
       "        text-align: right;\n",
       "    }\n",
       "</style>\n",
       "<table border=\"1\" class=\"dataframe\">\n",
       "  <thead>\n",
       "    <tr style=\"text-align: right;\">\n",
       "      <th></th>\n",
       "      <th>商品ID</th>\n",
       "      <th>销量</th>\n",
       "    </tr>\n",
       "  </thead>\n",
       "  <tbody>\n",
       "    <tr>\n",
       "      <th>8</th>\n",
       "      <td>29989059</td>\n",
       "      <td>391.549</td>\n",
       "    </tr>\n",
       "    <tr>\n",
       "      <th>18</th>\n",
       "      <td>29989072</td>\n",
       "      <td>102.876</td>\n",
       "    </tr>\n",
       "    <tr>\n",
       "      <th>469</th>\n",
       "      <td>30022232</td>\n",
       "      <td>101.000</td>\n",
       "    </tr>\n",
       "    <tr>\n",
       "      <th>523</th>\n",
       "      <td>30031960</td>\n",
       "      <td>99.998</td>\n",
       "    </tr>\n",
       "    <tr>\n",
       "      <th>57</th>\n",
       "      <td>29989157</td>\n",
       "      <td>72.453</td>\n",
       "    </tr>\n",
       "    <tr>\n",
       "      <th>476</th>\n",
       "      <td>30023041</td>\n",
       "      <td>64.416</td>\n",
       "    </tr>\n",
       "    <tr>\n",
       "      <th>505</th>\n",
       "      <td>30026255</td>\n",
       "      <td>62.375</td>\n",
       "    </tr>\n",
       "    <tr>\n",
       "      <th>7</th>\n",
       "      <td>29989058</td>\n",
       "      <td>56.052</td>\n",
       "    </tr>\n",
       "    <tr>\n",
       "      <th>510</th>\n",
       "      <td>30027007</td>\n",
       "      <td>48.757</td>\n",
       "    </tr>\n",
       "    <tr>\n",
       "      <th>903</th>\n",
       "      <td>30171264</td>\n",
       "      <td>45.000</td>\n",
       "    </tr>\n",
       "  </tbody>\n",
       "</table>\n",
       "</div>"
      ],
      "text/plain": [
       "         商品ID       销量\n",
       "8    29989059  391.549\n",
       "18   29989072  102.876\n",
       "469  30022232  101.000\n",
       "523  30031960   99.998\n",
       "57   29989157   72.453\n",
       "476  30023041   64.416\n",
       "505  30026255   62.375\n",
       "7    29989058   56.052\n",
       "510  30027007   48.757\n",
       "903  30171264   45.000"
      ]
     },
     "execution_count": 21,
     "metadata": {},
     "output_type": "execute_result"
    }
   ],
   "source": [
    "data_group=data.groupby(\"商品ID\")[\"销量\"].sum().reset_index().sort_values(by=\"销量\",ascending=False).head(10)\n",
    "data_group"
   ]
  },
  {
   "cell_type": "markdown",
   "metadata": {},
   "source": [
    "## 4.分析不同门店的销售额占比"
   ]
  },
  {
   "cell_type": "markdown",
   "metadata": {},
   "source": [
    "首先计算销售额，并添加到数据中："
   ]
  },
  {
   "cell_type": "code",
   "execution_count": null,
   "metadata": {},
   "outputs": [],
   "source": [
    "data['销售额']=data['销量']*data['单价']\n",
    "data"
   ]
  },
  {
   "cell_type": "markdown",
   "metadata": {},
   "source": [
    "按照门店进行分组，对分组后的营业额进行求和："
   ]
  },
  {
   "cell_type": "code",
   "execution_count": 23,
   "metadata": {},
   "outputs": [
    {
     "data": {
      "text/html": [
       "<div>\n",
       "<style scoped>\n",
       "    .dataframe tbody tr th:only-of-type {\n",
       "        vertical-align: middle;\n",
       "    }\n",
       "\n",
       "    .dataframe tbody tr th {\n",
       "        vertical-align: top;\n",
       "    }\n",
       "\n",
       "    .dataframe thead th {\n",
       "        text-align: right;\n",
       "    }\n",
       "</style>\n",
       "<table border=\"1\" class=\"dataframe\">\n",
       "  <thead>\n",
       "    <tr style=\"text-align: right;\">\n",
       "      <th></th>\n",
       "      <th>门店编号</th>\n",
       "      <th>销售额</th>\n",
       "    </tr>\n",
       "  </thead>\n",
       "  <tbody>\n",
       "    <tr>\n",
       "      <th>0</th>\n",
       "      <td>CDLG</td>\n",
       "      <td>10908.82612</td>\n",
       "    </tr>\n",
       "    <tr>\n",
       "      <th>1</th>\n",
       "      <td>CDNL</td>\n",
       "      <td>8059.47867</td>\n",
       "    </tr>\n",
       "    <tr>\n",
       "      <th>2</th>\n",
       "      <td>CDXL</td>\n",
       "      <td>9981.76166</td>\n",
       "    </tr>\n",
       "  </tbody>\n",
       "</table>\n",
       "</div>"
      ],
      "text/plain": [
       "   门店编号          销售额\n",
       "0  CDLG  10908.82612\n",
       "1  CDNL   8059.47867\n",
       "2  CDXL   9981.76166"
      ]
     },
     "execution_count": 23,
     "metadata": {},
     "output_type": "execute_result"
    }
   ],
   "source": [
    "data_group=data.groupby('门店编号')['销售额'].sum().reset_index()\n",
    "data_group"
   ]
  },
  {
   "cell_type": "markdown",
   "metadata": {},
   "source": [
    "用饼图画出销售额占比："
   ]
  },
  {
   "cell_type": "code",
   "execution_count": null,
   "metadata": {},
   "outputs": [],
   "source": [
    "from pyecharts import options as opts\n",
    "from pyecharts.charts import Pie\n",
    "x=list(data_group['门店编号'])\n",
    "y=list(data_group['销售额'])\n",
    "pie = (\n",
    "    Pie()\n",
    "   .add(\n",
    "        \"\",\n",
    "        [(i,j)for i,j in zip(x,y)],\n",
    "        radius=[\"30%\", \"75%\"],\n",
    "        center=[\"50%\", \"50%\"],\n",
    "        rosetype=\"radius\",\n",
    "        label_opts=opts.LabelOpts(is_show=False),\n",
    "    )\n",
    "    .set_global_opts(title_opts=opts.TitleOpts(title=\"门店销售额占比\"))\n",
    "    .set_series_opts(label_opts=opts.LabelOpts(formatter=\"{b}: {d}\"))\n",
    ")\n",
    "pie.render_notebook()"
   ]
  },
  {
   "cell_type": "markdown",
   "metadata": {},
   "source": [
    "## 5.分析超市客流高分高峰时间段"
   ]
  },
  {
   "cell_type": "markdown",
   "metadata": {},
   "source": [
    "了解客流高峰时间段是很有必要的，可以帮助超市确定什么时间开展促销活动最合适"
   ]
  },
  {
   "cell_type": "markdown",
   "metadata": {},
   "source": [
    "首先从日期中提取小时数"
   ]
  },
  {
   "cell_type": "code",
   "execution_count": null,
   "metadata": {},
   "outputs": [],
   "source": [
    "data['小时']=data['成交时间'].map(lambda x:int(x.strftime(\"%H\")))\n",
    "data"
   ]
  },
  {
   "cell_type": "markdown",
   "metadata": {},
   "source": [
    "对小时和订单进行去重"
   ]
  },
  {
   "cell_type": "code",
   "execution_count": null,
   "metadata": {},
   "outputs": [],
   "source": [
    "traffic=data[['小时','订单ID']].drop_duplicates()\n",
    "traffic"
   ]
  },
  {
   "cell_type": "markdown",
   "metadata": {},
   "source": [
    "计算每小时的订单量"
   ]
  },
  {
   "cell_type": "code",
   "execution_count": 22,
   "metadata": {},
   "outputs": [
    {
     "data": {
      "text/plain": [
       "小时\n",
       "6      10\n",
       "7      37\n",
       "8     106\n",
       "9     156\n",
       "10    143\n",
       "11     63\n",
       "13     30\n",
       "14     36\n",
       "15     17\n",
       "16     50\n",
       "17     73\n",
       "18     71\n",
       "19     71\n",
       "20     39\n",
       "21     16\n",
       "Name: 订单ID, dtype: int64"
      ]
     },
     "execution_count": 22,
     "metadata": {},
     "output_type": "execute_result"
    }
   ],
   "source": [
    "traffic_count=traffic.groupby(\"小时\")[\"订单ID\"].count()\n",
    "traffic_count"
   ]
  },
  {
   "cell_type": "markdown",
   "metadata": {},
   "source": [
    "画出折线图："
   ]
  },
  {
   "cell_type": "code",
   "execution_count": null,
   "metadata": {},
   "outputs": [],
   "source": [
    "import pyecharts.options as opts\n",
    "from pyecharts.charts import Line\n",
    "x=[str(i) for i in list(range(6,22))]\n",
    "y=list(traffic_count)\n",
    "line=(\n",
    "    Line()\n",
    "    .add_xaxis(xaxis_data=x)\n",
    "    .add_yaxis(series_name=\"销量\",y_axis=y, is_smooth=True)\n",
    "    .set_global_opts(\n",
    "        title_opts=opts.TitleOpts(title=\"不同时段销量折线图\"),\n",
    "        yaxis_opts=opts.AxisOpts(\n",
    "                axistick_opts=opts.AxisTickOpts(is_show=True),\n",
    "                splitline_opts=opts.SplitLineOpts(is_show=True),\n",
    "            ),)\n",
    ")\n",
    "line.render_notebook()"
   ]
  },
  {
   "cell_type": "markdown",
   "metadata": {},
   "source": [
    "从上图可以发现，8点至10点是超市一天中的销量高峰期，然后17至19点又有一个小高峰"
   ]
  }
 ],
 "metadata": {
  "kernelspec": {
   "display_name": "Python 3",
   "language": "python",
   "name": "python3"
  },
  "language_info": {
   "codemirror_mode": {
    "name": "ipython",
    "version": 3
   },
   "file_extension": ".py",
   "mimetype": "text/x-python",
   "name": "python",
   "nbconvert_exporter": "python",
   "pygments_lexer": "ipython3",
   "version": "3.7.0b4"
  }
 },
 "nbformat": 4,
 "nbformat_minor": 4
}
