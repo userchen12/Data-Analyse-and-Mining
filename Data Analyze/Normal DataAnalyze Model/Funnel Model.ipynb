{
 "cells": [
  {
   "cell_type": "markdown",
   "id": "6209dce0-f4a6-4628-ae95-6324dcc7269e",
   "metadata": {},
   "source": [
    "## 漏斗模型分析\n",
    "\n",
    "转化漏斗模型，是分析用户使用某项业务时，经过一系列步骤转化效果的方法。\n",
    "\n",
    "转化分析的本质是为了促进企业的核心业务的流通，最大化每个营销漏斗的转化率。\n",
    "\n",
    "在理想情况下，用户会沿着产品设计的路径到达最终目标事件，但实际情况是用户的行为路径是多种多样。\n",
    "\n",
    "通过埋点事件配置关键业务路径，可以分析多种业务场景下转化和流失的情况，不仅找出产品潜在问题的位置，还可以定位每个环节流失用户，进而定向营销促转化。\n",
    "\n",
    "现在有一份电商数据，用户行为数据，从浏览到交易成功数据，以此数据绘制每个行为阶段转化情况。\n",
    "\n",
    "浏览商品-搜索-添加购物车-下单-付款-交易成功，每个环节的的转化率=此阶段人数/上一阶段人数。"
   ]
  },
  {
   "cell_type": "code",
   "execution_count": null,
   "id": "653ef6b9-26ee-4ffc-a2f5-e237d28876bb",
   "metadata": {},
   "outputs": [],
   "source": [
    "import pandas as pd\n",
    "import warnings\n",
    "warnings.filterwarnings('ignore')\n",
    "\n",
    "df = pd.read_excel('漏斗转化分析.xlsx')\n",
    "df.columns"
   ]
  },
  {
   "cell_type": "code",
   "execution_count": null,
   "id": "419b7a48-9553-4b51-960c-aa8997d86989",
   "metadata": {},
   "outputs": [],
   "source": [
    "#求得每一步骤的人数\n",
    "df_filter = df['行为阶段'].value_counts().reset_index()\n",
    "df_filter['上一阶段'] = df_filter['行为阶段'].shift(1)\n",
    "#修正第一行的值\n",
    "df_filter.at[0,'上一阶段'] = 580\n",
    "df_filter['转化率'] = df_filter['行为阶段'] / df_filter['上一阶段']\n",
    "df = df_filter\n",
    "df"
   ]
  },
  {
   "cell_type": "code",
   "execution_count": null,
   "id": "99176914-2760-4fd4-a0a7-b92cd56d6d10",
   "metadata": {},
   "outputs": [],
   "source": [
    "#画图\n",
    "from pyecharts import options as opts\n",
    "from pyecharts.charts import Funnel\n",
    "\n",
    "\n",
    "# 添加百分比显示\n",
    "behav = list(df['index'])\n",
    "transfer = list(df['转化率'])\n",
    "label = []\n",
    "for i in range(len(behav)):\n",
    "    l = behav[i] + str(round(transfer[i]*100,2)) + '%'\n",
    "    label.append(l)\n",
    "\n",
    "c = (\n",
    "    Funnel()\n",
    "    .add(\"行为\", [list(z) for z in zip(label,\n",
    "                                     list(df['行为阶段']))],\n",
    "        label_opts=opts.LabelOpts(is_show=True, position=\"inside\"),\n",
    "         tooltip_opts=opts.TooltipOpts(trigger=\"item\", formatter=\"{a} <br/>{b} : {c}人\"),\n",
    "        )\n",
    "    .set_global_opts(\n",
    "        title_opts=opts.TitleOpts(\n",
    "            title=\"转化漏斗\"\n",
    "        )\n",
    "    )\n",
    ")\n",
    "c.render('./转化漏斗.html')\n",
    "c.render_notebook()"
   ]
  }
 ],
 "metadata": {
  "kernelspec": {
   "display_name": "Python 3 (ipykernel)",
   "language": "python",
   "name": "python3"
  },
  "language_info": {
   "codemirror_mode": {
    "name": "ipython",
    "version": 3
   },
   "file_extension": ".py",
   "mimetype": "text/x-python",
   "name": "python",
   "nbconvert_exporter": "python",
   "pygments_lexer": "ipython3",
   "version": "3.9.13"
  }
 },
 "nbformat": 4,
 "nbformat_minor": 5
}
