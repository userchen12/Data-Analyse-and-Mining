{
 "cells": [
  {
   "cell_type": "markdown",
   "id": "c05acfe6-7f93-4795-a78f-1895b3e31297",
   "metadata": {},
   "source": [
    "## 用户生命周期模型：\n",
    "主要可以分为三种类型：\n",
    "\n",
    "### 1. 历史数据拟合模型\n",
    "这个是最简单，就是根据往年的CLV打标签，然后用今年的标签匹配\n",
    "\n",
    "### 2. BG/NBD概率模型\n",
    "典型的Non-Contractual：n the non-contractual world, customers do go away, but they do so silently，这种假设用户的购买行为遵从一定的概率分布：\n",
    "其中涉及到的几个重要指标：\n",
    "- recency_i = 第一次消费距离上次消费的时间长度( 0 < recency_i < T_i)\n",
    "- frequency_i = 客户重复购买商品的次数\n",
    "    - freq = 0 => 购买过一次;freq = 1购买过两次\n",
    "- T_i = 顾客i第一次消费到现在的时间长度\n",
    "\n",
    "### 3. 机器学习模型\n",
    "这个和正常的数据挖掘是一样的，通过跑模型来拟合，可以估计到个体层面\n",
    "参考此路径的基础model：..\\Project\\Self Project\\用户生命周期价值预测"
   ]
  },
  {
   "cell_type": "code",
   "execution_count": null,
   "id": "a0b11518-9ef2-4e7d-99b1-8629c9d8c7a9",
   "metadata": {},
   "outputs": [],
   "source": [
    "import pandas as pd\n",
    "filePath = r'Online Retail Clean Data.xlsx'\n",
    "df = pd.read_excel(filePath)\n",
    "\n",
    "#计算三个feature\n",
    "df['Buy_first'] = df.groupby(['CustomerID','StockCode'], as_index=False)['InvoiceDate'].transform('min')\n",
    "df['Buy_last'] = df.groupby(['CustomerID','StockCode'], as_index=False)['InvoiceDate'].transform('max')\n",
    "df['recency'] = (df['Buy_last'] - df['Buy_first']).dt.days\n",
    "\n",
    "df['frequency'] = df.groupby(['CustomerID','StockCode'], as_index=False)['InvoiceNo'].transform('count')\n",
    "df['frequency'] = df['frequency']-1\n",
    "\n",
    "df['T'] = (df['InvoiceDate'].max()-df['Buy_first']).dt.days\n",
    "df['monetary_value'] = df['Quantity'] * df['UnitPrice']\n",
    "\n",
    "df['monetary_value'] = df.groupby(['CustomerID','StockCode'], as_index=False)['monetary_value'].transform('mean')\n",
    "# df = df[['CustomerID', 'frequency', 'recency', 'T', 'monetary_value']]"
   ]
  },
  {
   "cell_type": "code",
   "execution_count": null,
   "id": "76869448-dab0-4c8b-9532-541485893e7e",
   "metadata": {},
   "outputs": [],
   "source": [
    "from lifetimes import BetaGeoFitter\n",
    "bgf = BetaGeoFitter(penalizer_coef=1)\n",
    "bgf.fit(df['frequency'], df['recency'], df['T'])\n",
    "print(bgf)\n",
    "\n",
    "# 可视化（频率/新进度）矩阵\n",
    "from lifetimes.plotting import plot_frequency_recency_matrix\n",
    "import matplotlib.pyplot as plt\n",
    "fig = plt.figure(figsize=(12,8))\n",
    "plot_frequency_recency_matrix(bgf,T=1)"
   ]
  },
  {
   "cell_type": "markdown",
   "id": "907ac03c-ce77-4628-ae4e-9aa6df123a5d",
   "metadata": {},
   "source": [
    "结论：我们可以看到，如果一个客户从你这里购买了80次，并且他们最近一次购买是在他们350天内的时候，那么他们就是你最好的客户(右下角)，也就是在接下来T期时间内，购买概率高，预测的交易数最多。\n",
    " 你最冷的顾客是那些在右上角的:他们很快买了很多东西，我们已经好几个星期没见过他们了。\n",
    "\n",
    "在(10,250)附近还有美丽的“尾巴”。这代表那些不经常购物的顾客，但我们最近见过他或她，所以他们可能会再次购买——我们不确定他们是已经死了还是只是在购物之间。\n",
    "\n",
    "不过，一般来说，就是右下角本来意义不大，因为肯定这群购买频繁，时间久的是潜客；\n",
    "值得召回的是中间“彗星尾巴”的人，这群人还处于“犹豫不定”状态。"
   ]
  },
  {
   "cell_type": "code",
   "execution_count": null,
   "id": "f84cad92-94c4-4ff9-8137-81ab0a87512b",
   "metadata": {},
   "outputs": [],
   "source": [
    "from lifetimes.plotting import plot_probability_alive_matrix\n",
    "fig = plt.figure(figsize=(12,8))\n",
    "plot_probability_alive_matrix(bgf)\n",
    "\n",
    "t = 1\n",
    "df['predicted_purchases'] = bgf.conditional_expected_number_of_purchases_up_to_time(t, \n",
    "                                  df['frequency'], df['recency'], df['T'])\n",
    "df.sort_values(by='predicted_purchases', ascending=False).head()"
   ]
  },
  {
   "cell_type": "code",
   "execution_count": null,
   "id": "abff3bf7-057c-431a-967a-e49f40fb4a33",
   "metadata": {},
   "outputs": [],
   "source": [
    "#评估模型效果方式一：模型验证重复购买频率\n",
    "from lifetimes.plotting import plot_period_transactions\n",
    "plot_period_transactions(bgf)"
   ]
  },
  {
   "cell_type": "code",
   "execution_count": null,
   "id": "1a5b5b18-a544-44bc-9181-5022252c34d2",
   "metadata": {},
   "outputs": [],
   "source": [
    "#模型训练\n",
    "# 现在将数据集划分为校准周期数据集和保持数据集。\n",
    "# 这很重要，因为我们想要测试我们的模型如何对尚未看到的数据执行（就像机器学习实践中的交叉验证一样）\n",
    "\n",
    "# 时间划分为三段: 最开始2010/12/1 -> 2010/12/8 -> 2011/2/23(结束)\n",
    "\n",
    "# 训练集 - 2010/12/1 - 2010/12/8\n",
    "# 验证集 - 2010/12/9 - 2011/2/23\n",
    "\n",
    "from lifetimes.utils import calibration_and_holdout_data\n",
    "\n",
    "summary_cal_holdout = calibration_and_holdout_data(df, 'CustomerID', 'InvoiceDate',\n",
    "                                        calibration_period_end='2010-12-08',\n",
    "                                        observation_period_end='2011-02-23' )   \n",
    "\n",
    "summary_cal_holdout.head()"
   ]
  },
  {
   "cell_type": "code",
   "execution_count": null,
   "id": "aa2d02c2-5cc3-4928-8574-c912c473118a",
   "metadata": {},
   "outputs": [],
   "source": [
    "#预测结果\n",
    "from lifetimes.plotting import plot_calibration_purchases_vs_holdout_purchases\n",
    "bgf.fit(summary_cal_holdout['frequency_cal'], summary_cal_holdout['recency_cal'], summary_cal_holdout['T_cal'])\n",
    "plot_calibration_purchases_vs_holdout_purchases(bgf, summary_cal_holdout)"
   ]
  },
  {
   "cell_type": "markdown",
   "id": "cf9d514f-7f75-4f5a-adea-81b12c4fe6f0",
   "metadata": {},
   "source": [
    "#结论：该图通过重复购买次数（x轴）对校准期内的所有客户进行分组，然后在保持期（y轴）中对其重复购买进行平均。\n",
    " 橙线和蓝线分别表示模型预测和y轴的实际结果。正如我们所看到的，我们的模型能够非常准确地预测出样本中客户群的行为，\n",
    " 模型低估了4次购买和5次购买后。"
   ]
  },
  {
   "cell_type": "code",
   "execution_count": null,
   "id": "bdb3163d-342c-428b-8812-299b81a78cf4",
   "metadata": {},
   "outputs": [],
   "source": [
    "#客户交易预测：\n",
    "#根据客户历史记录，我们现在可以预测个人未来的购买情况：\n",
    "t = 10\n",
    "individual = df.loc[12347]\n",
    "bgf.predict(t, individual['frequency'], individual['recency'], individual['T'])\n",
    "#预测12347用户未来10天内购买商品为概率为0.00123"
   ]
  },
  {
   "cell_type": "code",
   "execution_count": null,
   "id": "97a590bf-bdea-45d8-97c6-bb7a1c90d41e",
   "metadata": {},
   "outputs": [],
   "source": [
    "#客户概率历史\n",
    "#根据客户交易历史记录，我们可以根据我们训练的模型计算其存活的历史概率。\n",
    "#例如，我们想看看我们最好的客户的交易历史，看看活着的可能性：\n",
    "from lifetimes.plotting import plot_history_alive\n",
    "import matplotlib.pyplot as plt\n",
    "fig = plt.figure(figsize=(12,8))\n",
    "id = 14606\n",
    "days_since_birth = 365\n",
    "sp_trans = df.loc[df['CustomerID'] == id]\n",
    "plot_history_alive(bgf, days_since_birth, sp_trans, 'InvoiceDate')\n",
    "\n",
    "# 图二\n",
    "fig = plt.figure(figsize=(12,8))\n",
    "id = 15858\n",
    "days_since_birth = 365\n",
    "sp_trans = df.loc[df['CustomerID'] == id]\n",
    "plot_history_alive(bgf, days_since_birth, sp_trans, 'InvoiceDate')"
   ]
  },
  {
   "cell_type": "code",
   "execution_count": null,
   "id": "c00fa2fb-97b1-4f12-9675-63b9cebd7249",
   "metadata": {},
   "outputs": [],
   "source": [
    "# gamma-gamma模型估算客户终生价值\n",
    "# 该模型有个重要前提：购买频次和购买金额无相关性\n",
    "#模型相关性\n",
    "returning_customers_summary = df[df['frequency']>0]\n",
    "returning_customers_summary.shape[0]\n",
    "returning_customers_summary[['frequency','monetary_value']].corr()\n",
    "\n",
    "# 我们用来估计用户群的CLV的模型叫做Gamma-Gamma子模型，它依赖于一个重要的假设。\n",
    "#  实际上，Gamma-Gamma子模型假设货币价值和购买频率之间没有关系。\n",
    "#  在实践中，我们需要检查两个向量之间的Pearson相关性是否接近于0，才能使用这个模型。"
   ]
  },
  {
   "cell_type": "code",
   "execution_count": null,
   "id": "6ea8ebe2-bdad-477d-af3a-b527c954fa2b",
   "metadata": {},
   "outputs": [],
   "source": [
    "# gamma-gamma模型训练\n",
    "\n",
    "from lifetimes import GammaGammaFitter\n",
    "ggf = GammaGammaFitter(penalizer_coef = 0.1)\n",
    "\n",
    "returning_customers_summary = returning_customers_summary[returning_customers_summary['monetary_value'] > 0]\n",
    "\n",
    "ggf.fit(returning_customers_summary['frequency'],\n",
    "        returning_customers_summary['monetary_value'])\n",
    "\n",
    "# 这样我们可以估算每个客户的平均交易价值\n",
    "ggf.conditional_expected_average_profit(\n",
    "        returning_customers_summary['frequency'],\n",
    "        returning_customers_summary['monetary_value']\n",
    "    ).head()"
   ]
  },
  {
   "cell_type": "code",
   "execution_count": null,
   "id": "79c18f97-d01e-4e75-b38f-cd7e1fb3b98e",
   "metadata": {},
   "outputs": [],
   "source": [
    "#使用DCF method计算CLV\n",
    "# Discount Cash Flow, DCF 现金流折现，得到用户总体价值的当下估值。\n",
    "\n",
    "bgf.fit(returning_customers_summary['frequency'], returning_customers_summary['recency'], returning_customers_summary['T'])\n",
    "\n",
    "print(ggf.customer_lifetime_value(\n",
    "    bgf, #the model to use to predict the number of future transactions\n",
    "    returning_customers_summary['frequency'],\n",
    "    returning_customers_summary['recency'],\n",
    "    returning_customers_summary['T'],\n",
    "    returning_customers_summary['monetary_value'],\n",
    "    time=12, # months\n",
    "    discount_rate=0.01 # monthly discount rate ~ 12.7% annually\n",
    ").head(10))"
   ]
  },
  {
   "cell_type": "code",
   "execution_count": null,
   "id": "d33697d8-90fd-4782-81cf-682a628b1bd2",
   "metadata": {},
   "outputs": [],
   "source": [
    "#BG-NBD模型用于客群分析\n",
    "import numpy as np\n",
    "from scipy.optimize import minimize\n",
    "\n",
    "from scipy.special import gammaln\n",
    "\n",
    "def negative_log_likelihood(params, x, t_x, T):\n",
    "    if np.any(np.asarray(params) <= 0):\n",
    "        return np.inf\n",
    "\n",
    "    r, alpha, a, b = params\n",
    "\n",
    "    ln_A_1 = gammaln(r + x) - gammaln(r) + r * np.log(alpha)\n",
    "    ln_A_2 = (gammaln(a + b) + gammaln(b + x) - gammaln(b) -\n",
    "           gammaln(a + b + x))\n",
    "    ln_A_3 = -(r + x) * np.log(alpha + T)\n",
    "    ln_A_4 = x.copy()\n",
    "    ln_A_4[ln_A_4 > 0] = (\n",
    "        np.log(a) -\n",
    "        np.log(b + ln_A_4[ln_A_4 > 0] - 1) -\n",
    "        (r + ln_A_4[ln_A_4 > 0]) * np.log(alpha + t_x)\n",
    "    )\n",
    "    \n",
    "    delta =  np.where(x>0, 1, 0)\n",
    "    \n",
    "    log_likelihood = ln_A_1 + ln_A_2 + np.log(np.exp(ln_A_3) + delta * np.exp(ln_A_4))\n",
    "    return -log_likelihood.sum()\n",
    "\n",
    "scale = 1 / df['T'].max()\n",
    "scaled_recency = df['recency'] * scale\n",
    "scaled_T = df['T'] * scale\n",
    "\n",
    "\n",
    "def _func_caller(params, func_args, function):\n",
    "    return function(params, *func_args)\n",
    "\n",
    "current_init_params = np.array([1.0, 1.0, 1.0, 1.0])\n",
    "output = minimize(\n",
    "    _func_caller,\n",
    "    method=\"Nelder-Mead\",\n",
    "    tol=0.0001,\n",
    "    x0=current_init_params,\n",
    "    args=([df['frequency'], scaled_recency, scaled_T], negative_log_likelihood),\n",
    "    options={'maxiter': 2000}\n",
    ")\n",
    "\n",
    "r = output.x[0]\n",
    "alpha = output.x[1]\n",
    "a = output.x[2]\n",
    "b = output.x[3]\n",
    "\n",
    "alpha /= scale\n",
    "\n",
    "print(\"r = {}\".format(r))\n",
    "print(\"alpha = {}\".format(alpha))\n",
    "print(\"a = {}\".format(a))\n",
    "print(\"b = {}\".format(b))"
   ]
  },
  {
   "cell_type": "code",
   "execution_count": null,
   "id": "852c7e9f-a251-4a8c-b8f3-360ccfaa5692",
   "metadata": {},
   "outputs": [],
   "source": [
    "#整体销量预测\n",
    "from scipy.special import hyp2f1\n",
    "\n",
    "\n",
    "# 现在通过以上代码预测未来52周单个用户的交易次数为0.542次，但计算E(x)为总的用户购买总次数，\n",
    "#  这里不能简单的通过单个用户交易次数乘以总用户数得到，因为每个用户的第一次交易时间点不同。\n",
    "def expected_sales_to_time_t(t):\n",
    "    hyp2f1_a = r\n",
    "    hyp2f1_b = b\n",
    "    hyp2f1_c = a + b - 1\n",
    "    hyp2f1_z = t / (alpha + t)\n",
    "    hyp_term = hyp2f1(hyp2f1_a, hyp2f1_b, hyp2f1_c, hyp2f1_z)\n",
    "    \n",
    "    return ((a + b - 1) / (a - 1)) * (1-(((alpha / (alpha+t)) ** r) * hyp_term))\n",
    "\n",
    "\n",
    "expected_sales_to_time_t(52)\n",
    "\n"
   ]
  },
  {
   "cell_type": "code",
   "execution_count": null,
   "id": "d62bc5ee-e25f-4c55-86e4-4bfd9c8ae825",
   "metadata": {},
   "outputs": [],
   "source": [
    "# Period of consideration is 39 weeks.\n",
    "# T indicates the length of time since first purchase\n",
    "n_s = (39*7 - df['T']).value_counts().sort_index()\n",
    "\n",
    "n_s.head()"
   ]
  },
  {
   "cell_type": "code",
   "execution_count": null,
   "id": "b3f29998-3377-4c51-ac11-f4b61f717149",
   "metadata": {},
   "outputs": [],
   "source": [
    "#最后算出接下来78周用户的交易总次数为4156次。\n",
    "forecast_range = np.arange(0, 78, 1/7.0)\n",
    "\n",
    "def cumulative_repeat_transactions_to_t(t):\n",
    "    expected_transactions_per_customer = (t - n_s.index).map(lambda x: expected_sales_to_time_t(x) if x > 0 else 0)\n",
    "    expected_transactions_all_customers = (expected_transactions_per_customer * n_s).values\n",
    "    return expected_transactions_all_customers.sum()\n",
    "\n",
    "cum_rpt_sales = pd.Series(map(cumulative_repeat_transactions_to_t, forecast_range), index=forecast_range)\n",
    "\n",
    "cum_rpt_sales.tail(10)"
   ]
  },
  {
   "cell_type": "code",
   "execution_count": null,
   "id": "f9208ae3-eb4e-4942-be65-b93d295cbbeb",
   "metadata": {},
   "outputs": [],
   "source": [
    "#单个用户交易预测的条件\n",
    "# 某用户过去38.86周内(T=38.86)交易两次(x=2)\n",
    "#  第二次交易时间为30.43周(tx=30.43)的条件\n",
    "#  计算得到该用户在未来39周将交易7.38次。\n",
    "def calculate_conditional_expectation(t, x, t_x, T):\n",
    "    first_term = (a + b + x - 1) / (a-1)\n",
    "    hyp2f1_a = r + x\n",
    "    hyp2f1_b = b + x\n",
    "    hyp2f1_c = a + b + x - 1\n",
    "    hyp2f1_z = t / (alpha + T + t)\n",
    "    hyp_term = hyp2f1(hyp2f1_a, hyp2f1_b, hyp2f1_c, hyp2f1_z)\n",
    "    second_term = (1 - ((alpha + T) / (alpha + T + t)) ** (r + x) * hyp_term)\n",
    "    delta = 1 if x > 0 else 0\n",
    "    denominator = 1 + delta * (a / (b + x - 1)) * ((alpha + T) / (alpha + t_x)) ** (r+x)\n",
    "    return first_term * second_term / denominator\n",
    "\n",
    "\n",
    "calculate_conditional_expectation(39, 2, 30.43, 38.86)"
   ]
  },
  {
   "cell_type": "markdown",
   "id": "7980e19c-d083-4024-ad01-a72eba2e6a82",
   "metadata": {},
   "source": [
    "## 典型机器学习调参实例\n",
    "以lightgbm为例"
   ]
  },
  {
   "cell_type": "code",
   "execution_count": null,
   "id": "5a1e8e0a-eecc-40c6-b75b-e053686b2859",
   "metadata": {},
   "outputs": [],
   "source": []
  }
 ],
 "metadata": {
  "kernelspec": {
   "display_name": "Python 3 (ipykernel)",
   "language": "python",
   "name": "python3"
  },
  "language_info": {
   "codemirror_mode": {
    "name": "ipython",
    "version": 3
   },
   "file_extension": ".py",
   "mimetype": "text/x-python",
   "name": "python",
   "nbconvert_exporter": "python",
   "pygments_lexer": "ipython3",
   "version": "3.9.13"
  }
 },
 "nbformat": 4,
 "nbformat_minor": 5
}
